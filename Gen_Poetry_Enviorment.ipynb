{
 "cells": [
  {
   "cell_type": "markdown",
   "metadata": {},
   "source": [
    "# Python: Virtual Environments\n",
    "\n",
    "## Was ist ein virtuelles Environment?\n",
    "\n",
    "Eine virtuelle Umgebung in Python ist ein isolierter Arbeitsbereich, in dem  eine eigene Python-Installation mit separaten Abhängigkeiten (Bibliotheken) erstellt wird. Dadurch kannst du verschiedene Projekte mit unterschiedlichen Versionen von Bibliotheken oder Python selbst verwalten, ohne dass es zu Konflikten zwischen den Projekten kommt.\n",
    "\n",
    "Das Hauptziel einer virtuellen Umgebung ist es, sicherzustellen, dass Abhängigkeiten eines Projekts nicht mit denen eines anderen Projekts kollidieren. Wenn du zum Beispiel für ein Projekt Bibliothek A in Version 1.0 und für ein anderes Projekt dieselbe Bibliothek in Version 2.0 benötigst, kannst du für jedes Projekt eine eigene virtuelle Umgebung einrichten, um beide Versionen parallel zu nutzen, ohne das Konflikte zwischen Paketen oder Paketen und Python entstehen.\n",
    "\n",
    "# Warum sollte ein virtuelles Environment genutzt werden?\n",
    "\n",
    "Ein virtuelles Environment in Python bietet mehrere Vorteile, die es zu einem wichtigen Werkzeug machen, insbesondere bei der Arbeit an mehreren Projekten:\n",
    "\n",
    "1. **Isolierung von Abhängigkeiten**: Projekte können unterschiedliche Versionen von Bibliotheken benötigen (Ggf. auch zwei Versionen einer Bibliothek gleichzeitig). Ein virtuelles Environment verhindert Konflikte, indem es die Bibliotheken eines Projekts von denen anderer Projekte trennt.\n",
    "2. **Vermeidung von Systemänderungen**: Ohne ein virtuelles Environment werden Python-Pakete oft global installiert, was zu ungewollten Änderungen an der Systemkonfiguration führen kann. Virtuelle Umgebungen schützen das System vor solchen Änderungen.\n",
    "3. **Kompatibilität:** Unterschiedliche Projekte können unterschiedliche Versionen von Python oder Bibliotheken benötigen. Ein virtuelles Environment erlaubt es, diese parallel laufen zu lassen.\n",
    "4. **Reproduzierbarkeit**: Ein virtuelles Environment erleichtert es, dieselbe Entwicklungsumgebung auf verschiedenen Rechnern oder Servern einzurichten, was die Zusammenarbeit im Team vereinfacht.\n",
    " "
   ]
  },
  {
   "cell_type": "markdown",
   "metadata": {},
   "source": [
    "# Poetry\n",
    "\n",
    "Poetry bietet eine benutzerfreundliche und intuitives dependency management und packaging tool, dass den Prozess des Abhängigkeitsmanagements erheblich vereinfacht. Die automatische Erstellung und Verwaltung von Lock-Dateien stellt sicher, dass Umgebungen reproduzierbar sind und eine stabile Versionsverwaltung gewährleistet wird. Darüber hinaus sorgen isolierte Umgebungen dafür, dass Bibliotheken und deren Versionen nicht zwischen Projekten in Konflikt geraten, was die Sicherheit und Konsistenz der Projekte erhöht.\n",
    "\n",
    "Poetry bietet gegenüber virtualenv verschiedene Vorteile:\n",
    "\n",
    "- Integriertes Abhängigkeitsmanagement: Poetry verwaltet sowohl Umgebungen als auch Abhängigkeiten in einer `pyproject.toml`, während virtualenv nur Umgebungen erstellt. \n",
    "- Automatische Abhängigkeitsauflösung: Poetry löst Bibliothekskonflikte automatisch, virtualenv nicht.\n",
    "- Lock-Datei: Poetry erzeugt eine poetry.lock, um Umgebungen reproduzierbar zu halten, was virtualenv nicht bietet.\n",
    "- Einfache Veröffentlichung: Poetry erleichtert das Veröffentlichen von Projekten auf PyPI, während virtualenv keine Veröffentlichungstools integriert hat."
   ]
  },
  {
   "cell_type": "code",
   "execution_count": null,
   "metadata": {},
   "outputs": [],
   "source": [
    "#!pip install poetry"
   ]
  },
  {
   "cell_type": "markdown",
   "metadata": {},
   "source": [
    "In einem weiteren Schritt initialisieren wir Poetry:"
   ]
  },
  {
   "cell_type": "code",
   "execution_count": 1,
   "metadata": {},
   "outputs": [],
   "source": [
    "!poetry init"
   ]
  },
  {
   "cell_type": "markdown",
   "metadata": {},
   "source": [
    "Der Befehl `init` initialisiert ein bestehendes Verzeichnis und erstellt eine `pyproject.toml`, die Ihr Projekt und seine Abhängigkeiten verwaltet. Im hiesigen Fall:\n",
    "\n",
    "```\n",
    "[tool.poetry]\n",
    "name = \"future-skill-classification\"\n",
    "version = \"0.1.0\"\n",
    "description = \"\"\n",
    "authors = [\"Malte Hückstädt <deaddatascientists@gmail.com>\"]\n",
    "readme = \"README.md\"\n",
    "\n",
    "[tool.poetry.dependencies]\n",
    "python = \"^3.12\"\n",
    "\n",
    "\n",
    "[build-system]\n",
    "requires = [\"poetry-core\"]\n",
    "build-backend = \"poetry.core.masonry.api\"\n",
    "```"
   ]
  },
  {
   "cell_type": "markdown",
   "metadata": {},
   "source": [
    "Nun werden die für den Classifier nötigen Pakete zum Enviorment hinzugefügt:"
   ]
  },
  {
   "cell_type": "code",
   "execution_count": 2,
   "metadata": {},
   "outputs": [
    {
     "name": "stdout",
     "output_type": "stream",
     "text": [
      "Using version ^3.0.1 for datasets\n",
      "Using version ^3.2.0 for sentence-transformers\n",
      "Using version ^1.1.0 for setfit\n",
      "Using version ^2.2.3 for pandas\n",
      "Using version ^1.5.2 for scikit-learn\n",
      "Using version ^4.45.2 for transformers\n",
      "Using version ^2.4.1 for torch\n",
      "Using version ^2.1.2 for numpy\n",
      "Using version ^1.3.8 for unidecode\n",
      "\n",
      "Updating dependencies\n",
      "Resolving dependencies...\n",
      "\n",
      "Package operations: 54 installs, 0 updates, 0 removals\n",
      "\n",
      "  - Installing certifi (2024.8.30)\n",
      "  - Installing charset-normalizer (3.4.0)\n",
      "  - Installing colorama (0.4.6)\n",
      "  - Installing frozenlist (1.4.1)\n",
      "  - Installing idna (3.10)\n",
      "  - Installing multidict (6.1.0)\n",
      "  - Installing propcache (0.2.0)\n",
      "  - Installing urllib3 (2.2.3)\n",
      "  - Installing aiohappyeyeballs (2.4.3)\n",
      "  - Installing aiosignal (1.3.1)\n",
      "  - Installing attrs (24.2.0)\n",
      "  - Installing filelock (3.16.1)\n",
      "  - Installing fsspec (2024.6.1)\n",
      "  - Installing markupsafe (3.0.1)\n",
      "  - Installing mpmath (1.3.0)\n",
      "  - Installing packaging (24.1)\n",
      "  - Installing pyyaml (6.0.2)\n",
      "  - Installing requests (2.32.3)\n",
      "  - Installing six (1.16.0)\n",
      "  - Installing tqdm (4.66.5)\n",
      "  - Installing typing-extensions (4.12.2)\n",
      "  - Installing yarl (1.15.3)\n",
      "  - Installing aiohttp (3.10.10)\n",
      "  - Installing dill (0.3.8)\n",
      "  - Installing huggingface-hub (0.25.2)\n",
      "  - Installing jinja2 (3.1.4)\n",
      "  - Installing networkx (3.4.1)\n",
      "  - Installing numpy (2.1.2)\n",
      "  - Installing python-dateutil (2.9.0.post0)\n",
      "  - Installing pytz (2024.2)\n",
      "  - Installing setuptools (75.1.0)\n",
      "  - Installing sympy (1.13.3)\n",
      "  - Installing tzdata (2024.2)\n",
      "  - Installing joblib (1.4.2)\n",
      "  - Installing multiprocess (0.70.16)\n",
      "  - Installing pandas (2.2.3)\n",
      "  - Installing psutil (6.0.0)\n",
      "  - Installing pyarrow (17.0.0)\n",
      "  - Installing regex (2024.9.11)\n",
      "  - Installing safetensors (0.4.5)\n",
      "  - Installing scipy (1.14.1)\n",
      "  - Installing threadpoolctl (3.5.0)\n",
      "  - Installing tokenizers (0.20.1)\n",
      "  - Installing torch (2.4.1)\n",
      "  - Installing xxhash (3.5.0)\n",
      "  - Installing accelerate (1.0.1)\n",
      "  - Installing datasets (3.0.1)\n",
      "  - Installing pillow (11.0.0)\n",
      "  - Installing scikit-learn (1.5.2)\n",
      "  - Installing transformers (4.45.2)\n",
      "  - Installing evaluate (0.4.3)\n",
      "  - Installing sentence-transformers (3.2.0)\n",
      "  - Installing setfit (1.1.0)\n",
      "  - Installing unidecode (1.3.8)\n",
      "\n",
      "Writing lock file\n"
     ]
    },
    {
     "name": "stderr",
     "output_type": "stream",
     "text": [
      "Creating virtualenv future-skill-classification--ys6-NbF-py3.12 in C:\\Users\\Hueck\\AppData\\Local\\pypoetry\\Cache\\virtualenvs\n"
     ]
    }
   ],
   "source": [
    "!poetry add datasets sentence-transformers setfit pandas scikit-learn transformers torch numpy unidecode\n"
   ]
  },
  {
   "cell_type": "markdown",
   "metadata": {},
   "source": [
    "Nutzenzusammenhang der Pakete:\n",
    "\n",
    "- `datasets`: Zum Laden und Verwalten von Datensätzen aus der Hugging Face-Datasets-Bibliothek.\n",
    "- `sentence-transformers`: Für Satztransformer-Modelle und die CosineSimilarityLoss.\n",
    "- `setfit`: Für Few-Shot Learning mit SetFit-Modellen.\n",
    "- `pandas`: Für Datenmanipulation und Analyse.\n",
    "- `scikit-learn`: Für verschiedene Machine-Learning-Funktionen, wie z.B. Label-Encoding und Train-Test-Splits.\n",
    "- `transformers`: Für Modelle und Trainingsargumente der Hugging Face-Bibliothek.\n",
    "- `torch`: PyTorch, um die GPU zu nutzen und Tensoren zu verarbeiten.\n",
    "- `numpy`: Für numerische Berechnungen.\n",
    "- `unidecode`: Zum Entfernen von Sonderzeichen und Umwandeln in ASCII.\n",
    "\n",
    "Nachdem die Pakete zum Enviorment hinzugefügt wurden, werden sie mit dem folgenden Befehl installiert:"
   ]
  },
  {
   "cell_type": "code",
   "execution_count": 5,
   "metadata": {},
   "outputs": [
    {
     "name": "stdout",
     "output_type": "stream",
     "text": [
      "Installing dependencies from lock file\n",
      "\n",
      "No dependencies to install or update\n"
     ]
    }
   ],
   "source": [
    "!poetry install"
   ]
  },
  {
   "cell_type": "markdown",
   "metadata": {},
   "source": [
    "Zunächst musst du sicherstellen, dass ipykernel (für Jupyter-Kernel) in deiner Poetry-Umgebung installiert ist. Führe folgenden Befehl in deinem Poetry-Projektverzeichnis aus:"
   ]
  },
  {
   "cell_type": "code",
   "execution_count": 7,
   "metadata": {},
   "outputs": [
    {
     "name": "stdout",
     "output_type": "stream",
     "text": [
      "Using version ^6.29.5 for ipykernel\n",
      "\n",
      "Updating dependencies\n",
      "Resolving dependencies...\n",
      "\n",
      "Package operations: 23 installs, 0 updates, 0 removals\n",
      "\n",
      "  - Installing asttokens (2.4.1)\n",
      "  - Installing executing (2.1.0)\n",
      "  - Installing parso (0.8.4)\n",
      "  - Installing platformdirs (4.3.6)\n",
      "  - Installing pure-eval (0.2.3)\n",
      "  - Installing pywin32 (308)\n",
      "  - Installing traitlets (5.14.3)\n",
      "  - Installing wcwidth (0.2.13)\n",
      "  - Installing decorator (5.1.1)\n",
      "  - Installing jedi (0.19.1)\n",
      "  - Installing jupyter-core (5.7.2)\n",
      "  - Installing matplotlib-inline (0.1.7)\n",
      "  - Installing prompt-toolkit (3.0.48)\n",
      "  - Installing pygments (2.18.0)\n",
      "  - Installing pyzmq (26.2.0)\n",
      "  - Installing stack-data (0.6.3)\n",
      "  - Installing tornado (6.4.1)\n",
      "  - Installing comm (0.2.2)\n",
      "  - Installing debugpy (1.8.7)\n",
      "  - Installing ipython (8.28.0)\n",
      "  - Installing jupyter-client (8.6.3)\n",
      "  - Installing nest-asyncio (1.6.0)\n",
      "  - Installing ipykernel (6.29.5)\n",
      "\n",
      "Writing lock file\n"
     ]
    }
   ],
   "source": [
    "!poetry add ipykernel"
   ]
  },
  {
   "cell_type": "markdown",
   "metadata": {},
   "source": []
  },
  {
   "cell_type": "code",
   "execution_count": 10,
   "metadata": {},
   "outputs": [
    {
     "name": "stdout",
     "output_type": "stream",
     "text": [
      "Installed kernelspec Poetry_FS_Env in C:\\Users\\Hueck\\AppData\\Roaming\\jupyter\\kernels\\poetry_fs_env\n"
     ]
    }
   ],
   "source": [
    "!poetry run python -m ipykernel install --user --name=Poetry_FS_Env --display-name \"Poetry Future Skills Enviorment\""
   ]
  },
  {
   "cell_type": "markdown",
   "metadata": {},
   "source": []
  }
 ],
 "metadata": {
  "kernelspec": {
   "display_name": "Python 3",
   "language": "python",
   "name": "python3"
  },
  "language_info": {
   "codemirror_mode": {
    "name": "ipython",
    "version": 3
   },
   "file_extension": ".py",
   "mimetype": "text/x-python",
   "name": "python",
   "nbconvert_exporter": "python",
   "pygments_lexer": "ipython3",
   "version": "3.12.3"
  }
 },
 "nbformat": 4,
 "nbformat_minor": 2
}
