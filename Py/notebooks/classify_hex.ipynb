{
 "cells": [
  {
   "cell_type": "code",
   "execution_count": 1,
   "metadata": {},
   "outputs": [
    {
     "name": "stdout",
     "output_type": "stream",
     "text": [
      "c:\\Users\\Hueck\\OneDrive\\Dokumente\\GitHub\\future_skill_classification\\Py\\notebooks\n"
     ]
    },
    {
     "ename": "NameError",
     "evalue": "name 'df' is not defined",
     "output_type": "error",
     "traceback": [
      "\u001b[1;31m---------------------------------------------------------------------------\u001b[0m",
      "\u001b[1;31mNameError\u001b[0m                                 Traceback (most recent call last)",
      "Cell \u001b[1;32mIn[1], line 10\u001b[0m\n\u001b[0;32m      7\u001b[0m os\u001b[38;5;241m.\u001b[39mchdir(\u001b[38;5;124m'\u001b[39m\u001b[38;5;124mc:/Users/Hueck/OneDrive/Dokumente/GitHub/future_skill_classification/\u001b[39m\u001b[38;5;124m'\u001b[39m)\n\u001b[0;32m      9\u001b[0m df_sample \u001b[38;5;241m=\u001b[39m \u001b[38;5;28mlist\u001b[39m(pyreadr\u001b[38;5;241m.\u001b[39mread_r(\u001b[38;5;124m'\u001b[39m\u001b[38;5;124mdata/db_hex.rds\u001b[39m\u001b[38;5;124m'\u001b[39m)\u001b[38;5;241m.\u001b[39mvalues())[\u001b[38;5;241m0\u001b[39m]\n\u001b[1;32m---> 10\u001b[0m sample_df \u001b[38;5;241m=\u001b[39m \u001b[43mdf\u001b[49m\u001b[38;5;241m.\u001b[39msample(n\u001b[38;5;241m=\u001b[39m\u001b[38;5;241m10000\u001b[39m)\n",
      "\u001b[1;31mNameError\u001b[0m: name 'df' is not defined"
     ]
    }
   ],
   "source": [
    "import pyreadr\n",
    "import os \n",
    "import pandas as pd\n",
    "# checke home-verzeichnis\n",
    "print(os.getcwd())\n",
    "# setze home-verzeichnis\n",
    "os.chdir('c:/Users/Hueck/OneDrive/Dokumente/GitHub/future_skill_classification/')\n",
    "\n",
    "df_sample = list(pyreadr.read_r('data/db_hex.rds').values())[0]\n"
   ]
  },
  {
   "cell_type": "code",
   "execution_count": 4,
   "metadata": {},
   "outputs": [],
   "source": [
    "df = df_sample.sample(n=10000)"
   ]
  },
  {
   "cell_type": "code",
   "execution_count": 5,
   "metadata": {},
   "outputs": [],
   "source": [
    "import re\n",
    "\n",
    "# Spalten \"titel\" und \"kursbeschreibung\" zusammenführen mit \": \" als Trennzeichen\n",
    "df['sentence'] = df['titel'] + \": \" + df['kursbeschreibung']\n",
    "\n",
    "# Entfernen der alphanumerischen Codes mit Punkten und Bindestrichen\n",
    "df['sentence'] = df['sentence'].str.replace(r'\\b[\\w]+([.-][\\w]+)+\\b', '', regex=True)\n",
    "\n",
    " \n",
    "# Entfernen von unnötigen Leerzeichen\n",
    "df['sentence'] = df['sentence'].str.strip().replace(r'\\s+', ' ', regex=True)"
   ]
  },
  {
   "cell_type": "code",
   "execution_count": 6,
   "metadata": {},
   "outputs": [],
   "source": [
    "import torch\n",
    "torch.cuda.empty_cache()"
   ]
  },
  {
   "cell_type": "code",
   "execution_count": 7,
   "metadata": {},
   "outputs": [],
   "source": [
    "from tqdm import tqdm\n",
    "tqdm.pandas()"
   ]
  },
  {
   "cell_type": "code",
   "execution_count": 14,
   "metadata": {},
   "outputs": [
    {
     "name": "stderr",
     "output_type": "stream",
     "text": [
      "100%|██████████| 10000/10000 [00:56<00:00, 176.74it/s]\n",
      "100%|██████████| 10000/10000 [00:00<00:00, 54650.05it/s]"
     ]
    },
    {
     "name": "stdout",
     "output_type": "stream",
     "text": [
      "            hochschulname_kurz  \\\n",
      "49081                   U Köln   \n",
      "1254670              TU Berlin   \n",
      "565305                U Bochum   \n",
      "1426701               CAU Kiel   \n",
      "1871053               U Bremen   \n",
      "...                        ...   \n",
      "961777   FAU Erlangen-Nürnberg   \n",
      "257648             U Frankfurt   \n",
      "1116617              HU Berlin   \n",
      "154942              TU München   \n",
      "1568442               CAU Kiel   \n",
      "\n",
      "                                                hochschule  \\\n",
      "49081                                  Universität zu Köln   \n",
      "1254670                      Technische Universität Berlin   \n",
      "565305                             Ruhr-Universität Bochum   \n",
      "1426701            Christian-Albrechts-Universität zu Kiel   \n",
      "1871053                                 Universität Bremen   \n",
      "...                                                    ...   \n",
      "961777   Friedrich-Alexander-Universität Erlangen-Nürnberg   \n",
      "257648   Johann Wolfgang Goethe-Universität Frankfurt a...   \n",
      "1116617                     Humboldt-Universität zu Berlin   \n",
      "154942                      Technische Universität München   \n",
      "1568442            Christian-Albrechts-Universität zu Kiel   \n",
      "\n",
      "                                                 fakultaet fachbereich  \\\n",
      "49081         Mathematisch-Naturwissenschaftliche Fakultät         NaN   \n",
      "1254670                    Zentrale Universitätsverwaltung         NaN   \n",
      "565305                     XIII. Fakultät für Maschinenbau         NaN   \n",
      "1426701       Mathematisch-Naturwissenschaftliche Fakultät         NaN   \n",
      "1871053  Fachbereich 10: Sprach- und Literaturwissensch...         NaN   \n",
      "...                                                    ...         ...   \n",
      "961777    Zentrale wissenschaftliche Einrichtungen der FAU         NaN   \n",
      "257648           Fachbereich 2 - Wirtschaftswissenschaften         NaN   \n",
      "1116617                   Lebenswissenschaftliche Fakultät         NaN   \n",
      "154942                                 TUM Sprachenzentrum         NaN   \n",
      "1568442                                Technische Fakultät         NaN   \n",
      "\n",
      "        MINT_MN MINT_T                                           institut  \\\n",
      "49081         1    NaN                                                NaN   \n",
      "1254670     NaN    NaN                                                NaN   \n",
      "565305        0      1                    Master-Studiengang Maschinenbau   \n",
      "1426701       1      0  Zentrum für Biochemie und Molekularbiologie (Z...   \n",
      "1871053     NaN    NaN                                                NaN   \n",
      "...         ...    ...                                                ...   \n",
      "961777      NaN    NaN                                    Sprachenzentrum   \n",
      "257648        0    NaN                                                NaN   \n",
      "1116617       1    NaN                              Institut für Biologie   \n",
      "154942        0      0                                                NaN   \n",
      "1568442       0      1  Studienkolleg Betriebswirtschaftslehre; Instit...   \n",
      "\n",
      "                                              organisation  \\\n",
      "49081                                 Abteilung Mathematik   \n",
      "1254670                                    Eventmanagement   \n",
      "565305                       Kraftfahrzeug-Antriebstechnik   \n",
      "1426701  Zentrum für Biochemie und Molekularbiologie (Z...   \n",
      "1871053  Fachbereich 10: Sprach- und Literaturwissensch...   \n",
      "...                                                    ...   \n",
      "961777                                                 NaN   \n",
      "257648   House of Finance-Stiftungsprofessur für Sustai...   \n",
      "1116617                              Institut für Biologie   \n",
      "154942                                         Französisch   \n",
      "1568442  Studienkolleg Betriebswirtschaftslehre|Institu...   \n",
      "\n",
      "                                                      pfad  \\\n",
      "49081    Fakultäten > Mathematisch-Naturwissenschaftlic...   \n",
      "1254670  Technische Universität Berlin > Zentrale Unive...   \n",
      "565305   Master-Studiengang Maschinenbau > Studienschwe...   \n",
      "1426701  Vorlesungsverzeichnis > Mathematisch-Naturwiss...   \n",
      "1871053  Fachbereich 10: Sprach- und Literaturwissensch...   \n",
      "...                                                    ...   \n",
      "961777   Zentrale wissenschaftliche Einrichtungen der F...   \n",
      "257648   Vorlesungsverzeichnis \\ Lehrveranstaltungen de...   \n",
      "1116617  Einrichtungen > Humboldt-Universität > Präsidi...   \n",
      "154942   Zentrale Serviceeinrichtungen > TUM Sprachenze...   \n",
      "1568442  Vorlesungsverzeichnis > Wirtschafts- und Sozia...   \n",
      "\n",
      "                                             studiengaenge  ...  \\\n",
      "49081    list(curriculum_raw = c(\"Mathematik - Ein-Fach...  ...   \n",
      "1254670                                           list(NA)  ...   \n",
      "565305                                                 NaN  ...   \n",
      "1426701                                                NaN  ...   \n",
      "1871053                                                NaN  ...   \n",
      "...                                                    ...  ...   \n",
      "961777                                           Ungarisch  ...   \n",
      "257648   list(Abschluss = c(\"Master\", \"Master\", \"Master...  ...   \n",
      "1116617  list(\"Biologie\\n\\t\\t\\t\\t\\t\\n\\t\\t\\t\\t\\t\\t\\t\\t\\t...  ...   \n",
      "154942                                                 NaN  ...   \n",
      "1568442                                                NaN  ...   \n",
      "\n",
      "                                                  pruefung scrape_datum  \\\n",
      "49081                                              Details        19294   \n",
      "1254670                                                NaN     20240628   \n",
      "565305                                                 NaN          NaN   \n",
      "1426701                                                NaN        19515   \n",
      "1871053                                                NaN        19957   \n",
      "...                                                    ...          ...   \n",
      "961777                                                 NaN   2023-03-22   \n",
      "257648   (Pruefungsinformation:) Grading will be based ...        19634   \n",
      "1116617                            Inhalte der Teile A - C        19488   \n",
      "154942                                                 NaN          NaN   \n",
      "1568442                                                NaN        19503   \n",
      "\n",
      "        semester  jahr                           studienbereich  \\\n",
      "49081          s  2019                               Mathematik   \n",
      "1254670        w  2021                                      NaN   \n",
      "565305         w  2019                                      NaN   \n",
      "1426701        s  2005                                      NaN   \n",
      "1871053   Sommer  2020                                      NaN   \n",
      "...          ...   ...                                      ...   \n",
      "961777        ws  2017                                      NaN   \n",
      "257648    sommer  2022                                      NaN   \n",
      "1116617        w  2009                                 Biologie   \n",
      "154942         s  2019  Außerhalb der Studienbereichsgliederung   \n",
      "1568442        w  2022                                      NaN   \n",
      "\n",
      "                                   faechergruppe lufcode  \\\n",
      "49081            Mathematik, Naturwissenschaften     340   \n",
      "1254670  Außerhalb der Studienbereichsgliederung      NA   \n",
      "565305                                       NaN     NaN   \n",
      "1426701                                      NaN     NaN   \n",
      "1871053                    Geisteswissenschaften      NA   \n",
      "...                                          ...     ...   \n",
      "961777                                       NaN     NaN   \n",
      "257648                                       NaN     NaN   \n",
      "1116617          Mathematik, Naturwissenschaften     400   \n",
      "154942   Außerhalb der Studienbereichsgliederung      NA   \n",
      "1568442                                      NaN     NaN   \n",
      "\n",
      "                                                  sentence  \\\n",
      "49081                                                  NaN   \n",
      "1254670                                                NaN   \n",
      "565305                                                 NaN   \n",
      "1426701                                                NaN   \n",
      "1871053                                                NaN   \n",
      "...                                                    ...   \n",
      "961777   Ungarisch für Anfänger: Einübung eines element...   \n",
      "257648   Sustainable Banking: Learning Goals and Compet...   \n",
      "1116617                                                NaN   \n",
      "154942   Französisch : In dieser LV werden Grundkenntni...   \n",
      "1568442  Übung zu Externes Rechnungswesen: e dieser Ter...   \n",
      "\n",
      "                                               Vorhersagen        FS_Skill  \n",
      "49081                                                   []           Keine  \n",
      "1254670                                                 []           Keine  \n",
      "565305                                                  []           Keine  \n",
      "1426701                                                 []           Keine  \n",
      "1871053                                                 []           Keine  \n",
      "...                                                    ...             ...  \n",
      "961777   [tensor(0, dtype=torch.int32), tensor(0, dtype...           Keine  \n",
      "257648   [tensor(0, dtype=torch.int32), tensor(0, dtype...  IT-Architektur  \n",
      "1116617                                                 []           Keine  \n",
      "154942   [tensor(0, dtype=torch.int32), tensor(0, dtype...           Keine  \n",
      "1568442  [tensor(0, dtype=torch.int32), tensor(0, dtype...           Keine  \n",
      "\n",
      "[10000 rows x 39 columns]\n"
     ]
    },
    {
     "name": "stderr",
     "output_type": "stream",
     "text": [
      "\n"
     ]
    }
   ],
   "source": [
    "import pandas as pd\n",
    "from setfit import SetFitModel\n",
    "\n",
    "# Laden des vortrainierten Modells von Hugging Face\n",
    "model = SetFitModel.from_pretrained(\"Chernoffface/fs-setfit-multilable-model\")\n",
    "model = SetFitModel.from_pretrained(\"models\")  # Ändere den Pfad zu deinem Modell\n",
    "\n",
    "\n",
    "# Definiere die Labels in der richtigen Reihenfolge\n",
    "fs_labels = ['Hardware-/Robotikentwicklung', 'Softwareentwicklung', 'Nutzerzentriertes Design', \n",
    "             'Data Analytics & KI', 'Quantencomputing', 'IT-Architektur']\n",
    "\n",
    "# Definiere eine Funktion, die das Modell auf eine Kursbeschreibung anwendet\n",
    "def predict_course_description(description):\n",
    "    # Überprüfen, ob die Beschreibung ein String ist\n",
    "    if isinstance(description, str):\n",
    "        preds = model(description)\n",
    "        return preds\n",
    "    # Falls die Beschreibung keine gültige Zeichenfolge ist, gib eine leere Liste oder eine andere Standardrückgabe zurück\n",
    "    return []\n",
    "\n",
    "# Funktion, um Vorhersagen in String-Variable umzuwandeln\n",
    "def convert_tensor_to_labels(tensor):\n",
    "    # Identifiziere die Positionen, wo der Wert 1 ist\n",
    "    selected_labels = [fs_labels[i] for i, val in enumerate(tensor) if val == 1]\n",
    "    # Falls keine Labels ausgewählt wurden, gib \"Keine\" zurück\n",
    "    return ', '.join(selected_labels) if selected_labels else 'Keine'\n",
    "\n",
    "# Wende die Vorhersagen und die Umwandlungsfunktion auf jede Kursbeschreibung an\n",
    "df[\"Vorhersagen\"] = df[\"sentence\"].progress_apply(predict_course_description)\n",
    "df[\"FS_Skill\"] = df[\"Vorhersagen\"].progress_apply(lambda x: convert_tensor_to_labels(x))\n",
    "\n",
    "\n",
    "\n",
    "# DataFrame mit den neuen FS_Skill-Spalten anzeigen\n",
    "print(df)\n"
   ]
  },
  {
   "cell_type": "code",
   "execution_count": 9,
   "metadata": {},
   "outputs": [
    {
     "data": {
      "text/plain": [
       "pandas.core.series.Series"
      ]
     },
     "execution_count": 9,
     "metadata": {},
     "output_type": "execute_result"
    }
   ],
   "source": [
    "type(df[\"Vorhersagen\"])"
   ]
  },
  {
   "cell_type": "code",
   "execution_count": 16,
   "metadata": {},
   "outputs": [],
   "source": [
    "# Exportiere den DataFrame in eine Excel-Datei\n",
    "# Exportiere den DataFrame in eine Excel-Datei\n",
    "df.to_csv('output_large.csv', index=False)\n",
    "\n",
    "\n",
    "\n"
   ]
  },
  {
   "cell_type": "code",
   "execution_count": 15,
   "metadata": {},
   "outputs": [],
   "source": [
    "label_counts = df['FS_Skill'].value_counts()"
   ]
  }
 ],
 "metadata": {
  "kernelspec": {
   "display_name": "Python 3",
   "language": "python",
   "name": "python3"
  },
  "language_info": {
   "codemirror_mode": {
    "name": "ipython",
    "version": 3
   },
   "file_extension": ".py",
   "mimetype": "text/x-python",
   "name": "python",
   "nbconvert_exporter": "python",
   "pygments_lexer": "ipython3",
   "version": "3.12.3"
  }
 },
 "nbformat": 4,
 "nbformat_minor": 2
}
