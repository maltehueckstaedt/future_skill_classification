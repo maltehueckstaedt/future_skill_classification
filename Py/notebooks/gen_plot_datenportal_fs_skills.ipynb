{
 "cells": [
  {
   "cell_type": "markdown",
   "metadata": {},
   "source": [
    "# Plot für Datenportal\n",
    "\n",
    "Wir laden in einem ersten Schritt die Daten:"
   ]
  },
  {
   "cell_type": "code",
   "execution_count": 9,
   "metadata": {},
   "outputs": [
    {
     "name": "stdout",
     "output_type": "stream",
     "text": [
      "4.43.1\n"
     ]
    }
   ],
   "source": [
    "import transformers\n",
    "print(transformers.__version__)"
   ]
  },
  {
   "cell_type": "code",
   "execution_count": 2,
   "metadata": {},
   "outputs": [],
   "source": [
    "# Lade Pakete\n",
    "import numpy as np\n",
    "import pandas as pd\n",
    "import os\n",
    "\n",
    "# Lade Daten\n",
    "os.chdir('c:/Users/Hueck/OneDrive/Dokumente/GitHub/future_skill_classification/')\n",
    "df_hex_sample = pd.read_csv('data/hex_classified_fs_with_lernziele.csv')"
   ]
  },
  {
   "cell_type": "markdown",
   "metadata": {},
   "source": [
    "Wir kodieren im folgenden, ob eine Zeile zu MINT oder zu nicht-Mint zu zählen ist. Trifft beides zu, wird per Zufall die Zuteilung vorgenommen. "
   ]
  },
  {
   "cell_type": "code",
   "execution_count": null,
   "metadata": {},
   "outputs": [
    {
     "name": "stdout",
     "output_type": "stream",
     "text": [
      "jahr\n",
      "2017    2.741832\n",
      "2018    2.905829\n",
      "2019    3.155706\n",
      "2020    3.245751\n",
      "2021    3.359812\n",
      "2022    3.665146\n",
      "Name: FS_Skill, dtype: float64\n"
     ]
    }
   ],
   "source": [
    "# Funktion zur Codierung mit zufälliger Auswahl für bestimmte Kombinationen von Fächergruppen: Wenn eine zeile je mindestens eine Fächergruppe pro MINT/nicht-MINT hat: Weise per Zufall zu!\n",
    "def assign_mint_label(faechergruppe):\n",
    "    if isinstance(faechergruppe, str):\n",
    "        # Kategorien für MINT und Nicht-MINT\n",
    "        mint_categories = [\"Mathematik\", \"Naturwissenschaften\", \"Ingenieurwissenschaften\"]\n",
    "        non_mint_categories = [\n",
    "            \"Geisteswissenschaften\", \"Rechts-, Wirtschafts- und Sozialwissenschaften\",\n",
    "            \"Humanmedizin\", \"Gesundheitswissenschaften\", \"Kunst\", \n",
    "            \"Agrar-, Forst- und Ernährungswissenschaften\", \"Veterinärmedizin\", \"Sport\"\n",
    "        ]\n",
    "\n",
    "        # Prüfen, ob MINT- und Nicht-MINT-Kategorien beide in faechergruppe vorkommen\n",
    "        has_mint = any(mint in faechergruppe for mint in mint_categories)\n",
    "        has_non_mint = any(non_mint in faechergruppe for non_mint in non_mint_categories)\n",
    "\n",
    "        if has_mint and has_non_mint:\n",
    "            # Zufällige Zuordnung, wenn beide Kategorien vorhanden sind\n",
    "            return np.random.choice([\"MINT\", \"nicht MINT\"])\n",
    "        elif has_mint:\n",
    "            return \"MINT\"\n",
    "        elif has_non_mint:\n",
    "            return \"nicht MINT\"\n",
    "        else:\n",
    "            return \"NA\"  # Wenn Kategorie nicht eindeutig identifizierbar ist\n",
    "    else:\n",
    "        return \"NA\"  # NA für fehlende Werte\n",
    "\n",
    "# Anwenden der Funktion auf die Spalte\n",
    "df_hex_sample['mint_faechergruppe'] = df_hex_sample['faechergruppe'].apply(assign_mint_label)"
   ]
  },
  {
   "cell_type": "markdown",
   "metadata": {},
   "source": []
  },
  {
   "cell_type": "code",
   "execution_count": 7,
   "metadata": {},
   "outputs": [
    {
     "name": "stdout",
     "output_type": "stream",
     "text": [
      "jahr\n",
      "2017    2.741832\n",
      "2018    2.905829\n",
      "2019    3.155706\n",
      "2020    3.245751\n",
      "2021    3.359812\n",
      "2022    3.665146\n",
      "Name: FS_Skill, dtype: float64\n",
      "jahr  mint_faechergruppe\n",
      "2017  MINT                  7.065992\n",
      "      nicht MINT            0.639590\n",
      "2018  MINT                  7.255997\n",
      "      nicht MINT            0.662399\n",
      "2019  MINT                  7.585132\n",
      "      nicht MINT            0.766465\n",
      "2020  MINT                  7.630905\n",
      "      nicht MINT            0.805866\n",
      "2021  MINT                  7.715108\n",
      "      nicht MINT            0.878578\n",
      "2022  MINT                  8.091705\n",
      "      nicht MINT            1.034239\n",
      "Name: FS_Skill, dtype: float64\n"
     ]
    }
   ],
   "source": [
    "# Jahr-Spalte in Integer umwandeln und dann den Filter anwenden\n",
    "df_hex_sample['jahr'] = df_hex_sample['jahr'].astype(int)\n",
    "df_hex_sample = df_hex_sample[df_hex_sample['mint_faechergruppe'] != \"NA\"]\n",
    "\n",
    "\n",
    "# Filter für den Zeitraum 2017-2022 und Berechnung des Prozentsatzes von Zeilen mit einem FS_Skill pro Jahr und mint_faechergruppe\n",
    "fs_skill_percentage_by_year_mint = (\n",
    "    df_hex_sample[df_hex_sample['jahr'].between(2017, 2022)]\n",
    "    .groupby(['jahr'])['FS_Skill']\n",
    "    .apply(lambda x: x.notna().mean() * 100)\n",
    ")\n",
    "\n",
    "# Ergebnis anzeigen\n",
    "print(fs_skill_percentage_by_year_mint)\n",
    "\n",
    "# Jahr-Spalte in Integer umwandeln und dann den Filter anwenden\n",
    "df_hex_sample['jahr'] = df_hex_sample['jahr'].astype(int)\n",
    "\n",
    "# Filter für den Zeitraum 2017-2022 und Berechnung des Prozentsatzes von Zeilen mit einem FS_Skill pro Jahr und mint_faechergruppe\n",
    "fs_skill_percentage_by_year_mint = (\n",
    "    df_hex_sample[df_hex_sample['jahr'].between(2017, 2022)]\n",
    "    .groupby(['jahr', 'mint_faechergruppe'])['FS_Skill']\n",
    "    .apply(lambda x: x.notna().mean() * 100)\n",
    ")\n",
    "\n",
    "# Ergebnis anzeigen\n",
    "print(fs_skill_percentage_by_year_mint)"
   ]
  },
  {
   "cell_type": "code",
   "execution_count": 8,
   "metadata": {},
   "outputs": [
    {
     "name": "stdout",
     "output_type": "stream",
     "text": [
      "jahr  mint_faechergruppe\n",
      "2017  MINT                  7.065992\n",
      "      nicht MINT            0.639590\n",
      "2018  MINT                  7.255997\n",
      "      nicht MINT            0.662399\n",
      "2019  MINT                  7.585132\n",
      "      nicht MINT            0.766465\n",
      "2020  MINT                  7.630905\n",
      "      nicht MINT            0.805866\n",
      "2021  MINT                  7.715108\n",
      "      nicht MINT            0.878578\n",
      "2022  MINT                  8.091705\n",
      "      nicht MINT            1.034239\n",
      "Name: FS_Skill, dtype: float64\n"
     ]
    },
    {
     "data": {
      "image/png": "[encoded data removed]",
      "text/plain": [
       "<Figure size 1000x600 with 1 Axes>"
      ]
     },
     "metadata": {},
     "output_type": "display_data"
    }
   ],
   "source": [
    "# Ergebnis anzeigen\n",
    "print(fs_skill_percentage_by_year_mint)\n",
    "\n",
    "\n",
    "# Erzeuge Lineplot\n",
    "import seaborn as sns\n",
    "import matplotlib.pyplot as plt\n",
    "\n",
    "fs_skill_percentage_by_year_mint = fs_skill_percentage_by_year_mint.reset_index()\n",
    "\n",
    "# Plot erstellen\n",
    "plt.figure(figsize=(10, 6))\n",
    "sns.lineplot(data=fs_skill_percentage_by_year_mint, x='jahr', y='FS_Skill', hue='mint_faechergruppe', marker='o')\n",
    "\n",
    "# Plot-Anpassungen\n",
    "plt.xlabel('Year')\n",
    "plt.ylabel('Percentage of FS_Skill')\n",
    "plt.title('FS Skill Percentage by Year and MINT Category')\n",
    "plt.legend(title='MINT Category')\n",
    "plt.grid(True)\n",
    "\n",
    "plt.show()"
   ]
  }
 ],
 "metadata": {
  "kernelspec": {
   "display_name": "Python 3",
   "language": "python",
   "name": "python3"
  },
  "language_info": {
   "codemirror_mode": {
    "name": "ipython",
    "version": 3
   },
   "file_extension": ".py",
   "mimetype": "text/x-python",
   "name": "python",
   "nbconvert_exporter": "python",
   "pygments_lexer": "ipython3",
   "version": "3.12.3"
  }
 },
 "nbformat": 4,
 "nbformat_minor": 2
}
