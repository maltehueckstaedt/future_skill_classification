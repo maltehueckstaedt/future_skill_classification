{
 "cells": [
  {
   "cell_type": "markdown",
   "metadata": {},
   "source": [
    "# Tiny few shot classifer\n",
    "\n",
    "Im folgenden wird ein *few shot classifier* für *multilabels* im [SetFit-Frame](https://huggingface.co/blog/setfit) Format erzeugt. Die *multilabels*-Option ist deshalb von Nöten, weil durchaus mehrere Future Skills in einem Kurs vermittelt werden können.\n",
    "\n",
    "Gearbeitet wird mit `Python 3.12.3`, in einem eigens dafür erzeugten Poetry Enviorment (`Poetry Future Skills Enviorment`). Das Enviorment wird als Kernel händisch in Jupyter Notebook geladen. \n",
    "\n",
    "Weitere Pakete können dem Enviorment mit `poetry add <paketname>` hinzugefügt werden:"
   ]
  },
  {
   "cell_type": "code",
   "execution_count": 1,
   "metadata": {},
   "outputs": [],
   "source": [
    "# !poetry add platformdirs\n",
    "# !poetry add pyreadr\n",
    "# Abhänggkeiten anzeigen:\n",
    "# !poetry show --tree"
   ]
  },
  {
   "cell_type": "markdown",
   "metadata": {},
   "source": [
    "## Pakete laden\n",
    "\n",
    "In einem ersten Schritt werden die nötigen Pakete geladen. "
   ]
  },
  {
   "cell_type": "code",
   "execution_count": 2,
   "metadata": {},
   "outputs": [],
   "source": [
    "from datasets import load_dataset  # Zum Laden von Datensätzen aus der Hugging Face `datasets` Bibliothek\n",
    "from sentence_transformers.losses import CosineSimilarityLoss  # Verlustfunktion basierend auf der Kosinusähnlichkeit, für Aufgaben wie Textähnlichkeit\n",
    "\n",
    "from setfit import SetFitModel, SetFitTrainer  # Zum Laden des SetFit-Modells und Trainers, speziell für Few-Shot Learning mit Satztransformern\n",
    "import pandas as pd  # Pandas für Datenmanipulation und -analyse\n",
    "from sklearn.preprocessing import LabelEncoder  # Zum Encoden von Labels in numerische Werte für maschinelles Lernen\n",
    "import os  # Für den Umgang mit Betriebssystemfunktionen (z.B. Dateipfade)\n",
    "from datasets import Dataset, DatasetDict  # Zum Erstellen und Verwalten von Datensätzen in Hugging Face `datasets`-Format\n",
    "from sklearn.model_selection import train_test_split  # Zum Aufteilen der Daten in Trainings- und Testsets\n",
    "\n",
    "from transformers import TrainingArguments  # Zum Festlegen von Trainingsparametern für Modelle in der Transformers-Bibliothek\n",
    "\n",
    "import torch  # Ermöglicht die GPU-Nutzung und effiziente Verarbeitung von Tensoren\n",
    "import numpy as np  # Für numerische Berechnungen und Arbeiten mit Arrays\n",
    "\n",
    "import re  # Paket für reguläre Ausdrücke (Regular Expressions), zum Suchen, Ersetzen oder Validieren von Textmustern.\n",
    "import html  # Modul zum Umgang mit HTML, wie z.B. Entschlüsseln von HTML-Entities.\n",
    "from unidecode import unidecode  # Bibliothek zum Entfernen von diakritischen Zeichen (z.B. Akzente) und zum Normalisieren von Unicode-Zeichen."
   ]
  },
  {
   "cell_type": "markdown",
   "metadata": {},
   "source": [
    "## Arbeitsverzeichnis bestimmen\n",
    "\n",
    "Es wird weiterhin das Rootverzeichnis bestimmt um es später über relative Pfade Daten und Modelle laden zu können."
   ]
  },
  {
   "cell_type": "code",
   "execution_count": 3,
   "metadata": {},
   "outputs": [
    {
     "name": "stdout",
     "output_type": "stream",
     "text": [
      "c:\\Users\\Hueck\\OneDrive\\Dokumente\\GitHub\\future_skill_classification\\Py\\notebooks\n"
     ]
    }
   ],
   "source": [
    "# checke home-verzeichnis\n",
    "print(os.getcwd())\n",
    "# setze korrektes Home-Verzeichnis, falls das derzeitige nicht das korrekte ist.\n",
    "os.chdir('c:/Users/Hueck/OneDrive/Dokumente/GitHub/future_skill_classification/')"
   ]
  },
  {
   "cell_type": "markdown",
   "metadata": {},
   "source": [
    "## Trainings- und Testdaten\n",
    "\n",
    "Von Yannic Hinrichs wurden per String-Match Trainingsdaten erzeugt, die um weitere Daten ergänzt wurden, die keine Future Skills enthalten. Die Daten wurden weiterhin durch Yannic Hinrichs händisch kontrolliert. \n",
    "\n",
    "Alternativ bestehen weiterhin die Daten, die Franziska Weber für das Training ihres Classifiers verwendet hat. Dieses werden derzeit (Stand 21.10.24) ebenfalls für das Training des folgenden Classfiers verwendet.\n",
    "\n",
    "### Daten laden\n",
    "\n",
    "Testdaten liegen zu jetzigen Zeitpunkt nicht vor."
   ]
  },
  {
   "cell_type": "code",
   "execution_count": 4,
   "metadata": {},
   "outputs": [
    {
     "name": "stdout",
     "output_type": "stream",
     "text": [
      "Dataset({\n",
      "    features: ['sentence', 'Data Analytics & KI', 'Softwareentwicklung', 'Nutzerzentriertes Design', 'IT-Architektur', 'Hardware/Robotikentwicklung', 'Quantencomputing', 'Digital Literacy', 'Digital Ethics', 'Digitale Kollaboration', 'Digital Learning', 'Agiles Arbeiten', 'Lösungsfähigkeit', 'Kreativität', 'Unternehmerisches Handeln & Eigeninitiative', 'Interkulturelle Kommunikation', 'Resilienz', 'Urteilsfähigkeit', 'Innovationskompetenz', 'Missionsorientierung', 'Veränderungskompetenz', 'Dialog- und Konfliktfähigkeit'],\n",
      "    num_rows: 1577\n",
      "})\n"
     ]
    }
   ],
   "source": [
    "\n",
    "# Laden der Trainingsdaten\n",
    "df = pd.read_excel('data/train_data_franziska.xlsx')\n",
    "\n",
    "df = (df\n",
    "      .assign(sentence=lambda x: x['sentence'].astype(str))  # sentence-Spalte als String deklarieren\n",
    "      .fillna(0)  # NAs durch 0 ersetzen\n",
    "      .replace([np.inf, -np.inf], 0)  # infs durch 0 ersetzen\n",
    "      .pipe(lambda x: x.assign(**{col: x[col].astype('int64') for col in x.select_dtypes(include='number').columns}))  # Numerische Variablen runden\n",
    "     )\n",
    "\n",
    "# Für die weitere Verarbeitung werden die Daten ins Hugging Face Dataset-Format transformiert. \n",
    "\n",
    "# # /////////////////////////////////////////////////\n",
    "# # Hinweis: Das Dataset-Format der Hugging Face datasets-Bibliothek basiert auf Apache Arrow und ist speicher-effizient, was schnelles Laden und Verarbeiten großer Datensätze ermöglicht. Es integriert sich nahtlos in Machine-Learning-Workflows und unterstützt einfache Transformationen und Vorverarbeitung durch Methoden wie .map(). Zudem ist es flexibel und kompatibel mit Pandas DataFrames sowie gängigen Frameworks wie PyTorch und TensorFlow.\n",
    "# #//////////////////////////////////////////////////\n",
    "\n",
    "dataset = Dataset.from_pandas(df)\n",
    "print(dataset)\n",
    " "
   ]
  },
  {
   "cell_type": "markdown",
   "metadata": {},
   "source": [
    "### Daten verarbeiten\n",
    "\n",
    "#### Feature Auswahl\n",
    "\n",
    "Nun werden die Features des Classifiers ausgewählt. Diese werden von den Kurstitel und -beschreibungen (`sentence`) separiert. "
   ]
  },
  {
   "cell_type": "code",
   "execution_count": 5,
   "metadata": {},
   "outputs": [
    {
     "name": "stdout",
     "output_type": "stream",
     "text": [
      "['Data Analytics & KI', 'Softwareentwicklung', 'Nutzerzentriertes Design', 'IT-Architektur', 'Hardware/Robotikentwicklung', 'Quantencomputing']\n"
     ]
    }
   ],
   "source": [
    "# Ziehe Column-Names als Liste\n",
    "features = dataset.column_names\n",
    "\n",
    "# Definiere Columns, die nicht vom classifier berücksichtigt werden\n",
    "to_remove = ['sentence','Digital Literacy', 'Digital Ethics', 'Digitale Kollaboration', 'Digital Learning', 'Agiles Arbeiten', 'Lösungsfähigkeit', 'Kreativität', 'Unternehmerisches Handeln & Eigeninitiative', 'Interkulturelle Kommunikation', 'Resilienz', 'Urteilsfähigkeit', 'Innovationskompetenz', 'Missionsorientierung', 'Veränderungskompetenz', 'Dialog- und Konfliktfähigkeit'] \n",
    "\n",
    "# Schließe die oben definierten Variablen aus der Feature-Liste aus\n",
    "filtered_features = [feature for feature in features if feature not in to_remove]\n",
    "\n",
    "features = filtered_features\n",
    "\n",
    "print(features)"
   ]
  },
  {
   "cell_type": "markdown",
   "metadata": {},
   "source": [
    "### One-Hot-Encoding\n",
    "\n",
    "Für das Trainieren des Classifiers wird im folgenden ein *One-Hot-Encoding*-Array der Features erzeugt. Dies ist deshalb nötig, da im folgenden ein Modell für ein Multi-Label-Szenario trainiert werden soll: Ein Kursangebot kann den erwerb mehrerer Future Skills versprechen, etwa Softwareentwicklung **&** IT-Architektur. Das One-Hot-Encoding wird benötigt, um die Labels der Features in eine Form zu bringen, die das Classifier Modell von SetFit korrekt verarbeiten kann. Es stellt sicher, dass alle Klassen gleichwertig behandelt werden, und ermöglicht die Berechnung von Ähnlichkeiten verschiedener Kursinhalte.\n",
    "\n",
    "Um den *One-Hot-Encoding*-Array zu erzeugen definieren wir `encode_labels(record)`: Diese Funktion geht durch jede Zeile eines Data Frames und erstellt eine neue Spalte namens `labels`. In dieser Spalte werden die Werte aus den oben definierten \"features\" gesammelt und in eine Liste gepackt. Diese Liste enthält Werte der Features.\n",
    "\n",
    "Beispiel: Mit Blick auf die Features 'Data Analytics & KI', 'Softwareentwicklung' und 'Nutzerzentriertes Design', könnte ein Zeilenvektor des Arrays eines Kurses der sich mit Data Analytics & KI / Softwareentwicklung beschäftigt so aussehen: `[1, 1, 0]`"
   ]
  },
  {
   "cell_type": "code",
   "execution_count": 6,
   "metadata": {},
   "outputs": [
    {
     "name": "stderr",
     "output_type": "stream",
     "text": [
      "c:\\Users\\Hueck\\AppData\\Local\\pypoetry\\Cache\\virtualenvs\\future-skill-classification--ys6-NbF-py3.12\\Lib\\site-packages\\datasets\\utils\\_dill.py:385: DeprecationWarning: co_lnotab is deprecated, use co_lines instead.\n",
      "  obj.co_lnotab,  # for < python 3.10 [not counted in args]\n"
     ]
    },
    {
     "data": {
      "application/vnd.jupyter.widget-view+json": {
       "model_id": "7de69229d0554b7f8df1a005ef9e12e2",
       "version_major": 2,
       "version_minor": 0
      },
      "text/plain": [
       "Map:   0%|          | 0/1577 [00:00<?, ? examples/s]"
      ]
     },
     "metadata": {},
     "output_type": "display_data"
    }
   ],
   "source": [
    "# Generiere Funktion für One-Hot-Encoding für jede Zeile (record)\n",
    "def encode_labels(record):\n",
    "    return {\"labels\": [record[feature] for feature in features]}\n",
    "\n",
    "# Wende Funktion auf train_data an\n",
    "dataset = dataset.map(encode_labels)\n",
    "\n",
    "# Um die Daten übersichtlich im Viewer zu betrachten: Umwandlung und Pandas Data Frame\n",
    "pd_dataset = dataset.to_pandas()"
   ]
  },
  {
   "cell_type": "markdown",
   "metadata": {},
   "source": [
    "Wir kopieren als nächstes das `dataset`-Objekt in ein neues Objekt namens `train_data` und ziehen davon nochmals eine Kopie mit Pandas, um die Daten ein letztes Mal im Viewer zu prüfen."
   ]
  },
  {
   "cell_type": "code",
   "execution_count": 7,
   "metadata": {},
   "outputs": [],
   "source": [
    "train_dataset = dataset\n",
    "\n",
    "# check data with pandas\n",
    "pd_train_dataset = train_dataset.to_pandas() "
   ]
  },
  {
   "cell_type": "markdown",
   "metadata": {},
   "source": [
    "## Modelltraining\n",
    "\n",
    "### Vorbereitung des Modells\n",
    "\n",
    "Es wird das vortrainierte sentence-transformers-Modell `paraphrase-multilingual-MiniLM-L12-v2` aus der Hugging Face Bibliothek geladen. Durch die Angabe der Strategie `one-vs-rest` wird das Modell für eine Multi-Label-Klassifikation konfiguriert, bei der jede Klasse eines Kurses einzeln vorhergesagt wird. Auf diese Weise wird es möglich, mehrere Skills pro Kurs zu identifizieren.\n",
    "\n",
    "Das Modell `paraphrase-multilingual-MiniLM-L12-v2` eignet sich gut zur Klassifikation von Future Skills, da es auf semantische Ähnlichkeit und Paraphrasierung trainiert wurde. Dadurch kann es unterschiedliche Formulierungen eines Skills als denselben Future Skill erkennen, was bei der Erfassung von Konzepten hilfreich ist, die oft unterschiedlich beschrieben werden. Seine Multilingualität macht es zudem flexibel für Kursdaten in verschiedenen Sprachen. Dank der MiniLM-Architektur ist das Modell effizient und ermöglicht schnelle Vorhersagen, ohne dabei an Leistungsfähigkeit zu verlieren. Diese Eigenschaften machen es besonders nützlich, um abstrakte oder neu formulierte Skills zuverlässig zu klassifizieren.\n",
    "\n",
    "Der Parameter `multi_target_strategy=\"multi-output\"` ist eine spezifische Strategie, die für Multilabel-Klassifikationen verwendet wird, bei denen jedes Label als unabhängiger Klassifikationsausgang behandelt wird. Das bedeutet, dass das Modell für jeden Future Skill eine eigene, separate Vorhersage trifft, anstatt alle Labels als zusammenhängend zu betrachten. Diese Strategie ist besonders nützlich, wenn es keine Abhängigkeit zwischen den Labels gibt und jeder Future Skill unabhängig von den anderen erlernt oder vorhergesagt werden kann. Dadurch kann das Modell präziser und flexibler für komplexe Klassifikationsaufgaben mit mehreren Zielen arbeiten."
   ]
  },
  {
   "cell_type": "code",
   "execution_count": 8,
   "metadata": {},
   "outputs": [
    {
     "name": "stderr",
     "output_type": "stream",
     "text": [
      "model_head.pkl not found on HuggingFace Hub, initialising classification head with random weights. You should TRAIN this model on a downstream task to use it for predictions and inference.\n"
     ]
    }
   ],
   "source": [
    "# Laden des Modells\n",
    "model = SetFitModel.from_pretrained(\n",
    "    \"sentence-transformers/paraphrase-multilingual-MiniLM-L12-v2\", \n",
    "    multi_target_strategy=\"one-vs-rest\",\n",
    "    labels=['Data Analytics & KI', 'Softwareentwicklung', 'Nutzerzentriertes Design', 'IT-Architektur', 'Hardware/Robotikentwicklung', 'Quantencomputing'],\n",
    ")"
   ]
  },
  {
   "cell_type": "markdown",
   "metadata": {},
   "source": [
    "### Auswahl GPU/CPU\n",
    "\n",
    "Es wird zunächst geprüft, ob CUDA (und damit eine GPU) verfügbar ist, indem `torch.cuda.is_available()` aufgerufen wird. Wenn CUDA verfügbar ist, wird die GPU als Rechengerät (`device`) ausgewählt, und der Name der GPU mit `torch.cuda.get_device_name(0)` ausgegeben. Falls CUDA nicht verfügbar ist, wird stattdessen die CPU als Rechengerät festgelegt. Anschließend wird das Modell mit `model.to(device)` entweder auf die GPU oder die CPU verschoben, abhängig von der zuvor getroffenen Geräteauswahl, um die Berechnungen entsprechend durchzuführen."
   ]
  },
  {
   "cell_type": "code",
   "execution_count": 9,
   "metadata": {},
   "outputs": [
    {
     "name": "stdout",
     "output_type": "stream",
     "text": [
      "CUDA verfügbar: True\n",
      "GPU: NVIDIA GeForce RTX 4060 Ti\n"
     ]
    }
   ],
   "source": [
    "# Prüfen, ob CUDA (GPU) verfügbar ist\n",
    "print(\"CUDA verfügbar:\", torch.cuda.is_available())\n",
    "\n",
    "# Wenn CUDA verfügbar ist, die GPU verwenden\n",
    "if torch.cuda.is_available():\n",
    "    device = torch.device(\"cuda\")\n",
    "    print(\"GPU:\", torch.cuda.get_device_name(0))\n",
    "else:\n",
    "    device = torch.device(\"cpu\")\n",
    "    print(\"Verwende CPU\")\n",
    "\n",
    "# model auf GPU verschieben\n",
    "\n",
    "    # Sicherstellen, dass das Modell auf der GPU ist, wenn verfügbar\n",
    "model = model.to(device)"
   ]
  },
  {
   "cell_type": "markdown",
   "metadata": {},
   "source": [
    "Für den Fall dass eine GPU vorhanden ist: `PyTorch` wird verwendet, um die GPU für das Training von Modellen zu verwenden. `PyTorch` nutzt einen Speicher-Caching-Mechanismus, um GPU-Speicher effizient zu verwalten. Wenn Tensoren gelöscht oder nicht mehr benötigt werden, bleibt der Speicher oft noch im Cache, damit zukünftige Speicheranforderungen schneller bedient werden können. Der Befehl `torch.cuda.empty_cache()` leert im folgenden den Cache und gibt den belegten Speicher an das GPU-System zurück, ohne jedoch den aktuell in Verwendung befindlichen Speicher zu beeinflussen. Wird der Cache nicht regelmäßiig geleert, kann das einen ernormen Einfluss auf die Bearbeitungszeit des Trainings eines Classifiers haben."
   ]
  },
  {
   "cell_type": "code",
   "execution_count": 10,
   "metadata": {},
   "outputs": [],
   "source": [
    "import torch\n",
    "torch.cuda.empty_cache()"
   ]
  },
  {
   "cell_type": "markdown",
   "metadata": {},
   "source": [
    "Der `SetFitTrainer` wird instanziiert, um das Modell auf den Trainings- und Evaluierungsdatensätzen zu trainieren. Eine Bewertung des Modells wird erst zu einem späteren Zeitpunkt möglich, wenn Testdaten vorliegen.\n",
    "\n",
    "1. Das vortrainierte `model` (siehe oben) wird als Grundlage für das Training verwendet, das auf dem Few-Shot Learning-Ansatz basiert.\n",
    "2. Der `train_dataset` enthält die Trainingsdaten, ein `eval_dataset` liegt derzeit nicht vor.\n",
    "3. Die Verlustfunktion (`loss_class`) wird als *Cosine Similarity Loss* festgelegt. Die *Cosine Similarity Loss* ist eine Verlustfunktion, die darauf basiert, wie ähnlich sich zwei Vektoren sind. In diesem Fall werden die Ausgabevektoren des Modells und die Zielvektoren (also die \"Labels\") mithilfe der Kosinus-Ähnlichkeit verglichen. Je höher die Ähnlichkeit also, desto besser das Modell. \n",
    "4. Die `column_mapping` gibt an, welche Spalten in den Datensätzen die Texte (`sentence` → `text`) und die zugehörigen Labels (`labels` → `label`) enthalten, sodass das Modell die Daten korrekt interpretieren kann.\n"
   ]
  },
  {
   "cell_type": "code",
   "execution_count": 11,
   "metadata": {},
   "outputs": [
    {
     "name": "stderr",
     "output_type": "stream",
     "text": [
      "C:\\Users\\Hueck\\AppData\\Local\\Temp\\ipykernel_30284\\2679062307.py:1: DeprecationWarning: `SetFitTrainer` has been deprecated and will be removed in v2.0.0 of SetFit. Please use `Trainer` instead.\n",
      "  trainer = SetFitTrainer(\n",
      "Applying column mapping to the training dataset\n"
     ]
    },
    {
     "data": {
      "application/vnd.jupyter.widget-view+json": {
       "model_id": "8e348ce734bb4d72a078d3606b8cda3d",
       "version_major": 2,
       "version_minor": 0
      },
      "text/plain": [
       "Map:   0%|          | 0/1577 [00:00<?, ? examples/s]"
      ]
     },
     "metadata": {},
     "output_type": "display_data"
    }
   ],
   "source": [
    "trainer = SetFitTrainer(\n",
    "    model=model,\n",
    "    train_dataset=dataset, \n",
    "    #eval_dataset=eval_dataset,\n",
    "    loss_class=CosineSimilarityLoss,\n",
    "    num_iterations=40, \n",
    "    num_epochs=2,\n",
    "    column_mapping={\"sentence\": \"text\", \"labels\": \"label\"}\n",
    ")"
   ]
  },
  {
   "cell_type": "markdown",
   "metadata": {},
   "source": [
    "Nun kann das Training beginnen: "
   ]
  },
  {
   "cell_type": "code",
   "execution_count": 12,
   "metadata": {},
   "outputs": [
    {
     "name": "stderr",
     "output_type": "stream",
     "text": [
      "***** Running training *****\n",
      "  Num unique pairs = 126160\n",
      "  Batch size = 16\n",
      "  Num epochs = 2\n"
     ]
    },
    {
     "data": {
      "application/vnd.jupyter.widget-view+json": {
       "model_id": "2a9f9bf6907a45219521089868cd5885",
       "version_major": 2,
       "version_minor": 0
      },
      "text/plain": [
       "  0%|          | 0/15770 [00:00<?, ?it/s]"
      ]
     },
     "metadata": {},
     "output_type": "display_data"
    },
    {
     "name": "stdout",
     "output_type": "stream",
     "text": [
      "{'embedding_loss': 0.1571, 'grad_norm': 1.779844045639038, 'learning_rate': 1.2682308180088778e-08, 'epoch': 0.0}\n",
      "{'embedding_loss': 0.1986, 'grad_norm': 2.48179292678833, 'learning_rate': 6.341154090044388e-07, 'epoch': 0.01}\n",
      "{'embedding_loss': 0.1774, 'grad_norm': 1.4752390384674072, 'learning_rate': 1.2682308180088775e-06, 'epoch': 0.01}\n",
      "{'embedding_loss': 0.136, 'grad_norm': 1.5738091468811035, 'learning_rate': 1.9023462270133167e-06, 'epoch': 0.02}\n",
      "{'embedding_loss': 0.1061, 'grad_norm': 0.9240484237670898, 'learning_rate': 2.536461636017755e-06, 'epoch': 0.03}\n",
      "{'embedding_loss': 0.0779, 'grad_norm': 1.1908466815948486, 'learning_rate': 3.1705770450221946e-06, 'epoch': 0.03}\n",
      "{'embedding_loss': 0.0671, 'grad_norm': 0.8021995425224304, 'learning_rate': 3.8046924540266334e-06, 'epoch': 0.04}\n",
      "{'embedding_loss': 0.0482, 'grad_norm': 1.0862187147140503, 'learning_rate': 4.4388078630310726e-06, 'epoch': 0.04}\n",
      "{'embedding_loss': 0.0444, 'grad_norm': 0.47590360045433044, 'learning_rate': 5.07292327203551e-06, 'epoch': 0.05}\n",
      "{'embedding_loss': 0.0427, 'grad_norm': 2.531590461730957, 'learning_rate': 5.70703868103995e-06, 'epoch': 0.06}\n",
      "{'embedding_loss': 0.0323, 'grad_norm': 0.557704508304596, 'learning_rate': 6.341154090044389e-06, 'epoch': 0.06}\n"
     ]
    },
    {
     "data": {
      "application/vnd.jupyter.widget-view+json": {
       "model_id": "6c59b5c4c62c4f3abec573b3eec9f01e",
       "version_major": 2,
       "version_minor": 0
      },
      "text/plain": [
       "Computing widget examples:   0%|          | 0/1 [00:00<?, ?example/s]"
      ]
     },
     "metadata": {},
     "output_type": "display_data"
    },
    {
     "name": "stdout",
     "output_type": "stream",
     "text": [
      "{'embedding_loss': 0.0274, 'grad_norm': 0.5443168878555298, 'learning_rate': 6.975269499048828e-06, 'epoch': 0.07}\n",
      "{'embedding_loss': 0.0301, 'grad_norm': 0.21439853310585022, 'learning_rate': 7.609384908053267e-06, 'epoch': 0.08}\n",
      "{'embedding_loss': 0.0259, 'grad_norm': 0.4973260164260864, 'learning_rate': 8.243500317057705e-06, 'epoch': 0.08}\n",
      "{'embedding_loss': 0.0274, 'grad_norm': 0.7818413376808167, 'learning_rate': 8.877615726062145e-06, 'epoch': 0.09}\n",
      "{'embedding_loss': 0.0305, 'grad_norm': 0.5201361179351807, 'learning_rate': 9.511731135066583e-06, 'epoch': 0.1}\n",
      "{'embedding_loss': 0.0221, 'grad_norm': 1.2860229015350342, 'learning_rate': 1.014584654407102e-05, 'epoch': 0.1}\n",
      "{'embedding_loss': 0.0185, 'grad_norm': 0.15747277438640594, 'learning_rate': 1.077996195307546e-05, 'epoch': 0.11}\n",
      "{'embedding_loss': 0.0208, 'grad_norm': 0.37646982073783875, 'learning_rate': 1.14140773620799e-05, 'epoch': 0.11}\n",
      "{'embedding_loss': 0.0198, 'grad_norm': 1.3746386766433716, 'learning_rate': 1.204819277108434e-05, 'epoch': 0.12}\n",
      "{'embedding_loss': 0.0107, 'grad_norm': 0.18232248723506927, 'learning_rate': 1.2682308180088779e-05, 'epoch': 0.13}\n",
      "{'embedding_loss': 0.0149, 'grad_norm': 2.3639793395996094, 'learning_rate': 1.3316423589093217e-05, 'epoch': 0.13}\n",
      "{'embedding_loss': 0.0162, 'grad_norm': 0.7776532173156738, 'learning_rate': 1.3950538998097655e-05, 'epoch': 0.14}\n",
      "{'embedding_loss': 0.0119, 'grad_norm': 0.2902497947216034, 'learning_rate': 1.4584654407102095e-05, 'epoch': 0.15}\n",
      "{'embedding_loss': 0.0162, 'grad_norm': 0.3924712836742401, 'learning_rate': 1.5218769816106534e-05, 'epoch': 0.15}\n",
      "{'embedding_loss': 0.0133, 'grad_norm': 0.4988168179988861, 'learning_rate': 1.5852885225110974e-05, 'epoch': 0.16}\n",
      "{'embedding_loss': 0.0177, 'grad_norm': 0.2152845561504364, 'learning_rate': 1.648700063411541e-05, 'epoch': 0.16}\n",
      "{'embedding_loss': 0.0102, 'grad_norm': 0.30392709374427795, 'learning_rate': 1.712111604311985e-05, 'epoch': 0.17}\n",
      "{'embedding_loss': 0.0224, 'grad_norm': 0.4001488983631134, 'learning_rate': 1.775523145212429e-05, 'epoch': 0.18}\n",
      "{'embedding_loss': 0.0107, 'grad_norm': 0.13621318340301514, 'learning_rate': 1.8389346861128727e-05, 'epoch': 0.18}\n",
      "{'embedding_loss': 0.0182, 'grad_norm': 0.6973533630371094, 'learning_rate': 1.9023462270133167e-05, 'epoch': 0.19}\n",
      "{'embedding_loss': 0.0137, 'grad_norm': 0.44132718443870544, 'learning_rate': 1.9657577679137604e-05, 'epoch': 0.2}\n",
      "{'embedding_loss': 0.0158, 'grad_norm': 0.14407165348529816, 'learning_rate': 1.9967589656873107e-05, 'epoch': 0.2}\n",
      "{'embedding_loss': 0.0142, 'grad_norm': 0.405513197183609, 'learning_rate': 1.9897132389205948e-05, 'epoch': 0.21}\n",
      "{'embedding_loss': 0.0117, 'grad_norm': 0.11745481938123703, 'learning_rate': 1.982667512153879e-05, 'epoch': 0.22}\n",
      "{'embedding_loss': 0.0161, 'grad_norm': 0.5510607957839966, 'learning_rate': 1.975621785387163e-05, 'epoch': 0.22}\n",
      "{'embedding_loss': 0.0128, 'grad_norm': 0.8112378716468811, 'learning_rate': 1.9685760586204467e-05, 'epoch': 0.23}\n",
      "{'embedding_loss': 0.0118, 'grad_norm': 0.18098798394203186, 'learning_rate': 1.9615303318537307e-05, 'epoch': 0.23}\n",
      "{'embedding_loss': 0.0125, 'grad_norm': 0.29416027665138245, 'learning_rate': 1.954484605087015e-05, 'epoch': 0.24}\n",
      "{'embedding_loss': 0.0135, 'grad_norm': 0.32230356335639954, 'learning_rate': 1.947438878320299e-05, 'epoch': 0.25}\n",
      "{'embedding_loss': 0.0123, 'grad_norm': 0.35692355036735535, 'learning_rate': 1.940393151553583e-05, 'epoch': 0.25}\n",
      "{'embedding_loss': 0.0128, 'grad_norm': 0.503687858581543, 'learning_rate': 1.933347424786867e-05, 'epoch': 0.26}\n",
      "{'embedding_loss': 0.0119, 'grad_norm': 2.867211103439331, 'learning_rate': 1.926301698020151e-05, 'epoch': 0.27}\n",
      "{'embedding_loss': 0.0074, 'grad_norm': 0.3189273178577423, 'learning_rate': 1.919255971253435e-05, 'epoch': 0.27}\n",
      "{'embedding_loss': 0.0116, 'grad_norm': 0.4152417480945587, 'learning_rate': 1.912210244486719e-05, 'epoch': 0.28}\n",
      "{'embedding_loss': 0.0088, 'grad_norm': 0.9522496461868286, 'learning_rate': 1.905164517720003e-05, 'epoch': 0.29}\n",
      "{'embedding_loss': 0.008, 'grad_norm': 0.35173511505126953, 'learning_rate': 1.898118790953287e-05, 'epoch': 0.29}\n",
      "{'embedding_loss': 0.0137, 'grad_norm': 0.25583991408348083, 'learning_rate': 1.891073064186571e-05, 'epoch': 0.3}\n",
      "{'embedding_loss': 0.0087, 'grad_norm': 0.357016384601593, 'learning_rate': 1.884027337419855e-05, 'epoch': 0.3}\n",
      "{'embedding_loss': 0.0107, 'grad_norm': 0.29364410042762756, 'learning_rate': 1.876981610653139e-05, 'epoch': 0.31}\n",
      "{'embedding_loss': 0.0118, 'grad_norm': 0.22956040501594543, 'learning_rate': 1.869935883886423e-05, 'epoch': 0.32}\n",
      "{'embedding_loss': 0.0096, 'grad_norm': 0.20468714833259583, 'learning_rate': 1.862890157119707e-05, 'epoch': 0.32}\n",
      "{'embedding_loss': 0.0073, 'grad_norm': 0.1233530342578888, 'learning_rate': 1.855844430352991e-05, 'epoch': 0.33}\n",
      "{'embedding_loss': 0.0125, 'grad_norm': 0.3603461682796478, 'learning_rate': 1.8487987035862753e-05, 'epoch': 0.34}\n",
      "{'embedding_loss': 0.0085, 'grad_norm': 0.7352911829948425, 'learning_rate': 1.841752976819559e-05, 'epoch': 0.34}\n",
      "{'embedding_loss': 0.0081, 'grad_norm': 0.23179307579994202, 'learning_rate': 1.834707250052843e-05, 'epoch': 0.35}\n",
      "{'embedding_loss': 0.0097, 'grad_norm': 0.3124998211860657, 'learning_rate': 1.827661523286127e-05, 'epoch': 0.36}\n",
      "{'embedding_loss': 0.0103, 'grad_norm': 0.643126368522644, 'learning_rate': 1.8206157965194112e-05, 'epoch': 0.36}\n",
      "{'embedding_loss': 0.0062, 'grad_norm': 0.1292978674173355, 'learning_rate': 1.8135700697526953e-05, 'epoch': 0.37}\n",
      "{'embedding_loss': 0.0124, 'grad_norm': 0.480386883020401, 'learning_rate': 1.806524342985979e-05, 'epoch': 0.37}\n",
      "{'embedding_loss': 0.0115, 'grad_norm': 0.30375561118125916, 'learning_rate': 1.799478616219263e-05, 'epoch': 0.38}\n",
      "{'embedding_loss': 0.0119, 'grad_norm': 0.6541166305541992, 'learning_rate': 1.7924328894525472e-05, 'epoch': 0.39}\n",
      "{'embedding_loss': 0.0148, 'grad_norm': 0.4514777660369873, 'learning_rate': 1.7853871626858313e-05, 'epoch': 0.39}\n",
      "{'embedding_loss': 0.0097, 'grad_norm': 0.6215953230857849, 'learning_rate': 1.778341435919115e-05, 'epoch': 0.4}\n",
      "{'embedding_loss': 0.0107, 'grad_norm': 0.25406602025032043, 'learning_rate': 1.7712957091523994e-05, 'epoch': 0.41}\n",
      "{'embedding_loss': 0.0075, 'grad_norm': 0.22034965455532074, 'learning_rate': 1.764249982385683e-05, 'epoch': 0.41}\n",
      "{'embedding_loss': 0.0128, 'grad_norm': 0.2580045759677887, 'learning_rate': 1.7572042556189672e-05, 'epoch': 0.42}\n",
      "{'embedding_loss': 0.0115, 'grad_norm': 0.40279290080070496, 'learning_rate': 1.7501585288522513e-05, 'epoch': 0.42}\n",
      "{'embedding_loss': 0.008, 'grad_norm': 0.30393093824386597, 'learning_rate': 1.7431128020855354e-05, 'epoch': 0.43}\n",
      "{'embedding_loss': 0.0088, 'grad_norm': 0.7785788178443909, 'learning_rate': 1.7360670753188194e-05, 'epoch': 0.44}\n",
      "{'embedding_loss': 0.0098, 'grad_norm': 0.8879451751708984, 'learning_rate': 1.7290213485521032e-05, 'epoch': 0.44}\n",
      "{'embedding_loss': 0.0079, 'grad_norm': 0.7827452421188354, 'learning_rate': 1.7219756217853872e-05, 'epoch': 0.45}\n",
      "{'embedding_loss': 0.0117, 'grad_norm': 0.23459962010383606, 'learning_rate': 1.7149298950186713e-05, 'epoch': 0.46}\n",
      "{'embedding_loss': 0.0131, 'grad_norm': 0.26900243759155273, 'learning_rate': 1.7078841682519554e-05, 'epoch': 0.46}\n",
      "{'embedding_loss': 0.0106, 'grad_norm': 0.34592434763908386, 'learning_rate': 1.700838441485239e-05, 'epoch': 0.47}\n",
      "{'embedding_loss': 0.0124, 'grad_norm': 0.16083966195583344, 'learning_rate': 1.6937927147185232e-05, 'epoch': 0.48}\n",
      "{'embedding_loss': 0.0101, 'grad_norm': 0.13830579817295074, 'learning_rate': 1.6867469879518076e-05, 'epoch': 0.48}\n",
      "{'embedding_loss': 0.0093, 'grad_norm': 0.4509024918079376, 'learning_rate': 1.6797012611850914e-05, 'epoch': 0.49}\n",
      "{'embedding_loss': 0.0101, 'grad_norm': 0.4343067407608032, 'learning_rate': 1.6726555344183754e-05, 'epoch': 0.49}\n",
      "{'embedding_loss': 0.0069, 'grad_norm': 0.8350949883460999, 'learning_rate': 1.6656098076516595e-05, 'epoch': 0.5}\n",
      "{'embedding_loss': 0.0066, 'grad_norm': 0.37626856565475464, 'learning_rate': 1.6585640808849436e-05, 'epoch': 0.51}\n",
      "{'embedding_loss': 0.0096, 'grad_norm': 0.6010501384735107, 'learning_rate': 1.6515183541182273e-05, 'epoch': 0.51}\n",
      "{'embedding_loss': 0.0073, 'grad_norm': 0.7835537791252136, 'learning_rate': 1.6444726273515114e-05, 'epoch': 0.52}\n",
      "{'embedding_loss': 0.0082, 'grad_norm': 0.4428824782371521, 'learning_rate': 1.6374269005847955e-05, 'epoch': 0.53}\n",
      "{'embedding_loss': 0.0069, 'grad_norm': 0.37386128306388855, 'learning_rate': 1.6303811738180795e-05, 'epoch': 0.53}\n",
      "{'embedding_loss': 0.0097, 'grad_norm': 0.3848036229610443, 'learning_rate': 1.6233354470513636e-05, 'epoch': 0.54}\n",
      "{'embedding_loss': 0.0097, 'grad_norm': 0.37545254826545715, 'learning_rate': 1.6162897202846474e-05, 'epoch': 0.55}\n",
      "{'embedding_loss': 0.0054, 'grad_norm': 0.2809780538082123, 'learning_rate': 1.6092439935179314e-05, 'epoch': 0.55}\n",
      "{'embedding_loss': 0.0101, 'grad_norm': 0.25008976459503174, 'learning_rate': 1.6021982667512155e-05, 'epoch': 0.56}\n",
      "{'embedding_loss': 0.0101, 'grad_norm': 0.40476980805397034, 'learning_rate': 1.5951525399844996e-05, 'epoch': 0.56}\n",
      "{'embedding_loss': 0.0045, 'grad_norm': 2.1158368587493896, 'learning_rate': 1.5881068132177833e-05, 'epoch': 0.57}\n",
      "{'embedding_loss': 0.01, 'grad_norm': 0.3778567910194397, 'learning_rate': 1.5810610864510677e-05, 'epoch': 0.58}\n",
      "{'embedding_loss': 0.0093, 'grad_norm': 0.4026283025741577, 'learning_rate': 1.5740153596843515e-05, 'epoch': 0.58}\n",
      "{'embedding_loss': 0.0068, 'grad_norm': 0.21270635724067688, 'learning_rate': 1.5669696329176355e-05, 'epoch': 0.59}\n",
      "{'embedding_loss': 0.0068, 'grad_norm': 0.29243040084838867, 'learning_rate': 1.5599239061509196e-05, 'epoch': 0.6}\n",
      "{'embedding_loss': 0.0033, 'grad_norm': 0.17198148369789124, 'learning_rate': 1.5528781793842037e-05, 'epoch': 0.6}\n",
      "{'embedding_loss': 0.0089, 'grad_norm': 0.26256588101387024, 'learning_rate': 1.5458324526174878e-05, 'epoch': 0.61}\n",
      "{'embedding_loss': 0.0078, 'grad_norm': 0.3026338219642639, 'learning_rate': 1.5387867258507715e-05, 'epoch': 0.62}\n",
      "{'embedding_loss': 0.0096, 'grad_norm': 0.26471471786499023, 'learning_rate': 1.5317409990840556e-05, 'epoch': 0.62}\n",
      "{'embedding_loss': 0.0108, 'grad_norm': 0.24656885862350464, 'learning_rate': 1.5246952723173397e-05, 'epoch': 0.63}\n",
      "{'embedding_loss': 0.009, 'grad_norm': 0.3144828975200653, 'learning_rate': 1.5176495455506237e-05, 'epoch': 0.63}\n",
      "{'embedding_loss': 0.0111, 'grad_norm': 0.2758803069591522, 'learning_rate': 1.5106038187839076e-05, 'epoch': 0.64}\n",
      "{'embedding_loss': 0.0082, 'grad_norm': 0.27130603790283203, 'learning_rate': 1.5035580920171917e-05, 'epoch': 0.65}\n",
      "{'embedding_loss': 0.009, 'grad_norm': 0.1338285654783249, 'learning_rate': 1.4965123652504756e-05, 'epoch': 0.65}\n",
      "{'embedding_loss': 0.0092, 'grad_norm': 0.12110457569360733, 'learning_rate': 1.4894666384837597e-05, 'epoch': 0.66}\n",
      "{'embedding_loss': 0.0073, 'grad_norm': 0.09469420462846756, 'learning_rate': 1.4824209117170438e-05, 'epoch': 0.67}\n",
      "{'embedding_loss': 0.0074, 'grad_norm': 0.1765795797109604, 'learning_rate': 1.4753751849503277e-05, 'epoch': 0.67}\n",
      "{'embedding_loss': 0.0083, 'grad_norm': 0.4965977966785431, 'learning_rate': 1.468329458183612e-05, 'epoch': 0.68}\n",
      "{'embedding_loss': 0.0099, 'grad_norm': 0.1104532778263092, 'learning_rate': 1.4612837314168957e-05, 'epoch': 0.68}\n",
      "{'embedding_loss': 0.004, 'grad_norm': 0.2472601681947708, 'learning_rate': 1.4542380046501799e-05, 'epoch': 0.69}\n",
      "{'embedding_loss': 0.0038, 'grad_norm': 0.25657036900520325, 'learning_rate': 1.4471922778834638e-05, 'epoch': 0.7}\n",
      "{'embedding_loss': 0.0073, 'grad_norm': 0.08956883102655411, 'learning_rate': 1.4401465511167479e-05, 'epoch': 0.7}\n",
      "{'embedding_loss': 0.008, 'grad_norm': 0.15897884964942932, 'learning_rate': 1.4331008243500318e-05, 'epoch': 0.71}\n",
      "{'embedding_loss': 0.0039, 'grad_norm': 0.11190591007471085, 'learning_rate': 1.4260550975833159e-05, 'epoch': 0.72}\n",
      "{'embedding_loss': 0.0076, 'grad_norm': 0.25599735975265503, 'learning_rate': 1.4190093708166e-05, 'epoch': 0.72}\n",
      "{'embedding_loss': 0.0071, 'grad_norm': 0.1341981142759323, 'learning_rate': 1.4119636440498838e-05, 'epoch': 0.73}\n",
      "{'embedding_loss': 0.0043, 'grad_norm': 0.6337781548500061, 'learning_rate': 1.4049179172831679e-05, 'epoch': 0.74}\n",
      "{'embedding_loss': 0.0051, 'grad_norm': 0.3021855056285858, 'learning_rate': 1.3978721905164518e-05, 'epoch': 0.74}\n",
      "{'embedding_loss': 0.0112, 'grad_norm': 0.1624886691570282, 'learning_rate': 1.3908264637497359e-05, 'epoch': 0.75}\n",
      "{'embedding_loss': 0.0047, 'grad_norm': 0.09757203608751297, 'learning_rate': 1.3837807369830198e-05, 'epoch': 0.75}\n",
      "{'embedding_loss': 0.0074, 'grad_norm': 0.30762267112731934, 'learning_rate': 1.3767350102163039e-05, 'epoch': 0.76}\n",
      "{'embedding_loss': 0.0105, 'grad_norm': 0.38574957847595215, 'learning_rate': 1.3696892834495878e-05, 'epoch': 0.77}\n",
      "{'embedding_loss': 0.0069, 'grad_norm': 0.6082685589790344, 'learning_rate': 1.362643556682872e-05, 'epoch': 0.77}\n",
      "{'embedding_loss': 0.0069, 'grad_norm': 0.22616854310035706, 'learning_rate': 1.3555978299161561e-05, 'epoch': 0.78}\n",
      "{'embedding_loss': 0.0065, 'grad_norm': 0.2299906462430954, 'learning_rate': 1.34855210314944e-05, 'epoch': 0.79}\n",
      "{'embedding_loss': 0.0067, 'grad_norm': 0.2045677900314331, 'learning_rate': 1.341506376382724e-05, 'epoch': 0.79}\n",
      "{'embedding_loss': 0.0075, 'grad_norm': 0.5065243244171143, 'learning_rate': 1.334460649616008e-05, 'epoch': 0.8}\n",
      "{'embedding_loss': 0.0092, 'grad_norm': 0.42718666791915894, 'learning_rate': 1.327414922849292e-05, 'epoch': 0.81}\n",
      "{'embedding_loss': 0.0055, 'grad_norm': 0.16574952006340027, 'learning_rate': 1.320369196082576e-05, 'epoch': 0.81}\n",
      "{'embedding_loss': 0.0078, 'grad_norm': 0.2022257000207901, 'learning_rate': 1.31332346931586e-05, 'epoch': 0.82}\n",
      "{'embedding_loss': 0.0109, 'grad_norm': 0.18372252583503723, 'learning_rate': 1.306277742549144e-05, 'epoch': 0.82}\n",
      "{'embedding_loss': 0.0057, 'grad_norm': 0.4265024960041046, 'learning_rate': 1.299232015782428e-05, 'epoch': 0.83}\n",
      "{'embedding_loss': 0.0053, 'grad_norm': 0.5076421499252319, 'learning_rate': 1.292186289015712e-05, 'epoch': 0.84}\n",
      "{'embedding_loss': 0.0071, 'grad_norm': 0.325221985578537, 'learning_rate': 1.285140562248996e-05, 'epoch': 0.84}\n",
      "{'embedding_loss': 0.0056, 'grad_norm': 0.1716461330652237, 'learning_rate': 1.2780948354822802e-05, 'epoch': 0.85}\n",
      "{'embedding_loss': 0.0086, 'grad_norm': 0.5108228921890259, 'learning_rate': 1.2710491087155642e-05, 'epoch': 0.86}\n",
      "{'embedding_loss': 0.0052, 'grad_norm': 0.1738138049840927, 'learning_rate': 1.2640033819488482e-05, 'epoch': 0.86}\n",
      "{'embedding_loss': 0.0062, 'grad_norm': 0.24071945250034332, 'learning_rate': 1.2569576551821321e-05, 'epoch': 0.87}\n",
      "{'embedding_loss': 0.0059, 'grad_norm': 1.3233249187469482, 'learning_rate': 1.2499119284154162e-05, 'epoch': 0.88}\n",
      "{'embedding_loss': 0.0071, 'grad_norm': 0.34701597690582275, 'learning_rate': 1.2428662016487001e-05, 'epoch': 0.88}\n",
      "{'embedding_loss': 0.0106, 'grad_norm': 0.4521844685077667, 'learning_rate': 1.2358204748819842e-05, 'epoch': 0.89}\n",
      "{'embedding_loss': 0.0054, 'grad_norm': 0.15602423250675201, 'learning_rate': 1.2287747481152681e-05, 'epoch': 0.89}\n",
      "{'embedding_loss': 0.0069, 'grad_norm': 0.52901291847229, 'learning_rate': 1.2217290213485522e-05, 'epoch': 0.9}\n",
      "{'embedding_loss': 0.0047, 'grad_norm': 0.2958866059780121, 'learning_rate': 1.2146832945818362e-05, 'epoch': 0.91}\n",
      "{'embedding_loss': 0.0075, 'grad_norm': 0.14453840255737305, 'learning_rate': 1.2076375678151202e-05, 'epoch': 0.91}\n",
      "{'embedding_loss': 0.0076, 'grad_norm': 0.28529706597328186, 'learning_rate': 1.2005918410484044e-05, 'epoch': 0.92}\n",
      "{'embedding_loss': 0.0057, 'grad_norm': 0.15060439705848694, 'learning_rate': 1.1935461142816881e-05, 'epoch': 0.93}\n",
      "{'embedding_loss': 0.0054, 'grad_norm': 0.27902868390083313, 'learning_rate': 1.1865003875149724e-05, 'epoch': 0.93}\n",
      "{'embedding_loss': 0.0052, 'grad_norm': 0.1806986778974533, 'learning_rate': 1.1794546607482563e-05, 'epoch': 0.94}\n",
      "{'embedding_loss': 0.0062, 'grad_norm': 0.17162172496318817, 'learning_rate': 1.1724089339815404e-05, 'epoch': 0.94}\n",
      "{'embedding_loss': 0.0042, 'grad_norm': 0.2281729131937027, 'learning_rate': 1.1653632072148243e-05, 'epoch': 0.95}\n",
      "{'embedding_loss': 0.0043, 'grad_norm': 0.23867805302143097, 'learning_rate': 1.1583174804481083e-05, 'epoch': 0.96}\n",
      "{'embedding_loss': 0.0092, 'grad_norm': 0.5566810369491577, 'learning_rate': 1.1512717536813924e-05, 'epoch': 0.96}\n",
      "{'embedding_loss': 0.0044, 'grad_norm': 0.24118156731128693, 'learning_rate': 1.1442260269146763e-05, 'epoch': 0.97}\n",
      "{'embedding_loss': 0.0066, 'grad_norm': 0.26742005348205566, 'learning_rate': 1.1371803001479604e-05, 'epoch': 0.98}\n",
      "{'embedding_loss': 0.0036, 'grad_norm': 0.11044211685657501, 'learning_rate': 1.1301345733812443e-05, 'epoch': 0.98}\n",
      "{'embedding_loss': 0.009, 'grad_norm': 1.5037686824798584, 'learning_rate': 1.1230888466145284e-05, 'epoch': 0.99}\n",
      "{'embedding_loss': 0.0069, 'grad_norm': 0.053207769989967346, 'learning_rate': 1.1160431198478123e-05, 'epoch': 1.0}\n",
      "{'embedding_loss': 0.0096, 'grad_norm': 0.23934902250766754, 'learning_rate': 1.1089973930810965e-05, 'epoch': 1.0}\n",
      "{'embedding_loss': 0.0036, 'grad_norm': 0.14634019136428833, 'learning_rate': 1.1019516663143803e-05, 'epoch': 1.01}\n",
      "{'embedding_loss': 0.0058, 'grad_norm': 0.2905818223953247, 'learning_rate': 1.0949059395476645e-05, 'epoch': 1.01}\n",
      "{'embedding_loss': 0.0055, 'grad_norm': 0.2813330292701721, 'learning_rate': 1.0878602127809486e-05, 'epoch': 1.02}\n",
      "{'embedding_loss': 0.0084, 'grad_norm': 0.4663890600204468, 'learning_rate': 1.0808144860142325e-05, 'epoch': 1.03}\n",
      "{'embedding_loss': 0.0078, 'grad_norm': 0.3593806326389313, 'learning_rate': 1.0737687592475166e-05, 'epoch': 1.03}\n",
      "{'embedding_loss': 0.0083, 'grad_norm': 0.35919150710105896, 'learning_rate': 1.0667230324808005e-05, 'epoch': 1.04}\n",
      "{'embedding_loss': 0.0063, 'grad_norm': 0.24912822246551514, 'learning_rate': 1.0596773057140845e-05, 'epoch': 1.05}\n",
      "{'embedding_loss': 0.005, 'grad_norm': 0.576938271522522, 'learning_rate': 1.0526315789473684e-05, 'epoch': 1.05}\n",
      "{'embedding_loss': 0.0068, 'grad_norm': 0.11699852347373962, 'learning_rate': 1.0455858521806525e-05, 'epoch': 1.06}\n",
      "{'embedding_loss': 0.0043, 'grad_norm': 0.2054799497127533, 'learning_rate': 1.0385401254139364e-05, 'epoch': 1.07}\n",
      "{'embedding_loss': 0.0051, 'grad_norm': 0.26198717951774597, 'learning_rate': 1.0314943986472205e-05, 'epoch': 1.07}\n",
      "{'embedding_loss': 0.0048, 'grad_norm': 0.11590426415205002, 'learning_rate': 1.0244486718805044e-05, 'epoch': 1.08}\n",
      "{'embedding_loss': 0.0045, 'grad_norm': 0.1062115877866745, 'learning_rate': 1.0174029451137885e-05, 'epoch': 1.08}\n",
      "{'embedding_loss': 0.006, 'grad_norm': 0.179961159825325, 'learning_rate': 1.0103572183470727e-05, 'epoch': 1.09}\n",
      "{'embedding_loss': 0.0096, 'grad_norm': 0.10288859903812408, 'learning_rate': 1.0033114915803566e-05, 'epoch': 1.1}\n",
      "{'embedding_loss': 0.0043, 'grad_norm': 0.06205528602004051, 'learning_rate': 9.962657648136405e-06, 'epoch': 1.1}\n",
      "{'embedding_loss': 0.0043, 'grad_norm': 0.065414197742939, 'learning_rate': 9.892200380469246e-06, 'epoch': 1.11}\n",
      "{'embedding_loss': 0.0029, 'grad_norm': 0.37140458822250366, 'learning_rate': 9.821743112802087e-06, 'epoch': 1.12}\n",
      "{'embedding_loss': 0.0023, 'grad_norm': 0.15432006120681763, 'learning_rate': 9.751285845134928e-06, 'epoch': 1.12}\n",
      "{'embedding_loss': 0.0053, 'grad_norm': 0.5463663339614868, 'learning_rate': 9.680828577467767e-06, 'epoch': 1.13}\n",
      "{'embedding_loss': 0.0047, 'grad_norm': 0.08758912235498428, 'learning_rate': 9.610371309800607e-06, 'epoch': 1.14}\n",
      "{'embedding_loss': 0.0043, 'grad_norm': 0.21594718098640442, 'learning_rate': 9.539914042133446e-06, 'epoch': 1.14}\n",
      "{'embedding_loss': 0.0069, 'grad_norm': 0.16234232485294342, 'learning_rate': 9.469456774466287e-06, 'epoch': 1.15}\n",
      "{'embedding_loss': 0.0067, 'grad_norm': 0.21092385053634644, 'learning_rate': 9.398999506799126e-06, 'epoch': 1.15}\n",
      "{'embedding_loss': 0.0076, 'grad_norm': 0.099362313747406, 'learning_rate': 9.328542239131967e-06, 'epoch': 1.16}\n",
      "{'embedding_loss': 0.0072, 'grad_norm': 0.13376189768314362, 'learning_rate': 9.258084971464806e-06, 'epoch': 1.17}\n",
      "{'embedding_loss': 0.0089, 'grad_norm': 0.3179228603839874, 'learning_rate': 9.187627703797649e-06, 'epoch': 1.17}\n",
      "{'embedding_loss': 0.0048, 'grad_norm': 0.16613957285881042, 'learning_rate': 9.117170436130488e-06, 'epoch': 1.18}\n",
      "{'embedding_loss': 0.0041, 'grad_norm': 0.11504043638706207, 'learning_rate': 9.046713168463328e-06, 'epoch': 1.19}\n",
      "{'embedding_loss': 0.0069, 'grad_norm': 0.17009007930755615, 'learning_rate': 8.976255900796167e-06, 'epoch': 1.19}\n",
      "{'embedding_loss': 0.0067, 'grad_norm': 0.20262862741947174, 'learning_rate': 8.905798633129008e-06, 'epoch': 1.2}\n",
      "{'embedding_loss': 0.0059, 'grad_norm': 0.25726112723350525, 'learning_rate': 8.835341365461849e-06, 'epoch': 1.2}\n",
      "{'embedding_loss': 0.0049, 'grad_norm': 0.2167152613401413, 'learning_rate': 8.764884097794688e-06, 'epoch': 1.21}\n",
      "{'embedding_loss': 0.0066, 'grad_norm': 0.14464102685451508, 'learning_rate': 8.694426830127529e-06, 'epoch': 1.22}\n",
      "{'embedding_loss': 0.0056, 'grad_norm': 0.22760941088199615, 'learning_rate': 8.623969562460368e-06, 'epoch': 1.22}\n",
      "{'embedding_loss': 0.0062, 'grad_norm': 0.1783226728439331, 'learning_rate': 8.553512294793209e-06, 'epoch': 1.23}\n",
      "{'embedding_loss': 0.0053, 'grad_norm': 0.07309044152498245, 'learning_rate': 8.48305502712605e-06, 'epoch': 1.24}\n",
      "{'embedding_loss': 0.0065, 'grad_norm': 0.1655026078224182, 'learning_rate': 8.41259775945889e-06, 'epoch': 1.24}\n",
      "{'embedding_loss': 0.0036, 'grad_norm': 0.23439233005046844, 'learning_rate': 8.342140491791729e-06, 'epoch': 1.25}\n",
      "{'embedding_loss': 0.009, 'grad_norm': 0.101060651242733, 'learning_rate': 8.27168322412457e-06, 'epoch': 1.26}\n",
      "{'embedding_loss': 0.0063, 'grad_norm': 0.18791015446186066, 'learning_rate': 8.201225956457409e-06, 'epoch': 1.26}\n",
      "{'embedding_loss': 0.0043, 'grad_norm': 0.22728124260902405, 'learning_rate': 8.13076868879025e-06, 'epoch': 1.27}\n",
      "{'embedding_loss': 0.0058, 'grad_norm': 0.13732199370861053, 'learning_rate': 8.060311421123089e-06, 'epoch': 1.27}\n",
      "{'embedding_loss': 0.0034, 'grad_norm': 0.20232625305652618, 'learning_rate': 7.98985415345593e-06, 'epoch': 1.28}\n",
      "{'embedding_loss': 0.0048, 'grad_norm': 0.13440902531147003, 'learning_rate': 7.919396885788768e-06, 'epoch': 1.29}\n",
      "{'embedding_loss': 0.0053, 'grad_norm': 0.1416291743516922, 'learning_rate': 7.848939618121611e-06, 'epoch': 1.29}\n",
      "{'embedding_loss': 0.0053, 'grad_norm': 0.16246750950813293, 'learning_rate': 7.77848235045445e-06, 'epoch': 1.3}\n",
      "{'embedding_loss': 0.0049, 'grad_norm': 0.1974678486585617, 'learning_rate': 7.70802508278729e-06, 'epoch': 1.31}\n",
      "{'embedding_loss': 0.0081, 'grad_norm': 1.8289533853530884, 'learning_rate': 7.63756781512013e-06, 'epoch': 1.31}\n",
      "{'embedding_loss': 0.0059, 'grad_norm': 0.35468605160713196, 'learning_rate': 7.5671105474529705e-06, 'epoch': 1.32}\n",
      "{'embedding_loss': 0.0064, 'grad_norm': 0.29103749990463257, 'learning_rate': 7.4966532797858104e-06, 'epoch': 1.33}\n",
      "{'embedding_loss': 0.0066, 'grad_norm': 0.2456243485212326, 'learning_rate': 7.42619601211865e-06, 'epoch': 1.33}\n",
      "{'embedding_loss': 0.0084, 'grad_norm': 0.09772346913814545, 'learning_rate': 7.35573874445149e-06, 'epoch': 1.34}\n",
      "{'embedding_loss': 0.0038, 'grad_norm': 0.20873408019542694, 'learning_rate': 7.28528147678433e-06, 'epoch': 1.34}\n",
      "{'embedding_loss': 0.0064, 'grad_norm': 0.11170721054077148, 'learning_rate': 7.214824209117171e-06, 'epoch': 1.35}\n",
      "{'embedding_loss': 0.0058, 'grad_norm': 0.086489737033844, 'learning_rate': 7.144366941450012e-06, 'epoch': 1.36}\n",
      "{'embedding_loss': 0.0066, 'grad_norm': 0.09416545182466507, 'learning_rate': 7.0739096737828516e-06, 'epoch': 1.36}\n",
      "{'embedding_loss': 0.0036, 'grad_norm': 0.11150932312011719, 'learning_rate': 7.0034524061156915e-06, 'epoch': 1.37}\n",
      "{'embedding_loss': 0.0045, 'grad_norm': 0.2546003758907318, 'learning_rate': 6.932995138448531e-06, 'epoch': 1.38}\n",
      "{'embedding_loss': 0.0058, 'grad_norm': 0.14548227190971375, 'learning_rate': 6.862537870781371e-06, 'epoch': 1.38}\n",
      "{'embedding_loss': 0.0075, 'grad_norm': 0.4942755401134491, 'learning_rate': 6.792080603114212e-06, 'epoch': 1.39}\n",
      "{'embedding_loss': 0.0051, 'grad_norm': 0.25023967027664185, 'learning_rate': 6.721623335447052e-06, 'epoch': 1.4}\n",
      "{'embedding_loss': 0.0038, 'grad_norm': 0.14311854541301727, 'learning_rate': 6.651166067779892e-06, 'epoch': 1.4}\n",
      "{'embedding_loss': 0.0055, 'grad_norm': 0.1536838561296463, 'learning_rate': 6.580708800112732e-06, 'epoch': 1.41}\n",
      "{'embedding_loss': 0.0065, 'grad_norm': 0.1448298543691635, 'learning_rate': 6.5102515324455725e-06, 'epoch': 1.41}\n",
      "{'embedding_loss': 0.0067, 'grad_norm': 0.20882847905158997, 'learning_rate': 6.439794264778413e-06, 'epoch': 1.42}\n",
      "{'embedding_loss': 0.0043, 'grad_norm': 0.22537025809288025, 'learning_rate': 6.369336997111253e-06, 'epoch': 1.43}\n",
      "{'embedding_loss': 0.0073, 'grad_norm': 0.16157786548137665, 'learning_rate': 6.298879729444093e-06, 'epoch': 1.43}\n",
      "{'embedding_loss': 0.007, 'grad_norm': 0.4728237986564636, 'learning_rate': 6.228422461776933e-06, 'epoch': 1.44}\n",
      "{'embedding_loss': 0.0043, 'grad_norm': 0.1577901691198349, 'learning_rate': 6.157965194109773e-06, 'epoch': 1.45}\n",
      "{'embedding_loss': 0.006, 'grad_norm': 0.05203210562467575, 'learning_rate': 6.087507926442613e-06, 'epoch': 1.45}\n",
      "{'embedding_loss': 0.004, 'grad_norm': 0.1515866219997406, 'learning_rate': 6.017050658775453e-06, 'epoch': 1.46}\n",
      "{'embedding_loss': 0.0058, 'grad_norm': 0.20334793627262115, 'learning_rate': 5.9465933911082925e-06, 'epoch': 1.46}\n",
      "{'embedding_loss': 0.005, 'grad_norm': 0.2646726369857788, 'learning_rate': 5.876136123441133e-06, 'epoch': 1.47}\n",
      "{'embedding_loss': 0.0045, 'grad_norm': 0.14327087998390198, 'learning_rate': 5.805678855773974e-06, 'epoch': 1.48}\n",
      "{'embedding_loss': 0.0065, 'grad_norm': 0.7392037510871887, 'learning_rate': 5.735221588106814e-06, 'epoch': 1.48}\n",
      "{'embedding_loss': 0.0056, 'grad_norm': 0.47052863240242004, 'learning_rate': 5.664764320439654e-06, 'epoch': 1.49}\n",
      "{'embedding_loss': 0.0061, 'grad_norm': 0.1813490390777588, 'learning_rate': 5.594307052772494e-06, 'epoch': 1.5}\n",
      "{'embedding_loss': 0.0039, 'grad_norm': 0.3030325472354889, 'learning_rate': 5.5238497851053345e-06, 'epoch': 1.5}\n",
      "{'embedding_loss': 0.0039, 'grad_norm': 0.21458283066749573, 'learning_rate': 5.453392517438174e-06, 'epoch': 1.51}\n",
      "{'embedding_loss': 0.0054, 'grad_norm': 0.1094418466091156, 'learning_rate': 5.382935249771014e-06, 'epoch': 1.52}\n",
      "{'embedding_loss': 0.0032, 'grad_norm': 0.3777869939804077, 'learning_rate': 5.312477982103854e-06, 'epoch': 1.52}\n",
      "{'embedding_loss': 0.0084, 'grad_norm': 0.1322029083967209, 'learning_rate': 5.242020714436694e-06, 'epoch': 1.53}\n",
      "{'embedding_loss': 0.0051, 'grad_norm': 0.5257744789123535, 'learning_rate': 5.171563446769534e-06, 'epoch': 1.53}\n",
      "{'embedding_loss': 0.0066, 'grad_norm': 0.29239386320114136, 'learning_rate': 5.101106179102376e-06, 'epoch': 1.54}\n",
      "{'embedding_loss': 0.0062, 'grad_norm': 0.10934575647115707, 'learning_rate': 5.0306489114352155e-06, 'epoch': 1.55}\n",
      "{'embedding_loss': 0.0067, 'grad_norm': 0.14045554399490356, 'learning_rate': 4.960191643768055e-06, 'epoch': 1.55}\n",
      "{'embedding_loss': 0.0078, 'grad_norm': 0.0769934430718422, 'learning_rate': 4.889734376100895e-06, 'epoch': 1.56}\n",
      "{'embedding_loss': 0.0039, 'grad_norm': 0.18709367513656616, 'learning_rate': 4.819277108433735e-06, 'epoch': 1.57}\n",
      "{'embedding_loss': 0.0058, 'grad_norm': 1.0601156949996948, 'learning_rate': 4.748819840766575e-06, 'epoch': 1.57}\n",
      "{'embedding_loss': 0.0044, 'grad_norm': 0.19184647500514984, 'learning_rate': 4.678362573099415e-06, 'epoch': 1.58}\n",
      "{'embedding_loss': 0.0047, 'grad_norm': 0.24984247982501984, 'learning_rate': 4.607905305432256e-06, 'epoch': 1.59}\n",
      "{'embedding_loss': 0.0052, 'grad_norm': 0.525850772857666, 'learning_rate': 4.537448037765096e-06, 'epoch': 1.59}\n",
      "{'embedding_loss': 0.0052, 'grad_norm': 0.19851844012737274, 'learning_rate': 4.466990770097936e-06, 'epoch': 1.6}\n",
      "{'embedding_loss': 0.0062, 'grad_norm': 0.11643528193235397, 'learning_rate': 4.396533502430776e-06, 'epoch': 1.6}\n",
      "{'embedding_loss': 0.0068, 'grad_norm': 0.2359027862548828, 'learning_rate': 4.326076234763616e-06, 'epoch': 1.61}\n",
      "{'embedding_loss': 0.008, 'grad_norm': 0.22836199402809143, 'learning_rate': 4.255618967096456e-06, 'epoch': 1.62}\n",
      "{'embedding_loss': 0.0047, 'grad_norm': 0.18181952834129333, 'learning_rate': 4.185161699429297e-06, 'epoch': 1.62}\n",
      "{'embedding_loss': 0.0048, 'grad_norm': 0.2078850418329239, 'learning_rate': 4.114704431762137e-06, 'epoch': 1.63}\n",
      "{'embedding_loss': 0.0033, 'grad_norm': 0.13765661418437958, 'learning_rate': 4.044247164094977e-06, 'epoch': 1.64}\n",
      "{'embedding_loss': 0.0051, 'grad_norm': 0.18034948408603668, 'learning_rate': 3.9737898964278174e-06, 'epoch': 1.64}\n",
      "{'embedding_loss': 0.0059, 'grad_norm': 0.23416778445243835, 'learning_rate': 3.903332628760657e-06, 'epoch': 1.65}\n",
      "{'embedding_loss': 0.0044, 'grad_norm': 0.22537602484226227, 'learning_rate': 3.832875361093497e-06, 'epoch': 1.66}\n",
      "{'embedding_loss': 0.0031, 'grad_norm': 0.27942463755607605, 'learning_rate': 3.762418093426337e-06, 'epoch': 1.66}\n",
      "{'embedding_loss': 0.0056, 'grad_norm': 0.12508730590343475, 'learning_rate': 3.691960825759177e-06, 'epoch': 1.67}\n",
      "{'embedding_loss': 0.0069, 'grad_norm': 0.11471498012542725, 'learning_rate': 3.621503558092018e-06, 'epoch': 1.67}\n",
      "{'embedding_loss': 0.0032, 'grad_norm': 0.29151368141174316, 'learning_rate': 3.5510462904248577e-06, 'epoch': 1.68}\n",
      "{'embedding_loss': 0.0109, 'grad_norm': 0.24943910539150238, 'learning_rate': 3.4805890227576976e-06, 'epoch': 1.69}\n",
      "{'embedding_loss': 0.0044, 'grad_norm': 0.22048987448215485, 'learning_rate': 3.410131755090538e-06, 'epoch': 1.69}\n",
      "{'embedding_loss': 0.0059, 'grad_norm': 0.19312915205955505, 'learning_rate': 3.339674487423378e-06, 'epoch': 1.7}\n",
      "{'embedding_loss': 0.0079, 'grad_norm': 0.4119220972061157, 'learning_rate': 3.269217219756218e-06, 'epoch': 1.71}\n",
      "{'embedding_loss': 0.0042, 'grad_norm': 0.21833518147468567, 'learning_rate': 3.1987599520890585e-06, 'epoch': 1.71}\n",
      "{'embedding_loss': 0.008, 'grad_norm': 0.35773560404777527, 'learning_rate': 3.1283026844218984e-06, 'epoch': 1.72}\n",
      "{'embedding_loss': 0.0053, 'grad_norm': 0.1695026010274887, 'learning_rate': 3.0578454167547383e-06, 'epoch': 1.72}\n",
      "{'embedding_loss': 0.0041, 'grad_norm': 0.13315992057323456, 'learning_rate': 2.987388149087579e-06, 'epoch': 1.73}\n",
      "{'embedding_loss': 0.0035, 'grad_norm': 0.2279011458158493, 'learning_rate': 2.916930881420419e-06, 'epoch': 1.74}\n",
      "{'embedding_loss': 0.0045, 'grad_norm': 0.10588933527469635, 'learning_rate': 2.846473613753259e-06, 'epoch': 1.74}\n",
      "{'embedding_loss': 0.0063, 'grad_norm': 0.16372935473918915, 'learning_rate': 2.7760163460860988e-06, 'epoch': 1.75}\n",
      "{'embedding_loss': 0.0033, 'grad_norm': 0.20980356633663177, 'learning_rate': 2.705559078418939e-06, 'epoch': 1.76}\n",
      "{'embedding_loss': 0.0044, 'grad_norm': 0.20350424945354462, 'learning_rate': 2.6351018107517794e-06, 'epoch': 1.76}\n",
      "{'embedding_loss': 0.0081, 'grad_norm': 0.09005698561668396, 'learning_rate': 2.5646445430846193e-06, 'epoch': 1.77}\n",
      "{'embedding_loss': 0.0057, 'grad_norm': 0.20939984917640686, 'learning_rate': 2.4941872754174596e-06, 'epoch': 1.78}\n",
      "{'embedding_loss': 0.0043, 'grad_norm': 0.16694602370262146, 'learning_rate': 2.4237300077502995e-06, 'epoch': 1.78}\n",
      "{'embedding_loss': 0.0062, 'grad_norm': 0.19920490682125092, 'learning_rate': 2.35327274008314e-06, 'epoch': 1.79}\n",
      "{'embedding_loss': 0.0052, 'grad_norm': 0.22186246514320374, 'learning_rate': 2.2828154724159798e-06, 'epoch': 1.79}\n",
      "{'embedding_loss': 0.0085, 'grad_norm': 0.17576123774051666, 'learning_rate': 2.21235820474882e-06, 'epoch': 1.8}\n",
      "{'embedding_loss': 0.0049, 'grad_norm': 0.16993683576583862, 'learning_rate': 2.14190093708166e-06, 'epoch': 1.81}\n",
      "{'embedding_loss': 0.004, 'grad_norm': 0.23380163311958313, 'learning_rate': 2.0714436694145003e-06, 'epoch': 1.81}\n",
      "{'embedding_loss': 0.007, 'grad_norm': 0.19002068042755127, 'learning_rate': 2.0009864017473402e-06, 'epoch': 1.82}\n",
      "{'embedding_loss': 0.0058, 'grad_norm': 0.21285076439380646, 'learning_rate': 1.9305291340801806e-06, 'epoch': 1.83}\n",
      "{'embedding_loss': 0.0072, 'grad_norm': 0.1803998053073883, 'learning_rate': 1.8600718664130207e-06, 'epoch': 1.83}\n",
      "{'embedding_loss': 0.003, 'grad_norm': 0.2238951176404953, 'learning_rate': 1.7896145987458608e-06, 'epoch': 1.84}\n",
      "{'embedding_loss': 0.0049, 'grad_norm': 0.3799775242805481, 'learning_rate': 1.7191573310787011e-06, 'epoch': 1.85}\n",
      "{'embedding_loss': 0.0058, 'grad_norm': 0.31194815039634705, 'learning_rate': 1.648700063411541e-06, 'epoch': 1.85}\n",
      "{'embedding_loss': 0.0057, 'grad_norm': 0.1281956285238266, 'learning_rate': 1.5782427957443811e-06, 'epoch': 1.86}\n",
      "{'embedding_loss': 0.004, 'grad_norm': 0.12480563670396805, 'learning_rate': 1.5077855280772212e-06, 'epoch': 1.86}\n",
      "{'embedding_loss': 0.0036, 'grad_norm': 0.11390845477581024, 'learning_rate': 1.4373282604100614e-06, 'epoch': 1.87}\n",
      "{'embedding_loss': 0.0041, 'grad_norm': 0.23971319198608398, 'learning_rate': 1.3668709927429017e-06, 'epoch': 1.88}\n",
      "{'embedding_loss': 0.0033, 'grad_norm': 0.1562860757112503, 'learning_rate': 1.2964137250757416e-06, 'epoch': 1.88}\n",
      "{'embedding_loss': 0.007, 'grad_norm': 0.18944022059440613, 'learning_rate': 1.2259564574085817e-06, 'epoch': 1.89}\n",
      "{'embedding_loss': 0.0046, 'grad_norm': 0.5253105759620667, 'learning_rate': 1.155499189741422e-06, 'epoch': 1.9}\n",
      "{'embedding_loss': 0.0048, 'grad_norm': 0.1381169855594635, 'learning_rate': 1.0850419220742621e-06, 'epoch': 1.9}\n",
      "{'embedding_loss': 0.0043, 'grad_norm': 0.38357844948768616, 'learning_rate': 1.0145846544071023e-06, 'epoch': 1.91}\n",
      "{'embedding_loss': 0.0094, 'grad_norm': 0.1496230810880661, 'learning_rate': 9.441273867399423e-07, 'epoch': 1.92}\n",
      "{'embedding_loss': 0.0036, 'grad_norm': 0.24197964370250702, 'learning_rate': 8.736701190727824e-07, 'epoch': 1.92}\n",
      "{'embedding_loss': 0.0053, 'grad_norm': 0.10304928570985794, 'learning_rate': 8.032128514056225e-07, 'epoch': 1.93}\n",
      "{'embedding_loss': 0.0038, 'grad_norm': 0.15549615025520325, 'learning_rate': 7.327555837384627e-07, 'epoch': 1.93}\n",
      "{'embedding_loss': 0.0041, 'grad_norm': 0.12970788776874542, 'learning_rate': 6.622983160713028e-07, 'epoch': 1.94}\n",
      "{'embedding_loss': 0.0034, 'grad_norm': 0.24766989052295685, 'learning_rate': 5.91841048404143e-07, 'epoch': 1.95}\n",
      "{'embedding_loss': 0.0065, 'grad_norm': 0.19540292024612427, 'learning_rate': 5.213837807369831e-07, 'epoch': 1.95}\n",
      "{'embedding_loss': 0.0059, 'grad_norm': 0.12735222280025482, 'learning_rate': 4.509265130698232e-07, 'epoch': 1.96}\n",
      "{'embedding_loss': 0.007, 'grad_norm': 0.07604625076055527, 'learning_rate': 3.804692454026633e-07, 'epoch': 1.97}\n",
      "{'embedding_loss': 0.008, 'grad_norm': 0.11942002177238464, 'learning_rate': 3.1001197773550346e-07, 'epoch': 1.97}\n",
      "{'embedding_loss': 0.0058, 'grad_norm': 0.12237720191478729, 'learning_rate': 2.395547100683436e-07, 'epoch': 1.98}\n",
      "{'embedding_loss': 0.0037, 'grad_norm': 0.2261202186346054, 'learning_rate': 1.690974424011837e-07, 'epoch': 1.98}\n",
      "{'embedding_loss': 0.0065, 'grad_norm': 0.2567342221736908, 'learning_rate': 9.864017473402382e-08, 'epoch': 1.99}\n",
      "{'embedding_loss': 0.0045, 'grad_norm': 0.43650564551353455, 'learning_rate': 2.818290706686395e-08, 'epoch': 2.0}\n",
      "{'train_runtime': 1920.9202, 'train_samples_per_second': 131.354, 'train_steps_per_second': 8.21, 'train_loss': 0.01045620235541839, 'epoch': 2.0}\n"
     ]
    }
   ],
   "source": [
    "trainer.train()"
   ]
  },
  {
   "cell_type": "markdown",
   "metadata": {},
   "source": [
    "Das nach-trainierte Modell wird in einem ersten Schritt lokal gespeichert:"
   ]
  },
  {
   "cell_type": "code",
   "execution_count": 13,
   "metadata": {},
   "outputs": [],
   "source": [
    "# Speichern des Modells auf deinem PC\n",
    "model.save_pretrained(\"models\")  # Ersetze den Pfad durch deinen gewünschten Speicherort\n"
   ]
  },
  {
   "cell_type": "markdown",
   "metadata": {},
   "source": [
    "In einem weiteren Schritt wird das Modeel auf das Hugging-Face-Hub geladen:"
   ]
  },
  {
   "cell_type": "code",
   "execution_count": null,
   "metadata": {},
   "outputs": [],
   "source": [
    "model = SetFitModel.from_pretrained(\"models\")  # Ändere den Pfad zu deinem Modell\n",
    "\n",
    "trainer.push_to_hub(\"Chernoffface/fs-setfit-multilable-model\")"
   ]
  },
  {
   "cell_type": "markdown",
   "metadata": {},
   "source": [
    "Done. Das Training ist beendet 🤗."
   ]
  }
 ],
 "metadata": {
  "kernelspec": {
   "display_name": "Poetry Future Skills Enviorment",
   "language": "python",
   "name": "poetry_fs_env"
  },
  "language_info": {
   "codemirror_mode": {
    "name": "ipython",
    "version": 3
   },
   "file_extension": ".py",
   "mimetype": "text/x-python",
   "name": "python",
   "nbconvert_exporter": "python",
   "pygments_lexer": "ipython3",
   "version": "3.12.3"
  }
 },
 "nbformat": 4,
 "nbformat_minor": 2
}
