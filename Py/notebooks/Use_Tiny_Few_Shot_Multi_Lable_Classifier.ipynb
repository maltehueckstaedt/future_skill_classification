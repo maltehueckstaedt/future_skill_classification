{
 "cells": [
  {
   "cell_type": "markdown",
   "metadata": {},
   "source": [
    "# Anwendung des Classifers\n",
    "\n",
    "## Laden von Paketen\n",
    "\n",
    " Die Anwendung des Classifiers ist so einfach wie möglich gestaltet. In einem ersten Schritt wählen wir unser Enviorment `future-skill-classification` und laden die für die Vorhersage der Labels nötigen Pakete:"
   ]
  },
  {
   "cell_type": "code",
   "execution_count": 2,
   "metadata": {},
   "outputs": [
    {
     "ename": "ModuleNotFoundError",
     "evalue": "No module named 'pyreadr'",
     "output_type": "error",
     "traceback": [
      "\u001b[1;31m---------------------------------------------------------------------------\u001b[0m",
      "\u001b[1;31mModuleNotFoundError\u001b[0m                       Traceback (most recent call last)",
      "Cell \u001b[1;32mIn[2], line 1\u001b[0m\n\u001b[1;32m----> 1\u001b[0m \u001b[38;5;28;01mimport\u001b[39;00m \u001b[38;5;21;01mpyreadr\u001b[39;00m  \u001b[38;5;66;03m# Zum Lesen von R-Daten in Python\u001b[39;00m\n\u001b[0;32m      2\u001b[0m \u001b[38;5;28;01mimport\u001b[39;00m \u001b[38;5;21;01mos\u001b[39;00m       \u001b[38;5;66;03m# Funktionen zum Interagieren mit dem Betriebssystem\u001b[39;00m\n\u001b[0;32m      3\u001b[0m \u001b[38;5;28;01mimport\u001b[39;00m \u001b[38;5;21;01mpandas\u001b[39;00m \u001b[38;5;28;01mas\u001b[39;00m \u001b[38;5;21;01mpd\u001b[39;00m  \u001b[38;5;66;03m# Datenanalyse und -manipulation mit DataFrames\u001b[39;00m\n",
      "\u001b[1;31mModuleNotFoundError\u001b[0m: No module named 'pyreadr'"
     ]
    }
   ],
   "source": [
    "import pyreadr  # Zum Lesen von R-Daten in Python\n",
    "import os       # Funktionen zum Interagieren mit dem Betriebssystem\n",
    "import pandas as pd  # Datenanalyse und -manipulation mit DataFrames\n",
    "import re # Regrex-Paket für die Bereinigung von Strings\n",
    "from tqdm import tqdm # Paket fürs Anzeigen von Fortschritt beim Ausführen von Funktionen\n",
    "from setfit import SetFitModel  # Zum Laden des SetFit-Modells von Hugging Face bzw. aus dem lokalen Ordner heraus"
   ]
  },
  {
   "cell_type": "markdown",
   "metadata": {},
   "source": [
    "## Laden der HEX-Daten\n",
    "\n",
    "Wir checken das Root-Verzeichnis. Stimmt dieses nicht, bestimmen wir das Korrekte und lesen `db_hex.rds` ein. "
   ]
  },
  {
   "cell_type": "code",
   "execution_count": 13,
   "metadata": {},
   "outputs": [
    {
     "name": "stdout",
     "output_type": "stream",
     "text": [
      "c:\\Users\\Hueck\\OneDrive\\Dokumente\\GitHub\\future_skill_classification\n"
     ]
    }
   ],
   "source": [
    "# checke home-verzeichnis\n",
    "print(os.getcwd())\n",
    "# setze home-verzeichnis\n",
    "os.chdir('c:/Users/Hueck/OneDrive/Dokumente/GitHub/future_skill_classification/')\n",
    "# lade HEX-Daten. Hinweise: Zurückgegben eine Liste mit einem Element (dem Data Frame).\n",
    "# Dieses lassen wir uns mit `.values())[0]` zurückgeben.\n",
    "#df_hex = list(pyreadr.read_r('data/db_hex.rds').values())[0]"
   ]
  },
  {
   "cell_type": "markdown",
   "metadata": {},
   "source": [
    "Um die Classifier zu testen, wenden wir ihn vorerst nur auf 1% zufällig gezogener Zeilen an. Dafür *ziehen* wir die entsprechende Stichprobe und speichern sie in dem Objekt `df_hex_sample`."
   ]
  },
  {
   "cell_type": "code",
   "execution_count": 5,
   "metadata": {},
   "outputs": [],
   "source": [
    "df_hex_sample = df_hex.sample(frac=1)  # Nimmt 10 % der Zeilen"
   ]
  },
  {
   "cell_type": "markdown",
   "metadata": {},
   "source": [
    "In einem weiteren Schritt werden die Daten für die Klassifikation vorbereitet: \n",
    "\n",
    "- `NAs` werden durch leere Strings ersetzt\n",
    "- Die Variablen `titel` und `kursbeschreibung` zusammengefügt und – falls eine Kursbeschreibung vorhanden ist – ein Doppelpunkt zwischen `titel` und `kursbeschreibung` gesetzt."
   ]
  },
  {
   "cell_type": "code",
   "execution_count": 7,
   "metadata": {},
   "outputs": [],
   "source": [
    "# Ersetze NaN-Werte in den Spalten 'titel' und 'kursbeschreibung' durch leere Strings\n",
    "df_hex_sample['titel'] = df_hex_sample['titel'].fillna('')\n",
    "df_hex_sample['kursbeschreibung'] = df_hex_sample['kursbeschreibung'].fillna('')\n",
    "df_hex_sample['lernziele'] = df_hex_sample['lernziele'].fillna('')\n",
    "\n",
    "\n",
    "# Kombiniere die Spalten und füge den Doppelpunkt nur hinzu, wenn eine Kursbeschreibung vorhanden ist\n",
    "df_hex_sample['sentence'] = df_hex_sample.apply(\n",
    "    lambda row: row['titel'] \n",
    "                + (\": \" + row['kursbeschreibung'] if row['kursbeschreibung'] else \"\")\n",
    "                + (\". Lernziele: \" + row['lernziele'] if row['lernziele'] else \"\"),\n",
    "    axis=1\n",
    ")"
   ]
  },
  {
   "cell_type": "markdown",
   "metadata": {},
   "source": [
    "## Definition von Funktionen für die Vorhersage von Future Skills\n",
    "\n",
    "Um die Future Skills der Kurse der Datenbank mit unserem Modell vorhersagen zu können, erstellen wir eine Funktion, die durch die Zeilen der `db_hex.rds` iteriert und die entsprechenden Schätzungen anhand der oben präparierten `sentence`-Variable vornimmt."
   ]
  },
  {
   "cell_type": "code",
   "execution_count": 9,
   "metadata": {},
   "outputs": [],
   "source": [
    "# Fortschrittsbalken für Pandas aktivieren, um die Fortschritt der Prädiktion besser nachvollziehen zu können.\n",
    "tqdm.pandas()\n",
    "\n",
    "# Definiere eine Funktion, die das Modell auf eine Kursbeschreibung anwendet\n",
    "def predict_course_description(description):\n",
    "    # Überprüfen, ob die Beschreibung ein String ist\n",
    "    if isinstance(description, str):\n",
    "        preds = model(description)\n",
    "        return preds\n",
    "    # Falls `sentence` ein nicht-String-Objekt, gib eine leere Liste\n",
    "    return []"
   ]
  },
  {
   "cell_type": "markdown",
   "metadata": {},
   "source": [
    "Die Funktion `predict_course_description` gibt uns einen sechsdimensionalen Tensoren zurück, der die Existenz der Future Skills pro Kurs anzeigt:\n",
    "\n",
    "```\n",
    "[1, 0, 0, 1, 0, 0]\n",
    "```\n",
    "Für die Interpretation des Tensors berücksichtigen wir die Reihenfolge der Variablen unserer Eingangsdaten. Siehe dazu in  `notebooks/Tiny_Few_Shot_Multi_Label_Classifier.ipynb` Sektion `Daten laden`. Im derzeitigen Fall wäre dies die folgende:\n",
    "\n",
    "```\n",
    "['Data Analytics & KI', 'Softwareentwicklung', 'Nutzerzentriertes Design', 'IT-Architektur', 'Hardware/Robotikentwicklung', 'Quantencomputing']\n",
    "```\n",
    "\n",
    "Dementsprechend würden in dem obigen Beispiel die Skills 'Data Analytics & KI' sowie 'IT-Architektur' klassifiziert.\n",
    "\n",
    "Um die Tensoren zeilenweise wieder in gültige Labels zu überführen spezifizieren wir eine weitere Funktion: "
   ]
  },
  {
   "cell_type": "code",
   "execution_count": 10,
   "metadata": {},
   "outputs": [],
   "source": [
    "fs_labels = ['Data Analytics & KI', 'Softwareentwicklung', 'Nutzerzentriertes Design', 'IT-Architektur', 'Hardware/Robotikentwicklung', 'Quantencomputing']\n",
    "\n",
    "import pandas as pd\n",
    "import numpy as np\n",
    "\n",
    "def convert_tensor_to_labels(tensor):\n",
    "    # Falls der Tensor NaN ist, gib None zurück\n",
    "    if isinstance(tensor, float) and pd.isna(tensor):  # Überprüft, ob der gesamte Tensor NaN ist\n",
    "        return None  # Oder verwende np.nan\n",
    "    \n",
    "    # Sicherstellen, dass die Länge des Tensors der Länge der fs_labels-Liste entspricht\n",
    "    if len(tensor) != len(fs_labels):\n",
    "        print(f\"Warnung: Unerwartete Tensorgröße {len(tensor)}, erwartet: {len(fs_labels)}\")\n",
    "        return 'Fehlerhafte Vorhersage'\n",
    "    \n",
    "    # Identifiziere die Positionen, wo der Wert 1 ist\n",
    "    selected_labels = [fs_labels[i] for i, val in enumerate(tensor) if val == 1]\n",
    "    \n",
    "    # Falls keine Labels ausgewählt wurden, gib None zurück\n",
    "    return ', '.join(selected_labels) if selected_labels else None  # Oder np.nan\n"
   ]
  },
  {
   "cell_type": "markdown",
   "metadata": {},
   "source": [
    "## Modell laden, Prädiktion durchführen\n",
    "\n",
    "Das trainierte Modell kann nun entweder lokal oder aus dem Hugging Face-Hub geladen werden. Anschließend wird mit `predict_course_description` die Prädiktion pro Kurs durchgeführt und die resultierenden Tensoren in eine leicht interpretierbare String-Variable überführt."
   ]
  },
  {
   "cell_type": "code",
   "execution_count": 11,
   "metadata": {},
   "outputs": [
    {
     "name": "stderr",
     "output_type": "stream",
     "text": [
      "100%|██████████| 1968993/1968993 [5:31:50<00:00, 98.89it/s]   \n",
      "100%|██████████| 1968993/1968993 [00:56<00:00, 35037.69it/s]\n"
     ]
    }
   ],
   "source": [
    "# Laden des vortrainierten Modells\n",
    "\n",
    "# Aus dem HF-HUB:\n",
    "#model = SetFitModel.from_pretrained(\"Chernoffface/fs-setfit-multilable-model\")\n",
    "\n",
    "# Lokal:\n",
    "model = SetFitModel.from_pretrained(\"models\")  # Ändere den Pfad zu deinem Modell\n",
    "\n",
    "# Prediction anhand von predict_course_description\n",
    "df_hex_sample[\"Pred_Tensor\"] = df_hex_sample[\"sentence\"].progress_apply(predict_course_description)\n",
    "\n",
    "# Umwandlung des Tensors in String-Variable\n",
    "df_hex_sample[\"FS_Skill\"] = df_hex_sample[\"Pred_Tensor\"].progress_apply(lambda x: convert_tensor_to_labels(x))\n",
    "\n",
    "# Tabelle der Resultate:\n",
    "label_counts = df_hex_sample['FS_Skill'].value_counts()"
   ]
  },
  {
   "cell_type": "markdown",
   "metadata": {},
   "source": []
  },
  {
   "cell_type": "markdown",
   "metadata": {},
   "source": [
    "## Datenexport\n",
    "\n",
    "Done🤗. Insbesondere bei der Klassifizierung der ganzen HEX Datenbank exportieren wir aufgrund der überaus hohen Menge an Zeilen nach `.csv`."
   ]
  },
  {
   "cell_type": "code",
   "execution_count": 14,
   "metadata": {},
   "outputs": [],
   "source": [
    "# Exportiere den DataFrame in eine Excel-Datei\n",
    "df_hex_sample.to_csv('data/hex_classified_fs_with_lernziele.csv', index=False)"
   ]
  }
 ],
 "metadata": {
  "kernelspec": {
   "display_name": "fs_skills_classifier_env",
   "language": "python",
   "name": "python3"
  },
  "language_info": {
   "codemirror_mode": {
    "name": "ipython",
    "version": 3
   },
   "file_extension": ".py",
   "mimetype": "text/x-python",
   "name": "python",
   "nbconvert_exporter": "python",
   "pygments_lexer": "ipython3",
   "version": "3.12.7"
  }
 },
 "nbformat": 4,
 "nbformat_minor": 2
}
