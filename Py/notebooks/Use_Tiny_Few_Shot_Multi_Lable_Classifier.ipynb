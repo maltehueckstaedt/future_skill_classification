{
 "cells": [
  {
   "cell_type": "code",
   "execution_count": 2,
   "metadata": {},
   "outputs": [
    {
     "name": "stdout",
     "output_type": "stream",
     "text": [
      "c:\\Users\\Hueck\\OneDrive\\Dokumente\\GitHub\\future_skill_classification\\Py\\notebooks\n"
     ]
    }
   ],
   "source": [
    "import pyreadr\n",
    "import os \n",
    "import pandas as pd\n",
    "# checke home-verzeichnis\n",
    "print(os.getcwd())\n",
    "# setze home-verzeichnis\n",
    "os.chdir('c:/Users/Hueck/OneDrive/Dokumente/GitHub/future_skill_classification/')\n",
    "\n",
    "df_hex = list(pyreadr.read_r('data/db_hex.rds').values())[0]\n"
   ]
  },
  {
   "cell_type": "code",
   "execution_count": 3,
   "metadata": {},
   "outputs": [],
   "source": [
    "df = df_hex.sample(n=10000)"
   ]
  },
  {
   "cell_type": "code",
   "execution_count": 4,
   "metadata": {},
   "outputs": [],
   "source": [
    "import re\n",
    "\n",
    "# Ersetze NaN-Werte in den Spalten 'titel' und 'kursbeschreibung' durch leere Strings\n",
    "df['titel'] = df['titel'].fillna('')\n",
    "df['kursbeschreibung'] = df['kursbeschreibung'].fillna('')\n",
    "\n",
    "# Kombiniere die Spalten und füge den Doppelpunkt nur hinzu, wenn eine Kursbeschreibung vorhanden ist\n",
    "df['sentence'] = df.apply(lambda row: row['titel'] + (\": \" + row['kursbeschreibung'] if row['kursbeschreibung'] else \"\"), axis=1)\n",
    "\n",
    "# # Entfernen der alphanumerischen Codes mit Punkten und Bindestrichen\n",
    "# df['sentence'] = df['sentence'].str.replace(r'\\b[\\w]+([.-][\\w]+)+\\b', '', regex=True)\n",
    "\n",
    "# # Entfernen von unnötigen Leerzeichen\n",
    "# df['sentence'] = df['sentence'].str.strip().replace(r'\\s+', ' ', regex=True)"
   ]
  },
  {
   "cell_type": "code",
   "execution_count": 5,
   "metadata": {},
   "outputs": [],
   "source": [
    "import torch\n",
    "torch.cuda.empty_cache()"
   ]
  },
  {
   "cell_type": "code",
   "execution_count": 6,
   "metadata": {},
   "outputs": [],
   "source": [
    "from tqdm import tqdm\n",
    "tqdm.pandas()"
   ]
  },
  {
   "cell_type": "code",
   "execution_count": 7,
   "metadata": {},
   "outputs": [
    {
     "name": "stderr",
     "output_type": "stream",
     "text": [
      "c:\\Users\\Hueck\\AppData\\Local\\pypoetry\\Cache\\virtualenvs\\future-skill-classification--ys6-NbF-py3.12\\Lib\\site-packages\\tqdm\\auto.py:21: TqdmWarning: IProgress not found. Please update jupyter and ipywidgets. See https://ipywidgets.readthedocs.io/en/stable/user_install.html\n",
      "  from .autonotebook import tqdm as notebook_tqdm\n",
      "100%|██████████| 10000/10000 [01:39<00:00, 100.17it/s]"
     ]
    },
    {
     "name": "stdout",
     "output_type": "stream",
     "text": [
      "            hochschulname_kurz  \\\n",
      "1165863              HU Berlin   \n",
      "1755668   MLU Halle-Wittenberg   \n",
      "74308                   U Köln   \n",
      "1833104   MLU Halle-Wittenberg   \n",
      "1592798               CAU Kiel   \n",
      "...                        ...   \n",
      "852822   FAU Erlangen-Nürnberg   \n",
      "1805445   MLU Halle-Wittenberg   \n",
      "760355   FAU Erlangen-Nürnberg   \n",
      "1276319         HHU Düsseldorf   \n",
      "806053   FAU Erlangen-Nürnberg   \n",
      "\n",
      "                                                hochschule  \\\n",
      "1165863                     Humboldt-Universität zu Berlin   \n",
      "1755668                                  Universität Halle   \n",
      "74308                                  Universität zu Köln   \n",
      "1833104                                  Universität Halle   \n",
      "1592798            Christian-Albrechts-Universität zu Kiel   \n",
      "...                                                    ...   \n",
      "852822   Friedrich-Alexander-Universität Erlangen-Nürnberg   \n",
      "1805445                                  Universität Halle   \n",
      "760355   Friedrich-Alexander-Universität Erlangen-Nürnberg   \n",
      "1276319              Heinrich-Heine-Universität Düsseldorf   \n",
      "806053   Friedrich-Alexander-Universität Erlangen-Nürnberg   \n",
      "\n",
      "                                                 fakultaet fachbereich  \\\n",
      "1165863                            Philosophische Fakultät         NaN   \n",
      "1755668  Philosophische Fakultät II - Philologien, Komm...         NaN   \n",
      "74308                              Philosophische Fakultät         NaN   \n",
      "1833104  Naturwissenschaftliche Fakultät III - Agrarwis...         NaN   \n",
      "1592798  Wirtschafts- und Sozialwissenschaftliche Fakultät         NaN   \n",
      "...                                                    ...         ...   \n",
      "852822                          Philosophische Fakultät II         NaN   \n",
      "1805445  Philosophische Fakultät I - Sozialwissenschaft...         NaN   \n",
      "760355                         Medizinische Fakultät (Med)         NaN   \n",
      "1276319       Mathematisch-Naturwissenschaftliche Fakultät         NaN   \n",
      "806053               Naturwissenschaftliche Fakultät (Nat)         NaN   \n",
      "\n",
      "        MINT_MN MINT_T                                        institut  \\\n",
      "1165863       0    NaN                        Institut für Philosophie   \n",
      "1755668     NaN    NaN                                             NaN   \n",
      "74308         0    NaN                                             NaN   \n",
      "1833104     NaN    NaN                                             NaN   \n",
      "1592798       0      0                                     Ökonometrie   \n",
      "...         ...    ...                                             ...   \n",
      "852822      NaN    NaN                                 Sprachenzentrum   \n",
      "1805445     NaN    NaN                                             NaN   \n",
      "760355      NaN    NaN  Psychiatrische und Psychotherapeutische Klinik   \n",
      "1276319       1    NaN                                             NaN   \n",
      "806053      NaN    NaN                 Department Chemie und Pharmazie   \n",
      "\n",
      "                                              organisation  \\\n",
      "1165863                           Institut für Philosophie   \n",
      "1755668                            Institut für Romanistik   \n",
      "74308    Institut für Sprachen und Kulturen der islamis...   \n",
      "1833104      Institut für Geowissenschaften und Geographie   \n",
      "1592798                                        Ökonometrie   \n",
      "...                                                    ...   \n",
      "852822                                                 NaN   \n",
      "1805445          Ethnologie/Kulturvergleichende Soziologie   \n",
      "760355                                                 NaN   \n",
      "1276319               Wissenschaftliche Einrichtung Physik   \n",
      "806053                                                 NaN   \n",
      "\n",
      "                                                      pfad  \\\n",
      "1165863  Einrichtungen > Humboldt-Universität > Präsidi...   \n",
      "1755668  Philosophische Fakultät II - Philologien, Komm...   \n",
      "74308    Fakultäten > Philosophische Fakultät > Fächerg...   \n",
      "1833104  c(\"Naturwissenschaftliche Fakultät III - Agrar...   \n",
      "1592798  Vorlesungsverzeichnis > Wirtschafts- und Sozia...   \n",
      "...                                                    ...   \n",
      "852822   Philosophische Fakultät II - Sprachenzentrum -...   \n",
      "1805445  Philosophische Fakultät I - Sozialwissenschaft...   \n",
      "760355   Medizinische Fakultät (Med) - Psychiatrische u...   \n",
      "1276319  Lehrveranstaltungen Wintersemester 2022/23 / M...   \n",
      "806053   Naturwissenschaftliche Fakultät (Nat) - Depart...   \n",
      "\n",
      "                                             studiengaenge  ...  \\\n",
      "1165863                                           list(NA)  ...   \n",
      "1755668                                                NaN  ...   \n",
      "74308    list(curriculum_raw = c(\"ASuK - Alte Geschicht...  ...   \n",
      "1833104                                                NaN  ...   \n",
      "1592798                                                NaN  ...   \n",
      "...                                                    ...  ...   \n",
      "852822   UNICERT Stufe IV: Fachbezogene Fremdsprachenau...  ...   \n",
      "1805445                                                NaN  ...   \n",
      "760355                    Title.med.KLIN.PKP.klinis.sonsti  ...   \n",
      "1276319                 Naturwissenschaften (BSc, PO 2018)  ...   \n",
      "806053                           Title.natur1.ipl.3.grunds  ...   \n",
      "\n",
      "        teilnehmerzahl pruefung scrape_datum semester  jahr  \\\n",
      "1165863            NaN      NaN        19489        s  2015   \n",
      "1755668              1      NaN        19934   winter  2009   \n",
      "74308              NaN  Details        19294        w  2021   \n",
      "1833104            223      NaN        19934   winter  2020   \n",
      "1592798             50      NaN        19957        s  2003   \n",
      "...                ...      ...          ...      ...   ...   \n",
      "852822             NaN      NaN   2023-03-22       ws  2001   \n",
      "1805445             11      NaN        19934   sommer  2017   \n",
      "760355             NaN      NaN   2023-03-22       ss  2012   \n",
      "1276319            NaN      NaN        19480        w  2022   \n",
      "806053             NaN      NaN   2023-03-22       ss  2018   \n",
      "\n",
      "                                    studienbereich  \\\n",
      "1165863                                Philosophie   \n",
      "1755668                                 Romanistik   \n",
      "74308    Sonstige Sprach- und Kulturwissenschaften   \n",
      "1833104        Geowissenschaften (ohne Geographie)   \n",
      "1592798                                        NaN   \n",
      "...                                            ...   \n",
      "852822                                         NaN   \n",
      "1805445            Sozialwissenschaften/Soziologie   \n",
      "760355                                         NaN   \n",
      "1276319                         Physik, Astronomie   \n",
      "806053                                         NaN   \n",
      "\n",
      "                                          faechergruppe lufcode  \\\n",
      "1165863                           Geisteswissenschaften     040   \n",
      "1755668                           Geisteswissenschaften     120   \n",
      "74308                             Geisteswissenschaften     140   \n",
      "1833104                 Mathematik, Naturwissenschaften     410   \n",
      "1592798                           Geisteswissenschaften      NA   \n",
      "...                                                 ...     ...   \n",
      "852822                                              NaN     NaN   \n",
      "1805445  Rechts-, Wirtschafts- und Sozialwissenschaften     235   \n",
      "760355                                              NaN     NaN   \n",
      "1276319                 Mathematik, Naturwissenschaften     360   \n",
      "806053                                              NaN     NaN   \n",
      "\n",
      "                                                  sentence  \\\n",
      "1165863  Das Netz und die digitale Revolution / The Int...   \n",
      "1755668  Einführung in die Kulturwissenschaft Italien: ...   \n",
      "74308                 Arabisch I b (ausschließlich online)   \n",
      "1833104  Manager MnR: <3 -lich willkommen im virtuellen...   \n",
      "1592798            Übung zur Einführung in die Ökonometrie   \n",
      "...                                                    ...   \n",
      "852822   Portugiesisch: Deonísio da Silva: \"Os Guerreir...   \n",
      "1805445  Ethnologie der Jagd - SE II (A: Wirtschaft/Tec...   \n",
      "760355   Forschungskolloquium: Neue Studien und Ergebni...   \n",
      "1276319  Mikrobiologie für Naturwissenschaften: Liebe S...   \n",
      "806053   Klausureinsicht Allgemeine und analytische Chemie   \n",
      "\n",
      "                                               Vorhersagen  \n",
      "1165863  [tensor(0), tensor(0), tensor(0), tensor(0), t...  \n",
      "1755668  [tensor(0), tensor(0), tensor(0), tensor(0), t...  \n",
      "74308    [tensor(0), tensor(0), tensor(0), tensor(0), t...  \n",
      "1833104  [tensor(0), tensor(0), tensor(0), tensor(0), t...  \n",
      "1592798  [tensor(0), tensor(0), tensor(0), tensor(0), t...  \n",
      "...                                                    ...  \n",
      "852822   [tensor(0), tensor(0), tensor(0), tensor(0), t...  \n",
      "1805445  [tensor(0), tensor(0), tensor(0), tensor(0), t...  \n",
      "760355   [tensor(0), tensor(0), tensor(0), tensor(0), t...  \n",
      "1276319  [tensor(0), tensor(0), tensor(0), tensor(0), t...  \n",
      "806053   [tensor(0), tensor(0), tensor(0), tensor(0), t...  \n",
      "\n",
      "[10000 rows x 38 columns]\n"
     ]
    },
    {
     "name": "stderr",
     "output_type": "stream",
     "text": [
      "\n"
     ]
    }
   ],
   "source": [
    "import pandas as pd\n",
    "from setfit import SetFitModel\n",
    "\n",
    "# Laden des vortrainierten Modells von Hugging Face\n",
    "#model = SetFitModel.from_pretrained(\"Chernoffface/fs-setfit-multilable-model\")\n",
    "model = SetFitModel.from_pretrained(\"models\")  # Ändere den Pfad zu deinem Modell\n",
    "\n",
    "\n",
    "# Definiere die Labels in der richtigen Reihenfolge\n",
    "fs_labels = ['Data Analytics & KI', 'Softwareentwicklung', 'Nutzerzentriertes Design', 'IT-Architektur', 'Hardware/Robotikentwicklung', 'Quantencomputing']\n",
    "\n",
    "# Definiere eine Funktion, die das Modell auf eine Kursbeschreibung anwendet\n",
    "def predict_course_description(description):\n",
    "    # Überprüfen, ob die Beschreibung ein String ist\n",
    "    if isinstance(description, str):\n",
    "        preds = model(description)\n",
    "        return preds\n",
    "    # Falls die Beschreibung keine gültige Zeichenfolge ist, gib eine leere Liste oder eine andere Standardrückgabe zurück\n",
    "    return []\n",
    "\n",
    "# Funktion, um Vorhersagen in String-Variable umzuwandeln\n",
    "def convert_tensor_to_labels(tensor):\n",
    "    # Falls der Tensor NaN ist, gib \"Keine\" zurück\n",
    "    if pd.isna(tensor):\n",
    "        return 'Keine'\n",
    "    \n",
    "    # Identifiziere die Positionen, wo der Wert 1 ist\n",
    "    selected_labels = [fs_labels[i] for i, val in enumerate(tensor) if val == 1]\n",
    "    \n",
    "    # Falls keine Labels ausgewählt wurden, gib \"Keine\" zurück\n",
    "    return ', '.join(selected_labels) if selected_labels else 'Keine'\n",
    "\n",
    "\n",
    "# Wende die Vorhersagen und die Umwandlungsfunktion auf jede Kursbeschreibung an\n",
    "df[\"Vorhersagen\"] = df[\"sentence\"].progress_apply(predict_course_description)\n",
    "#df[\"FS_Skill\"] = df[\"Vorhersagen\"].progress_apply(lambda x: convert_tensor_to_labels(x))\n",
    "\n",
    "\n",
    "\n",
    "# DataFrame mit den neuen FS_Skill-Spalten anzeigen\n",
    "print(df)\n"
   ]
  },
  {
   "cell_type": "code",
   "execution_count": 8,
   "metadata": {},
   "outputs": [
    {
     "name": "stderr",
     "output_type": "stream",
     "text": [
      "100%|██████████| 10000/10000 [00:00<00:00, 34879.55it/s]\n"
     ]
    }
   ],
   "source": [
    "def convert_tensor_to_labels(tensor):\n",
    "    # Falls der Tensor NaN ist, gib \"Keine\" zurück\n",
    "    if pd.isna(tensor):\n",
    "        return 'Keine'\n",
    "    \n",
    "    # Sicherstellen, dass die Länge des Tensors der Länge der fs_labels-Liste entspricht\n",
    "    if len(tensor) != len(fs_labels):\n",
    "        print(f\"Warnung: Unerwartete Tensorgröße {len(tensor)}, erwartet: {len(fs_labels)}\")\n",
    "        return 'Fehlerhafte Vorhersage'\n",
    "    \n",
    "    # Identifiziere die Positionen, wo der Wert 1 ist\n",
    "    selected_labels = [fs_labels[i] for i, val in enumerate(tensor) if val == 1]\n",
    "    \n",
    "    # Falls keine Labels ausgewählt wurden, gib \"Keine\" zurück\n",
    "    return ', '.join(selected_labels) if selected_labels else 'Keine'\n",
    "\n",
    "fs_labels = ['Data Analytics & KI', 'Softwareentwicklung', 'Nutzerzentriertes Design', 'IT-Architektur', 'Hardware/Robotikentwicklung', 'Quantencomputing']\n",
    "df[\"FS_Skill\"] = df[\"Vorhersagen\"].progress_apply(lambda x: convert_tensor_to_labels(x))\n"
   ]
  },
  {
   "cell_type": "code",
   "execution_count": 9,
   "metadata": {},
   "outputs": [
    {
     "data": {
      "text/plain": [
       "pandas.core.series.Series"
      ]
     },
     "execution_count": 9,
     "metadata": {},
     "output_type": "execute_result"
    }
   ],
   "source": [
    "type(df[\"Vorhersagen\"])"
   ]
  },
  {
   "cell_type": "code",
   "execution_count": 10,
   "metadata": {},
   "outputs": [],
   "source": [
    "# Exportiere den DataFrame in eine Excel-Datei\n",
    "# Exportiere den DataFrame in eine Excel-Datei\n",
    "df.to_csv('output_large.csv', index=False)\n",
    "\n",
    "\n",
    "\n"
   ]
  },
  {
   "cell_type": "code",
   "execution_count": 1,
   "metadata": {},
   "outputs": [
    {
     "ename": "NameError",
     "evalue": "name 'df' is not defined",
     "output_type": "error",
     "traceback": [
      "\u001b[1;31m---------------------------------------------------------------------------\u001b[0m",
      "\u001b[1;31mNameError\u001b[0m                                 Traceback (most recent call last)",
      "Cell \u001b[1;32mIn[1], line 1\u001b[0m\n\u001b[1;32m----> 1\u001b[0m label_counts \u001b[38;5;241m=\u001b[39m \u001b[43mdf\u001b[49m[\u001b[38;5;124m'\u001b[39m\u001b[38;5;124mFS_Skill\u001b[39m\u001b[38;5;124m'\u001b[39m]\u001b[38;5;241m.\u001b[39mvalue_counts()\n",
      "\u001b[1;31mNameError\u001b[0m: name 'df' is not defined"
     ]
    }
   ],
   "source": [
    "label_counts = df['FS_Skill'].value_counts()"
   ]
  },
  {
   "cell_type": "code",
   "execution_count": 11,
   "metadata": {},
   "outputs": [
    {
     "name": "stderr",
     "output_type": "stream",
     "text": [
      "c:\\Users\\Hueck\\AppData\\Local\\pypoetry\\Cache\\virtualenvs\\future-skill-classification--ys6-NbF-py3.12\\Lib\\site-packages\\huggingface_hub\\file_download.py:147: UserWarning: `huggingface_hub` cache-system uses symlinks by default to efficiently store duplicated files but your machine does not support them in C:\\Users\\Hueck\\.cache\\huggingface\\hub\\models--Chernoffface--fs-setfit-multilable-model. Caching files will still work but in a degraded version that might require more space on your disk. This warning can be disabled by setting the `HF_HUB_DISABLE_SYMLINKS_WARNING` environment variable. For more details, see https://huggingface.co/docs/huggingface_hub/how-to-cache#limitations.\n",
      "To support symlinks on Windows, you either need to activate Developer Mode or to run Python as an administrator. In order to activate developer mode, see this article: https://docs.microsoft.com/en-us/windows/apps/get-started/enable-your-device-for-development\n",
      "  warnings.warn(message)\n"
     ]
    }
   ],
   "source": [
    "from setfit import SetFitModel\n",
    "\n",
    "# Download from the 🤗 Hub\n",
    "model = SetFitModel.from_pretrained(\"Chernoffface/fs-setfit-multilable-model\")\n",
    "# Run inference\n",
    "preds = model(\"Grundlagen der Fachdidaktik Pädagogik\")\n"
   ]
  },
  {
   "cell_type": "code",
   "execution_count": 18,
   "metadata": {},
   "outputs": [
    {
     "name": "stdout",
     "output_type": "stream",
     "text": [
      "['Hardware-/Robotikentwicklung', 'Softwareentwicklung', 'Nutzerzentriertes Design', 'Data Analytics & KI', 'Quantencomputing', 'IT-Architektur']\n"
     ]
    },
    {
     "data": {
      "text/plain": [
       "tensor([0, 1, 0, 0, 0, 0])"
      ]
     },
     "execution_count": 18,
     "metadata": {},
     "output_type": "execute_result"
    }
   ],
   "source": [
    " \n",
    "# Greife auf die gespeicherten Labels zu\n",
    "labels = model.labels  # oder model.config.labels, je nach Konfiguration\n",
    "\n",
    "# Zeige die Labels an\n",
    "print(labels)\n",
    "\n",
    "# Verwende das Modell für Vorhersagen\n",
    "preds = model(\"Softwareentwicklung\")\n",
    "preds"
   ]
  }
 ],
 "metadata": {
  "kernelspec": {
   "display_name": "Poetry Future Skills Enviorment",
   "language": "python",
   "name": "poetry_fs_env"
  },
  "language_info": {
   "codemirror_mode": {
    "name": "ipython",
    "version": 3
   },
   "file_extension": ".py",
   "mimetype": "text/x-python",
   "name": "python",
   "nbconvert_exporter": "python",
   "pygments_lexer": "ipython3",
   "version": "3.12.3"
  }
 },
 "nbformat": 4,
 "nbformat_minor": 2
}
