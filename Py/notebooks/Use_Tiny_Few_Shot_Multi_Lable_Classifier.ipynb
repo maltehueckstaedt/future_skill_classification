{
 "cells": [
  {
   "cell_type": "markdown",
   "metadata": {},
   "source": [
    "# Anwendung des Classifers\n",
    "\n",
    "## Laden von Paketen\n",
    "\n",
    " Die Anwendung des Classifiers ist so einfach wie möglich gestaltet. In einem ersten Schritt wählen wir unser Enviorment `future-skill-classification` und laden die für die Vorhersage der Labels nötigen Pakete:"
   ]
  },
  {
   "cell_type": "code",
   "execution_count": 62,
   "metadata": {},
   "outputs": [],
   "source": [
    "import pyreadr  # Zum Lesen von R-Daten in Python\n",
    "import os       # Funktionen zum Interagieren mit dem Betriebssystem\n",
    "import pandas as pd  # Datenanalyse und -manipulation mit DataFrames\n",
    "import re # Regrex-Paket für die Bereinigung von Strings\n",
    "from tqdm import tqdm # Paket fürs Anzeigen von Fortschritt beim Ausführen von Funktionen\n",
    "from setfit import SetFitModel  # Zum Laden des SetFit-Modells von Hugging Face bzw. aus dem lokalen Ordner heraus"
   ]
  },
  {
   "cell_type": "markdown",
   "metadata": {},
   "source": [
    "## Laden der HEX-Daten\n",
    "\n",
    "Wir checken das Root-Verzeichnis. Stimmt dieses nicht, bestimmen wir das Korrekte und lesen `db_hex.rds` ein. "
   ]
  },
  {
   "cell_type": "code",
   "execution_count": 63,
   "metadata": {},
   "outputs": [
    {
     "name": "stdout",
     "output_type": "stream",
     "text": [
      "c:\\Users\\Hueck\\OneDrive\\Dokumente\\GitHub\\future_skill_classification\n"
     ]
    }
   ],
   "source": [
    "# checke home-verzeichnis\n",
    "print(os.getcwd())\n",
    "# setze home-verzeichnis\n",
    "os.chdir('c:/Users/Hueck/OneDrive/Dokumente/GitHub/future_skill_classification/')\n",
    "# lade HEX-Daten. Hinweise: Zurückgegben eine Liste mit einem Element (dem Data Frame).\n",
    "# Dieses lassen wir uns mit `.values())[0]` zurückgeben.\n",
    "df_hex = list(pyreadr.read_r('data/db_hex.rds').values())[0]"
   ]
  },
  {
   "cell_type": "markdown",
   "metadata": {},
   "source": [
    "Um die Classifier zu testen, wenden wir ihn vorerst nur auf 10.000 zufällig gezogene Zeilen an. Dafür *ziehen* wir die entsprechende Stichprobe und speichern sie in dem Objekt `df_hex_sample`."
   ]
  },
  {
   "cell_type": "code",
   "execution_count": 88,
   "metadata": {},
   "outputs": [],
   "source": [
    "df_hex_sample = df_hex.sample(n=100000)"
   ]
  },
  {
   "cell_type": "markdown",
   "metadata": {},
   "source": [
    "In einem weiteren Schritt werden die Daten für die Klassifikation vorbereitet: \n",
    "\n",
    "- `NAs` werden durch leere Strings ersetzt\n",
    "- Die Variablen `titel` und `kursbeschreibung` zusammengefügt und – falls eine Kursbeschreibung vorhanden ist – ein Doppelpunkt zwischen `titel` und `kursbeschreibung` gesetzt."
   ]
  },
  {
   "cell_type": "code",
   "execution_count": 89,
   "metadata": {},
   "outputs": [],
   "source": [
    "# Ersetze NaN-Werte in den Spalten 'titel' und 'kursbeschreibung' durch leere Strings\n",
    "df_hex_sample['titel'] = df_hex_sample['titel'].fillna('')\n",
    "df_hex_sample['kursbeschreibung'] = df_hex_sample['kursbeschreibung'].fillna('')\n",
    "df_hex_sample['lernziele'] = df_hex_sample['lernziele'].fillna('')\n",
    "\n",
    "\n",
    "# Kombiniere die Spalten und füge den Doppelpunkt nur hinzu, wenn eine Kursbeschreibung vorhanden ist\n",
    "df_hex_sample['sentence'] = df_hex_sample.apply(\n",
    "    lambda row: row['titel'] \n",
    "                + (\": \" + row['kursbeschreibung'] if row['kursbeschreibung'] else \"\")\n",
    "                + (\". Lernziele: \" + row['lernziele'] if row['lernziele'] else \"\"),\n",
    "    axis=1\n",
    ")\n"
   ]
  },
  {
   "cell_type": "markdown",
   "metadata": {},
   "source": [
    "## Definition von Funktionen für die Vorhersage von Future Skills\n",
    "\n",
    "Um die Future Skills der Kurse der Datenbank mit unserem Modell vorhersagen zu können, erstellen wir eine Funktion, die durch die Zeilen der `db_hex.rds` iteriert und die entsprechenden Schätzungen anhand der oben präparierten `sentence`-Variable vornimmt."
   ]
  },
  {
   "cell_type": "code",
   "execution_count": 90,
   "metadata": {},
   "outputs": [],
   "source": [
    "# Fortschrittsbalken für Pandas aktivieren, um die Fortschritt der Prädiktion besser nachvollziehen zu können.\n",
    "tqdm.pandas()\n",
    "\n",
    "# Definiere eine Funktion, die das Modell auf eine Kursbeschreibung anwendet\n",
    "def predict_course_description(description):\n",
    "    # Überprüfen, ob die Beschreibung ein String ist\n",
    "    if isinstance(description, str):\n",
    "        preds = model(description)\n",
    "        return preds\n",
    "    # Falls `sentence` ein nicht-String-Objekt, gib eine leere Liste\n",
    "    return []"
   ]
  },
  {
   "cell_type": "markdown",
   "metadata": {},
   "source": [
    "Die Funktion `predict_course_description` gibt uns einen sechsdimensionalen Tensoren zurück, der die Existenz der Future Skills pro Kurs anzeigt:\n",
    "\n",
    "```\n",
    "[1, 0, 0, 1, 0, 0]\n",
    "```\n",
    "Für die Interpretation des Tensors berücksichtigen wir die Reihenfolge der Variablen unserer Eingangsdaten. Siehe dazu in  `notebooks/Tiny_Few_Shot_Multi_Label_Classifier.ipynb` Sektion `Daten laden`. Im derzeitigen Fall wäre dies die folgende:\n",
    "\n",
    "```\n",
    "['Data Analytics & KI', 'Softwareentwicklung', 'Nutzerzentriertes Design', 'IT-Architektur', 'Hardware/Robotikentwicklung', 'Quantencomputing']\n",
    "```\n",
    "\n",
    "Dementsprechend würden in dem obigen Beispiel die Skills 'Data Analytics & KI' sowie 'IT-Architektur' klassifiziert.\n",
    "\n",
    "Um die Tensoren zeilenweise wieder in gültige Labels zu überführen spezifizieren wir eine weitere Funktion: "
   ]
  },
  {
   "cell_type": "code",
   "execution_count": 91,
   "metadata": {},
   "outputs": [],
   "source": [
    "fs_labels = ['Data Analytics & KI', 'Softwareentwicklung', 'Nutzerzentriertes Design', 'IT-Architektur', 'Hardware/Robotikentwicklung', 'Quantencomputing']\n",
    "\n",
    "import pandas as pd\n",
    "import numpy as np\n",
    "\n",
    "def convert_tensor_to_labels(tensor):\n",
    "    # Falls der Tensor NaN ist, gib None zurück\n",
    "    if isinstance(tensor, float) and pd.isna(tensor):  # Überprüft, ob der gesamte Tensor NaN ist\n",
    "        return None  # Oder verwende np.nan\n",
    "    \n",
    "    # Sicherstellen, dass die Länge des Tensors der Länge der fs_labels-Liste entspricht\n",
    "    if len(tensor) != len(fs_labels):\n",
    "        print(f\"Warnung: Unerwartete Tensorgröße {len(tensor)}, erwartet: {len(fs_labels)}\")\n",
    "        return 'Fehlerhafte Vorhersage'\n",
    "    \n",
    "    # Identifiziere die Positionen, wo der Wert 1 ist\n",
    "    selected_labels = [fs_labels[i] for i, val in enumerate(tensor) if val == 1]\n",
    "    \n",
    "    # Falls keine Labels ausgewählt wurden, gib None zurück\n",
    "    return ', '.join(selected_labels) if selected_labels else None  # Oder np.nan\n"
   ]
  },
  {
   "cell_type": "markdown",
   "metadata": {},
   "source": [
    "## Modell laden, Prädiktion durchführen\n",
    "\n",
    "Das trainierte Modell kann nun entweder lokal oder aus dem Hugging Face-Hub geladen werden. Anschließend wird mit `predict_course_description` die Prädiktion pro Kurs durchgeführt und die resultierenden Tensoren in eine leicht interpretierbare String-Variable überführt."
   ]
  },
  {
   "cell_type": "code",
   "execution_count": null,
   "metadata": {},
   "outputs": [
    {
     "name": "stderr",
     "output_type": "stream",
     "text": [
      " 89%|████████▉ | 89089/100000 [15:10<01:59, 91.62it/s] "
     ]
    }
   ],
   "source": [
    "# Laden des vortrainierten Modells\n",
    "\n",
    "# Aus dem HF-HUB:\n",
    "#model = SetFitModel.from_pretrained(\"Chernoffface/fs-setfit-multilable-model\")\n",
    "\n",
    "# Lokal:\n",
    "model = SetFitModel.from_pretrained(\"models\")  # Ändere den Pfad zu deinem Modell\n",
    "\n",
    "# Prediction anhand von predict_course_description\n",
    "df_hex_sample[\"Pred_Tensor\"] = df_hex_sample[\"sentence\"].progress_apply(predict_course_description)\n",
    "\n",
    "# Umwandlung des Tensors in String-Variable\n",
    "df_hex_sample[\"FS_Skill\"] = df_hex_sample[\"Pred_Tensor\"].progress_apply(lambda x: convert_tensor_to_labels(x))\n",
    "\n",
    "# Tabelle der Resultate:\n",
    "label_counts = df_hex_sample['FS_Skill'].value_counts()"
   ]
  },
  {
   "cell_type": "markdown",
   "metadata": {},
   "source": [
    "## Datenexport\n",
    "\n",
    "Done🤗. Insbesondere bei der Klassifizierung der ganzen HEX Datenbank exportieren wir aufgrund der überaus hohen Menge an Zeilen nach `.csv`."
   ]
  },
  {
   "cell_type": "code",
   "execution_count": 76,
   "metadata": {},
   "outputs": [],
   "source": [
    "# Exportiere den DataFrame in eine Excel-Datei\n",
    "df_hex_sample.to_csv('data/hex_classified_fs.csv', index=False)"
   ]
  },
  {
   "cell_type": "markdown",
   "metadata": {},
   "source": [
    "## Datenvisualisierung"
   ]
  },
  {
   "cell_type": "code",
   "execution_count": 83,
   "metadata": {},
   "outputs": [],
   "source": [
    "fg = df_hex['faechergruppe'].unique()"
   ]
  },
  {
   "cell_type": "code",
   "execution_count": 84,
   "metadata": {},
   "outputs": [],
   "source": [
    "import numpy as np\n",
    "\n",
    "# Funktion zur Codierung mit zufälliger Auswahl für bestimmte Kombinationen\n",
    "def assign_mint_label(faechergruppe):\n",
    "    if isinstance(faechergruppe, str):\n",
    "        # Kategorien für MINT und Nicht-MINT\n",
    "        mint_categories = [\"Mathematik\", \"Naturwissenschaften\", \"Ingenieurwissenschaften\"]\n",
    "        non_mint_categories = [\n",
    "            \"Geisteswissenschaften\", \"Rechts-, Wirtschafts- und Sozialwissenschaften\",\n",
    "            \"Humanmedizin\", \"Gesundheitswissenschaften\", \"Kunst\", \n",
    "            \"Agrar-, Forst- und Ernährungswissenschaften\", \"Veterinärmedizin\", \"Sport\"\n",
    "        ]\n",
    "\n",
    "        # Prüfen, ob MINT- und Nicht-MINT-Kategorien beide in faechergruppe vorkommen\n",
    "        has_mint = any(mint in faechergruppe for mint in mint_categories)\n",
    "        has_non_mint = any(non_mint in faechergruppe for non_mint in non_mint_categories)\n",
    "\n",
    "        if has_mint and has_non_mint:\n",
    "            # Zufällige Zuordnung, wenn beide Kategorien vorhanden sind\n",
    "            return np.random.choice([\"MINT\", \"nicht MINT\"])\n",
    "        elif has_mint:\n",
    "            return \"MINT\"\n",
    "        elif has_non_mint:\n",
    "            return \"nicht MINT\"\n",
    "        else:\n",
    "            return \"NA\"  # Wenn Kategorie nicht eindeutig identifizierbar ist\n",
    "    else:\n",
    "        return \"NA\"  # NA für fehlende Werte\n",
    "\n",
    "# Anwenden der Funktion auf die Spalte\n",
    "df_hex_sample['mint_faechergruppe'] = df_hex_sample['faechergruppe'].apply(assign_mint_label)\n"
   ]
  },
  {
   "cell_type": "code",
   "execution_count": 87,
   "metadata": {},
   "outputs": [
    {
     "name": "stdout",
     "output_type": "stream",
     "text": [
      "jahr\n",
      "2017    2.947368\n",
      "2018    2.550091\n",
      "2019    2.578269\n",
      "2020    3.046595\n",
      "2021    2.040816\n",
      "2022    3.934426\n",
      "Name: FS_Skill, dtype: float64\n"
     ]
    }
   ],
   "source": [
    "# Jahr-Spalte in Integer umwandeln und dann den Filter anwenden\n",
    "df_hex_sample['jahr'] = df_hex_sample['jahr'].astype(int)\n",
    "df_hex_sample = df_hex_sample[df_hex_sample['mint_faechergruppe'] != \"NA\"]\n",
    "\n",
    "\n",
    "# Filter für den Zeitraum 2017-2022 und Berechnung des Prozentsatzes von Zeilen mit einem FS_Skill pro Jahr und mint_faechergruppe\n",
    "fs_skill_percentage_by_year_mint = (\n",
    "    df_hex_sample[df_hex_sample['jahr'].between(2017, 2022)]\n",
    "    .groupby(['jahr'])['FS_Skill']\n",
    "    .apply(lambda x: x.notna().mean() * 100)\n",
    ")\n",
    "\n",
    "# Ergebnis anzeigen\n",
    "print(fs_skill_percentage_by_year_mint)\n",
    "\n"
   ]
  },
  {
   "cell_type": "code",
   "execution_count": 86,
   "metadata": {},
   "outputs": [
    {
     "name": "stdout",
     "output_type": "stream",
     "text": [
      "Requirement already satisfied: seaborn in c:\\users\\hueck\\appdata\\local\\pypoetry\\cache\\virtualenvs\\future-skill-classification--ys6-nbf-py3.12\\lib\\site-packages (0.13.2)\n",
      "Requirement already satisfied: numpy!=1.24.0,>=1.20 in c:\\users\\hueck\\appdata\\local\\pypoetry\\cache\\virtualenvs\\future-skill-classification--ys6-nbf-py3.12\\lib\\site-packages (from seaborn) (2.1.2)\n",
      "Requirement already satisfied: pandas>=1.2 in c:\\users\\hueck\\appdata\\local\\pypoetry\\cache\\virtualenvs\\future-skill-classification--ys6-nbf-py3.12\\lib\\site-packages (from seaborn) (2.2.3)\n",
      "Requirement already satisfied: matplotlib!=3.6.1,>=3.4 in c:\\users\\hueck\\appdata\\local\\pypoetry\\cache\\virtualenvs\\future-skill-classification--ys6-nbf-py3.12\\lib\\site-packages (from seaborn) (3.9.2)\n",
      "Requirement already satisfied: contourpy>=1.0.1 in c:\\users\\hueck\\appdata\\local\\pypoetry\\cache\\virtualenvs\\future-skill-classification--ys6-nbf-py3.12\\lib\\site-packages (from matplotlib!=3.6.1,>=3.4->seaborn) (1.3.0)\n",
      "Requirement already satisfied: cycler>=0.10 in c:\\users\\hueck\\appdata\\local\\pypoetry\\cache\\virtualenvs\\future-skill-classification--ys6-nbf-py3.12\\lib\\site-packages (from matplotlib!=3.6.1,>=3.4->seaborn) (0.12.1)\n",
      "Requirement already satisfied: fonttools>=4.22.0 in c:\\users\\hueck\\appdata\\local\\pypoetry\\cache\\virtualenvs\\future-skill-classification--ys6-nbf-py3.12\\lib\\site-packages (from matplotlib!=3.6.1,>=3.4->seaborn) (4.54.1)\n",
      "Requirement already satisfied: kiwisolver>=1.3.1 in c:\\users\\hueck\\appdata\\local\\pypoetry\\cache\\virtualenvs\\future-skill-classification--ys6-nbf-py3.12\\lib\\site-packages (from matplotlib!=3.6.1,>=3.4->seaborn) (1.4.7)\n",
      "Requirement already satisfied: packaging>=20.0 in c:\\users\\hueck\\appdata\\local\\pypoetry\\cache\\virtualenvs\\future-skill-classification--ys6-nbf-py3.12\\lib\\site-packages (from matplotlib!=3.6.1,>=3.4->seaborn) (24.1)\n",
      "Requirement already satisfied: pillow>=8 in c:\\users\\hueck\\appdata\\local\\pypoetry\\cache\\virtualenvs\\future-skill-classification--ys6-nbf-py3.12\\lib\\site-packages (from matplotlib!=3.6.1,>=3.4->seaborn) (11.0.0)\n",
      "Requirement already satisfied: pyparsing>=2.3.1 in c:\\users\\hueck\\appdata\\local\\pypoetry\\cache\\virtualenvs\\future-skill-classification--ys6-nbf-py3.12\\lib\\site-packages (from matplotlib!=3.6.1,>=3.4->seaborn) (3.2.0)\n",
      "Requirement already satisfied: python-dateutil>=2.7 in c:\\users\\hueck\\appdata\\local\\pypoetry\\cache\\virtualenvs\\future-skill-classification--ys6-nbf-py3.12\\lib\\site-packages (from matplotlib!=3.6.1,>=3.4->seaborn) (2.9.0.post0)\n",
      "Requirement already satisfied: pytz>=2020.1 in c:\\users\\hueck\\appdata\\local\\pypoetry\\cache\\virtualenvs\\future-skill-classification--ys6-nbf-py3.12\\lib\\site-packages (from pandas>=1.2->seaborn) (2024.2)\n",
      "Requirement already satisfied: tzdata>=2022.7 in c:\\users\\hueck\\appdata\\local\\pypoetry\\cache\\virtualenvs\\future-skill-classification--ys6-nbf-py3.12\\lib\\site-packages (from pandas>=1.2->seaborn) (2024.2)\n",
      "Requirement already satisfied: six>=1.5 in c:\\users\\hueck\\appdata\\local\\pypoetry\\cache\\virtualenvs\\future-skill-classification--ys6-nbf-py3.12\\lib\\site-packages (from python-dateutil>=2.7->matplotlib!=3.6.1,>=3.4->seaborn) (1.16.0)\n"
     ]
    },
    {
     "name": "stderr",
     "output_type": "stream",
     "text": [
      "\n",
      "[notice] A new release of pip is available: 24.2 -> 24.3.1\n",
      "[notice] To update, run: python.exe -m pip install --upgrade pip\n"
     ]
    },
    {
     "data": {
      "image/png": "[encoded data removed]",
      "text/plain": [
       "<Figure size 1000x600 with 1 Axes>"
      ]
     },
     "metadata": {},
     "output_type": "display_data"
    }
   ],
   "source": [
    "!pip install seaborn\n",
    "import pandas as pd\n",
    "import seaborn as sns\n",
    "import matplotlib.pyplot as plt\n",
    "\n",
    "fs_skill_percentage_by_year_mint = fs_skill_percentage_by_year_mint.reset_index()\n",
    "\n",
    "\n",
    "# Beispiel: Daten in ein DataFrame umwandeln (ersetze dies durch dein echtes DataFrame)\n",
    "# Hier gehe ich davon aus, dass 'fs_skill_percentage_by_year_mint' bereits als DataFrame vorliegt\n",
    "# und die Spalten 'jahr', 'mint_faechergruppe', und 'FS_Skill' enthält.\n",
    "\n",
    "# Plot erstellen\n",
    "plt.figure(figsize=(10, 6))\n",
    "sns.lineplot(data=fs_skill_percentage_by_year_mint, x='jahr', y='FS_Skill', hue='mint_faechergruppe', marker='o')\n",
    "\n",
    "# Plot-Anpassungen\n",
    "plt.xlabel('Year')\n",
    "plt.ylabel('Percentage of FS_Skill')\n",
    "plt.title('FS Skill Percentage by Year and MINT Category')\n",
    "plt.legend(title='MINT Category')\n",
    "plt.grid(True)\n",
    "\n",
    "plt.show()\n"
   ]
  },
  {
   "cell_type": "code",
   "execution_count": 69,
   "metadata": {},
   "outputs": [
    {
     "name": "stdout",
     "output_type": "stream",
     "text": [
      "Index(['hochschulname_kurz', 'hochschule', 'fakultaet', 'fachbereich',\n",
      "       'MINT_MN', 'MINT_T', 'institut', 'organisation', 'pfad',\n",
      "       'studiengaenge', 'titel', 'nummer', 'url', 'dozierende',\n",
      "       'veranstaltungsart', 'kursformat', 'lehrtyp', 'sprache',\n",
      "       'primaersprache', 'sws', 'ects', 'kursbeschreibung', 'lernziele',\n",
      "       'lernmethode', 'literatur', 'voraussetzungen', 'zusatzinformationen',\n",
      "       'anmerkungen', 'teilnehmerzahl', 'pruefung', 'scrape_datum', 'semester',\n",
      "       'jahr', 'studienbereich', 'faechergruppe', 'lufcode', 'sentence',\n",
      "       'Pred_Tensor', 'FS_Skill'],\n",
      "      dtype='object')\n"
     ]
    }
   ],
   "source": [
    "print(df_hex_sample.columns)\n"
   ]
  }
 ],
 "metadata": {
  "kernelspec": {
   "display_name": "future-skill-classification--ys6-NbF-py3.12",
   "language": "python",
   "name": "python3"
  },
  "language_info": {
   "codemirror_mode": {
    "name": "ipython",
    "version": 3
   },
   "file_extension": ".py",
   "mimetype": "text/x-python",
   "name": "python",
   "nbconvert_exporter": "python",
   "pygments_lexer": "ipython3",
   "version": "3.12.3"
  }
 },
 "nbformat": 4,
 "nbformat_minor": 2
}
