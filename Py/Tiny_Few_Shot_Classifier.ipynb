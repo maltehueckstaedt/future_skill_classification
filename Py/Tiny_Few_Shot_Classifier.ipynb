{
 "cells": [
  {
   "cell_type": "markdown",
   "metadata": {},
   "source": [
    "# Tiny few shot classifer\n",
    "\n",
    "Tiny Classifier nach dem Vorbild von: https://huggingface.co/blog/setfit\n",
    "\n",
    "Lade 1. Bibliotheken: \n",
    "\n",
    "- `from datasets import load_dataset`: Zum Laden von Datensätzen aus der HuggingFace `datasets` Bibliothek, z.B. öffentliche oder lokale Datensätze.\n",
    "  \n",
    "- `from sentence_transformers.losses import CosineSimilarityLoss`: Wird verwendet, um einen *Cosine Similarity Loss* für das Training von sentence-transformers-Modellen zu definieren (z.B. bei Ähnlichkeitsvergleichen zwischen Textpaaren).\n",
    "  \n",
    "- `from setfit import SetFitModel, SetFitTrainer`:  \n",
    "  - **SetFitModel**: Ein Modell aus dem SetFit-Framework, das für Zero-Shot- oder Few-Shot-Learning verwendet wird.\n",
    "  - **SetFitTrainer**: Trainer-Klasse, die verwendet wird, um das SetFit-Modell auf spezifische Aufgaben zu trainieren.\n",
    "  \n",
    "- `import pandas as pd`: Für die Data-Wrangling\n",
    "  \n",
    "- `from sklearn.preprocessing import LabelEncoder`: Zum Kodieren von Zielvariablen (Labels) in numerische Form. Besonders nützlich, wenn die Labels in string-Format vorliegen und in Zahlen umgewandelt werden müssen, um sie einem Modell zu übergeben.\n",
    "  \n",
    "- `import os`: Ermöglicht die Interaktion mit dem Betriebssystem, wie z.B. den Zugriff auf Dateipfade, Erstellen von Ordnern oder Lesen von Umgebungsvariablen.\n",
    "  \n",
    "- `from datasets import Dataset, DatasetDict`:  \n",
    "  - **Dataset**: Klasse, um einen benutzerdefinierten Datensatz für die Verwendung mit der `datasets` Bibliothek zu erstellen.\n",
    "  - **DatasetDict**: Zum Organisieren und Verwalten mehrerer Datensätze (z.B. `train` und `test`).\n",
    "  \n",
    "- `from sklearn.model_selection import train_test_split`: Zum Aufteilen eines Datensatzes in Trainings- und Testdaten. Diese Methode wird oft verwendet, um Modelle zu validieren und zu evaluieren.\n",
    "  \n",
    "- `from transformers import TrainingArguments`: Legt die Trainingsparameter für Modelle aus der HuggingFace Transformers Bibliothek fest (z.B. Anzahl der Epochen, Batch-Größe, Optimierungsparameter etc.).\n"
   ]
  },
  {
   "cell_type": "code",
   "execution_count": 5,
   "metadata": {},
   "outputs": [
    {
     "name": "stdout",
     "output_type": "stream",
     "text": [
      "c:\\Users\\Hueck\\OneDrive\\Dokumente\\GitHub\\future_skill_classification\n"
     ]
    }
   ],
   "source": [
    "from datasets import load_dataset\n",
    "from sentence_transformers.losses import CosineSimilarityLoss\n",
    "\n",
    "from setfit import SetFitModel, SetFitTrainer\n",
    "import pandas as pd\n",
    "from sklearn.preprocessing import LabelEncoder\n",
    "import os\n",
    "from datasets import Dataset, DatasetDict\n",
    "from sklearn.model_selection import train_test_split\n",
    "\n",
    "from transformers import TrainingArguments\n",
    "\n",
    "# checke home-verzeichnis\n",
    "print(os.getcwd())\n",
    "# # setze home-verzeichnis\n",
    "os.chdir('c:/Users/Hueck/OneDrive/Dokumente/GitHub/future_skill_classification/')"
   ]
  },
  {
   "cell_type": "markdown",
   "metadata": {},
   "source": [
    "Lade Datensatz:"
   ]
  },
  {
   "cell_type": "code",
   "execution_count": 6,
   "metadata": {},
   "outputs": [
    {
     "data": {
      "text/html": [
       "<div>\n",
       "<style scoped>\n",
       "    .dataframe tbody tr th:only-of-type {\n",
       "        vertical-align: middle;\n",
       "    }\n",
       "\n",
       "    .dataframe tbody tr th {\n",
       "        vertical-align: top;\n",
       "    }\n",
       "\n",
       "    .dataframe thead th {\n",
       "        text-align: right;\n",
       "    }\n",
       "</style>\n",
       "<table border=\"1\" class=\"dataframe\">\n",
       "  <thead>\n",
       "    <tr style=\"text-align: right;\">\n",
       "      <th></th>\n",
       "      <th>label</th>\n",
       "      <th>label_text</th>\n",
       "      <th>group_label</th>\n",
       "      <th>group_label_text</th>\n",
       "      <th>label_text_desc</th>\n",
       "      <th>text_template_insert</th>\n",
       "      <th>text</th>\n",
       "    </tr>\n",
       "  </thead>\n",
       "  <tbody>\n",
       "    <tr>\n",
       "      <th>0</th>\n",
       "      <td>0</td>\n",
       "      <td>Digital Literacy</td>\n",
       "      <td>0</td>\n",
       "      <td>Digitale Schlüsselkompetenzen</td>\n",
       "      <td>Beherrschen von grundlegenden digitalen Fähigk...</td>\n",
       "      <td>Digital Literacy</td>\n",
       "      <td>Die Veranstaltung behandelt das Thema Digital ...</td>\n",
       "    </tr>\n",
       "    <tr>\n",
       "      <th>1</th>\n",
       "      <td>0</td>\n",
       "      <td>Digital Literacy</td>\n",
       "      <td>0</td>\n",
       "      <td>Digitale Schlüsselkompetenzen</td>\n",
       "      <td>Beherrschen von grundlegenden digitalen Fähigk...</td>\n",
       "      <td>grundlegende digitale Fähigkeiten</td>\n",
       "      <td>Die Veranstaltung behandelt das Thema grundleg...</td>\n",
       "    </tr>\n",
       "    <tr>\n",
       "      <th>2</th>\n",
       "      <td>0</td>\n",
       "      <td>Digital Literacy</td>\n",
       "      <td>0</td>\n",
       "      <td>Digitale Schlüsselkompetenzen</td>\n",
       "      <td>Beherrschen von grundlegenden digitalen Fähigk...</td>\n",
       "      <td>grundlegenden Sicherheitsregeln im Netz</td>\n",
       "      <td>Die Veranstaltung behandelt das Thema grundleg...</td>\n",
       "    </tr>\n",
       "    <tr>\n",
       "      <th>3</th>\n",
       "      <td>0</td>\n",
       "      <td>Digital Literacy</td>\n",
       "      <td>0</td>\n",
       "      <td>Digitale Schlüsselkompetenzen</td>\n",
       "      <td>Beherrschen von grundlegenden digitalen Fähigk...</td>\n",
       "      <td>Nutzung gängiger Software</td>\n",
       "      <td>Die Veranstaltung behandelt das Thema Nutzung ...</td>\n",
       "    </tr>\n",
       "    <tr>\n",
       "      <th>4</th>\n",
       "      <td>0</td>\n",
       "      <td>Digital Literacy</td>\n",
       "      <td>0</td>\n",
       "      <td>Digitale Schlüsselkompetenzen</td>\n",
       "      <td>Beherrschen von grundlegenden digitalen Fähigk...</td>\n",
       "      <td>Benutzung digitaler Technologien</td>\n",
       "      <td>Die Veranstaltung behandelt das Thema Benutzun...</td>\n",
       "    </tr>\n",
       "    <tr>\n",
       "      <th>...</th>\n",
       "      <td>...</td>\n",
       "      <td>...</td>\n",
       "      <td>...</td>\n",
       "      <td>...</td>\n",
       "      <td>...</td>\n",
       "      <td>...</td>\n",
       "      <td>...</td>\n",
       "    </tr>\n",
       "    <tr>\n",
       "      <th>185</th>\n",
       "      <td>20</td>\n",
       "      <td>Missionsorientierung</td>\n",
       "      <td>3</td>\n",
       "      <td>Transformative Kompetenzen</td>\n",
       "      <td>Entwicklung einer Mission; Schaffung eines Mis...</td>\n",
       "      <td>Fähigkeit, Menschen zu inspirieren und zu bewegen</td>\n",
       "      <td>Die Veranstaltung behandelt das Thema Fähigkei...</td>\n",
       "    </tr>\n",
       "    <tr>\n",
       "      <th>186</th>\n",
       "      <td>20</td>\n",
       "      <td>Missionsorientierung</td>\n",
       "      <td>3</td>\n",
       "      <td>Transformative Kompetenzen</td>\n",
       "      <td>Entwicklung einer Mission; Schaffung eines Mis...</td>\n",
       "      <td>Sinn stiften</td>\n",
       "      <td>Die Veranstaltung behandelt das Thema Sinn sti...</td>\n",
       "    </tr>\n",
       "    <tr>\n",
       "      <th>187</th>\n",
       "      <td>20</td>\n",
       "      <td>Missionsorientierung</td>\n",
       "      <td>3</td>\n",
       "      <td>Transformative Kompetenzen</td>\n",
       "      <td>Entwicklung einer Mission; Schaffung eines Mis...</td>\n",
       "      <td>Orientierung geben</td>\n",
       "      <td>Die Veranstaltung behandelt das Thema Orientie...</td>\n",
       "    </tr>\n",
       "    <tr>\n",
       "      <th>188</th>\n",
       "      <td>20</td>\n",
       "      <td>Missionsorientierung</td>\n",
       "      <td>3</td>\n",
       "      <td>Transformative Kompetenzen</td>\n",
       "      <td>Entwicklung einer Mission; Schaffung eines Mis...</td>\n",
       "      <td>Überzeugungskraft</td>\n",
       "      <td>Die Veranstaltung behandelt das Thema Überzeug...</td>\n",
       "    </tr>\n",
       "    <tr>\n",
       "      <th>189</th>\n",
       "      <td>20</td>\n",
       "      <td>Missionsorientierung</td>\n",
       "      <td>3</td>\n",
       "      <td>Transformative Kompetenzen</td>\n",
       "      <td>Entwicklung einer Mission; Schaffung eines Mis...</td>\n",
       "      <td>Idealismus</td>\n",
       "      <td>Die Veranstaltung behandelt das Thema Idealismus.</td>\n",
       "    </tr>\n",
       "  </tbody>\n",
       "</table>\n",
       "<p>190 rows × 7 columns</p>\n",
       "</div>"
      ],
      "text/plain": [
       "     label            label_text  group_label               group_label_text  \\\n",
       "0        0      Digital Literacy            0  Digitale Schlüsselkompetenzen   \n",
       "1        0      Digital Literacy            0  Digitale Schlüsselkompetenzen   \n",
       "2        0      Digital Literacy            0  Digitale Schlüsselkompetenzen   \n",
       "3        0      Digital Literacy            0  Digitale Schlüsselkompetenzen   \n",
       "4        0      Digital Literacy            0  Digitale Schlüsselkompetenzen   \n",
       "..     ...                   ...          ...                            ...   \n",
       "185     20  Missionsorientierung            3    Transformative Kompetenzen    \n",
       "186     20  Missionsorientierung            3    Transformative Kompetenzen    \n",
       "187     20  Missionsorientierung            3    Transformative Kompetenzen    \n",
       "188     20  Missionsorientierung            3    Transformative Kompetenzen    \n",
       "189     20  Missionsorientierung            3    Transformative Kompetenzen    \n",
       "\n",
       "                                       label_text_desc  \\\n",
       "0    Beherrschen von grundlegenden digitalen Fähigk...   \n",
       "1    Beherrschen von grundlegenden digitalen Fähigk...   \n",
       "2    Beherrschen von grundlegenden digitalen Fähigk...   \n",
       "3    Beherrschen von grundlegenden digitalen Fähigk...   \n",
       "4    Beherrschen von grundlegenden digitalen Fähigk...   \n",
       "..                                                 ...   \n",
       "185  Entwicklung einer Mission; Schaffung eines Mis...   \n",
       "186  Entwicklung einer Mission; Schaffung eines Mis...   \n",
       "187  Entwicklung einer Mission; Schaffung eines Mis...   \n",
       "188  Entwicklung einer Mission; Schaffung eines Mis...   \n",
       "189  Entwicklung einer Mission; Schaffung eines Mis...   \n",
       "\n",
       "                                  text_template_insert  \\\n",
       "0                                     Digital Literacy   \n",
       "1                    grundlegende digitale Fähigkeiten   \n",
       "2              grundlegenden Sicherheitsregeln im Netz   \n",
       "3                            Nutzung gängiger Software   \n",
       "4                     Benutzung digitaler Technologien   \n",
       "..                                                 ...   \n",
       "185  Fähigkeit, Menschen zu inspirieren und zu bewegen   \n",
       "186                                       Sinn stiften   \n",
       "187                                 Orientierung geben   \n",
       "188                                  Überzeugungskraft   \n",
       "189                                         Idealismus   \n",
       "\n",
       "                                                  text  \n",
       "0    Die Veranstaltung behandelt das Thema Digital ...  \n",
       "1    Die Veranstaltung behandelt das Thema grundleg...  \n",
       "2    Die Veranstaltung behandelt das Thema grundleg...  \n",
       "3    Die Veranstaltung behandelt das Thema Nutzung ...  \n",
       "4    Die Veranstaltung behandelt das Thema Benutzun...  \n",
       "..                                                 ...  \n",
       "185  Die Veranstaltung behandelt das Thema Fähigkei...  \n",
       "186  Die Veranstaltung behandelt das Thema Sinn sti...  \n",
       "187  Die Veranstaltung behandelt das Thema Orientie...  \n",
       "188  Die Veranstaltung behandelt das Thema Überzeug...  \n",
       "189  Die Veranstaltung behandelt das Thema Idealismus.  \n",
       "\n",
       "[190 rows x 7 columns]"
      ]
     },
     "execution_count": 6,
     "metadata": {},
     "output_type": "execute_result"
    }
   ],
   "source": [
    "# Laden Ihrer Excel-Datei\n",
    "df = pd.read_excel('data/future_skill_examples.xlsx')\n",
    "df"
   ]
  },
  {
   "cell_type": "markdown",
   "metadata": {},
   "source": [
    "erstelle test- und train-data:"
   ]
  },
  {
   "cell_type": "code",
   "execution_count": 7,
   "metadata": {},
   "outputs": [],
   "source": [
    "\n",
    "# Aufteilen des DataFrames\n",
    "train_df, test_df = train_test_split(df, test_size=0.2, random_state=42, stratify=df['label'])\n",
    "\n",
    "# Konvertieren in Datasets\n",
    "train_dataset = Dataset.from_pandas(train_df.reset_index(drop=True))\n",
    "test_dataset = Dataset.from_pandas(test_df.reset_index(drop=True))\n",
    "\n",
    "# Erstellen eines DatasetDicts\n",
    "dataset_dict = DatasetDict({\n",
    "    'train': train_dataset,\n",
    "    'test': test_dataset\n",
    "})\n"
   ]
  },
  {
   "cell_type": "markdown",
   "metadata": {},
   "source": [
    "Modell und Trainer initialisieren:"
   ]
  },
  {
   "cell_type": "code",
   "execution_count": 8,
   "metadata": {},
   "outputs": [
    {
     "name": "stderr",
     "output_type": "stream",
     "text": [
      "model_head.pkl not found on HuggingFace Hub, initialising classification head with random weights. You should TRAIN this model on a downstream task to use it for predictions and inference.\n"
     ]
    }
   ],
   "source": [
    "from setfit import SetFitModel, SetFitTrainer\n",
    "\n",
    "model = SetFitModel.from_pretrained(\"sentence-transformers/paraphrase-mpnet-base-v2\")\n"
   ]
  },
  {
   "cell_type": "markdown",
   "metadata": {},
   "source": [
    "Trainer konfigurieren:"
   ]
  },
  {
   "cell_type": "code",
   "execution_count": 9,
   "metadata": {},
   "outputs": [
    {
     "name": "stderr",
     "output_type": "stream",
     "text": [
      "C:\\Users\\Hueck\\AppData\\Local\\Temp\\ipykernel_9096\\943071219.py:16: DeprecationWarning: `SetFitTrainer` has been deprecated and will be removed in v2.0.0 of SetFit. Please use `Trainer` instead.\n",
      "  trainer = SetFitTrainer(\n",
      "c:\\Users\\Hueck\\AppData\\Local\\Programs\\Python\\Python312\\Lib\\site-packages\\datasets\\utils\\_dill.py:379: DeprecationWarning: co_lnotab is deprecated, use co_lines instead.\n",
      "  obj.co_lnotab,  # for < python 3.10 [not counted in args]\n"
     ]
    },
    {
     "data": {
      "application/vnd.jupyter.widget-view+json": {
       "model_id": "0e4b6bb5b64e447eb3fe2e1b6fd1d15b",
       "version_major": 2,
       "version_minor": 0
      },
      "text/plain": [
       "Map:   0%|          | 0/152 [00:00<?, ? examples/s]"
      ]
     },
     "metadata": {},
     "output_type": "display_data"
    }
   ],
   "source": [
    "from sentence_transformers.losses import CosineSimilarityLoss\n",
    "\n",
    "# training_args = TrainingArguments(\n",
    "#     output_dir=\"test_trainer\",\n",
    "#     evaluation_strategy=\"epoch\",  # Hier das korrekte Attribut verwenden\n",
    "#     num_train_epochs=1,\n",
    "#     per_device_train_batch_size=16,\n",
    "#     per_device_eval_batch_size=16,\n",
    "#     warmup_steps=10,\n",
    "#     weight_decay=0.01,\n",
    "#     logging_dir=\"test_trainer/logs\",\n",
    "#     logging_steps=10,\n",
    "# )\n",
    "\n",
    "# Initialisieren des Trainers mit den Trainingsargumenten\n",
    "trainer = SetFitTrainer(\n",
    "    model=model, \n",
    "    train_dataset=dataset_dict['train'],\n",
    "    eval_dataset=dataset_dict['test'],\n",
    "    loss_class=CosineSimilarityLoss,\n",
    "    batch_size=16,\n",
    "    num_iterations=20,  # Anzahl der Textpaarungen pro Beispiel\n",
    "    num_epochs=1        # Anzahl der Epochen\n",
    ")\n",
    "\n"
   ]
  },
  {
   "cell_type": "markdown",
   "metadata": {},
   "source": []
  },
  {
   "cell_type": "code",
   "execution_count": 10,
   "metadata": {},
   "outputs": [
    {
     "name": "stderr",
     "output_type": "stream",
     "text": [
      "***** Running training *****\n",
      "  Num unique pairs = 6080\n",
      "  Batch size = 16\n",
      "  Num epochs = 1\n"
     ]
    },
    {
     "data": {
      "application/vnd.jupyter.widget-view+json": {
       "model_id": "11d7b7d00a7e48d38914a07f14a5c1fe",
       "version_major": 2,
       "version_minor": 0
      },
      "text/plain": [
       "  0%|          | 0/380 [00:00<?, ?it/s]"
      ]
     },
     "metadata": {},
     "output_type": "display_data"
    },
    {
     "name": "stdout",
     "output_type": "stream",
     "text": [
      "{'embedding_loss': 0.1949, 'grad_norm': 1.2970526218414307, 'learning_rate': 5.263157894736843e-07, 'epoch': 0.0}\n",
      "{'embedding_loss': 0.2019, 'grad_norm': 1.9725565910339355, 'learning_rate': 1.929824561403509e-05, 'epoch': 0.13}\n",
      "{'embedding_loss': 0.1483, 'grad_norm': 1.1298645734786987, 'learning_rate': 1.6374269005847955e-05, 'epoch': 0.26}\n",
      "{'embedding_loss': 0.118, 'grad_norm': 0.663077712059021, 'learning_rate': 1.345029239766082e-05, 'epoch': 0.39}\n",
      "{'embedding_loss': 0.0913, 'grad_norm': 1.422755479812622, 'learning_rate': 1.0526315789473684e-05, 'epoch': 0.53}\n",
      "{'embedding_loss': 0.0753, 'grad_norm': 1.8479235172271729, 'learning_rate': 7.60233918128655e-06, 'epoch': 0.66}\n",
      "{'embedding_loss': 0.0671, 'grad_norm': 0.8991213440895081, 'learning_rate': 4.678362573099415e-06, 'epoch': 0.79}\n",
      "{'embedding_loss': 0.0677, 'grad_norm': 0.7197310924530029, 'learning_rate': 1.7543859649122807e-06, 'epoch': 0.92}\n"
     ]
    },
    {
     "data": {
      "application/vnd.jupyter.widget-view+json": {
       "model_id": "8e44228e95034dfa9f729562a43c3737",
       "version_major": 2,
       "version_minor": 0
      },
      "text/plain": [
       "Computing widget examples:   0%|          | 0/5 [00:00<?, ?example/s]"
      ]
     },
     "metadata": {},
     "output_type": "display_data"
    },
    {
     "name": "stdout",
     "output_type": "stream",
     "text": [
      "{'train_runtime': 61.4454, 'train_samples_per_second': 98.95, 'train_steps_per_second': 6.184, 'train_loss': 0.10616480280694209, 'epoch': 1.0}\n"
     ]
    }
   ],
   "source": [
    "trainer.train()\n"
   ]
  },
  {
   "cell_type": "code",
   "execution_count": 11,
   "metadata": {},
   "outputs": [
    {
     "name": "stderr",
     "output_type": "stream",
     "text": [
      "***** Running evaluation *****\n"
     ]
    },
    {
     "data": {
      "text/plain": [
       "{'accuracy': 0.39473684210526316}"
      ]
     },
     "execution_count": 11,
     "metadata": {},
     "output_type": "execute_result"
    }
   ],
   "source": [
    "import datasets\n",
    "metrics = trainer.evaluate()\n",
    "\n",
    "metrics"
   ]
  },
  {
   "cell_type": "code",
   "execution_count": 12,
   "metadata": {},
   "outputs": [
    {
     "data": {
      "text/plain": [
       "{'accuracy': 0.39473684210526316}"
      ]
     },
     "execution_count": 12,
     "metadata": {},
     "output_type": "execute_result"
    }
   ],
   "source": [
    "metrics"
   ]
  }
 ],
 "metadata": {
  "kernelspec": {
   "display_name": "Python 3",
   "language": "python",
   "name": "python3"
  },
  "language_info": {
   "codemirror_mode": {
    "name": "ipython",
    "version": 3
   },
   "file_extension": ".py",
   "mimetype": "text/x-python",
   "name": "python",
   "nbconvert_exporter": "python",
   "pygments_lexer": "ipython3",
   "version": "3.12.3"
  }
 },
 "nbformat": 4,
 "nbformat_minor": 2
}
