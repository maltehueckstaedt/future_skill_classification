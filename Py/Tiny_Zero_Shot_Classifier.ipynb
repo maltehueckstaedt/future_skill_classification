{
  "cells": [
    {
      "cell_type": "markdown",
      "metadata": {
        "id": "bFvkhmBBSPk6"
      },
      "source": [
        "# Tiny Zero-Shot-Classifier\n",
        "\n",
        "Basieren auf der Huggingfaces `zero-shot-classification` wird ein Tiny Classifer erzeugt.\n",
        "\n",
        "In einem ersten Schritt werden die benötigten Arbeitspakete und die HEX-Probedaten geladen:"
      ]
    },
    {
      "cell_type": "code",
      "execution_count": 6,
      "metadata": {
        "colab": {
          "base_uri": "https://localhost:8080/",
          "height": 990
        },
        "collapsed": true,
        "id": "EbBEo1tUQEQN",
        "outputId": "d789a557-855f-4a5c-f568-e4cd242132fd"
      },
      "outputs": [
        {
          "data": {
            "text/html": [
              "<div>\n",
              "<style scoped>\n",
              "    .dataframe tbody tr th:only-of-type {\n",
              "        vertical-align: middle;\n",
              "    }\n",
              "\n",
              "    .dataframe tbody tr th {\n",
              "        vertical-align: top;\n",
              "    }\n",
              "\n",
              "    .dataframe thead th {\n",
              "        text-align: right;\n",
              "    }\n",
              "</style>\n",
              "<table border=\"1\" class=\"dataframe\">\n",
              "  <thead>\n",
              "    <tr style=\"text-align: right;\">\n",
              "      <th></th>\n",
              "      <th>Unnamed: 0</th>\n",
              "      <th>titel_kursbesch</th>\n",
              "    </tr>\n",
              "  </thead>\n",
              "  <tbody>\n",
              "    <tr>\n",
              "      <th>8894</th>\n",
              "      <td>16134</td>\n",
              "      <td>programmierung paralleler systeme in der vorle...</td>\n",
              "    </tr>\n",
              "    <tr>\n",
              "      <th>23603</th>\n",
              "      <td>33233</td>\n",
              "      <td>spezialgebiete der signalverarbeitung das proj...</td>\n",
              "    </tr>\n",
              "    <tr>\n",
              "      <th>17204</th>\n",
              "      <td>1815</td>\n",
              "      <td>postdesktop user interfaces siehe modulbeschre...</td>\n",
              "    </tr>\n",
              "    <tr>\n",
              "      <th>40052</th>\n",
              "      <td>29892</td>\n",
              "      <td>logik und diskrete mathematik aussagenlogik un...</td>\n",
              "    </tr>\n",
              "    <tr>\n",
              "      <th>21671</th>\n",
              "      <td>44830</td>\n",
              "      <td>programmierung für die digital humanities this...</td>\n",
              "    </tr>\n",
              "    <tr>\n",
              "      <th>17433</th>\n",
              "      <td>8099</td>\n",
              "      <td>praktikum  internetpraktikum ilab  in in in in...</td>\n",
              "    </tr>\n",
              "    <tr>\n",
              "      <th>37614</th>\n",
              "      <td>13973</td>\n",
              "      <td>masterprojekt wirtschaftsinformatik und untern...</td>\n",
              "    </tr>\n",
              "    <tr>\n",
              "      <th>34145</th>\n",
              "      <td>8172</td>\n",
              "      <td>medical augmented reality in lecture  covering...</td>\n",
              "    </tr>\n",
              "    <tr>\n",
              "      <th>42296</th>\n",
              "      <td>33005</td>\n",
              "      <td>spezialgebiete der signalverarbeitung das proj...</td>\n",
              "    </tr>\n",
              "    <tr>\n",
              "      <th>25520</th>\n",
              "      <td>47342</td>\n",
              "      <td>data science</td>\n",
              "    </tr>\n",
              "    <tr>\n",
              "      <th>46764</th>\n",
              "      <td>19337</td>\n",
              "      <td>theoretische informatik für lehramt  berechenb...</td>\n",
              "    </tr>\n",
              "    <tr>\n",
              "      <th>39354</th>\n",
              "      <td>28451</td>\n",
              "      <td>magnetic resonance imaging   übung</td>\n",
              "    </tr>\n",
              "    <tr>\n",
              "      <th>3267</th>\n",
              "      <td>2969</td>\n",
              "      <td>masterpraktikum  automotive software entwicklu...</td>\n",
              "    </tr>\n",
              "    <tr>\n",
              "      <th>5414</th>\n",
              "      <td>19217</td>\n",
              "      <td>exercises to simulation and modeling</td>\n",
              "    </tr>\n",
              "    <tr>\n",
              "      <th>526</th>\n",
              "      <td>28827</td>\n",
              "      <td>digitales video inhalt es werden die gängigen ...</td>\n",
              "    </tr>\n",
              "    <tr>\n",
              "      <th>42689</th>\n",
              "      <td>20805</td>\n",
              "      <td>tafelübung zu grundlagen der informatik</td>\n",
              "    </tr>\n",
              "    <tr>\n",
              "      <th>20457</th>\n",
              "      <td>7495</td>\n",
              "      <td>innovationsentwicklung in der gesundheitsbranc...</td>\n",
              "    </tr>\n",
              "    <tr>\n",
              "      <th>43335</th>\n",
              "      <td>36953</td>\n",
              "      <td>seminar fachdidaktik</td>\n",
              "    </tr>\n",
              "    <tr>\n",
              "      <th>16183</th>\n",
              "      <td>43366</td>\n",
              "      <td>symbolische ausführung</td>\n",
              "    </tr>\n",
              "    <tr>\n",
              "      <th>22063</th>\n",
              "      <td>19003</td>\n",
              "      <td>fehlertoleranz in verteilten systemen und echt...</td>\n",
              "    </tr>\n",
              "    <tr>\n",
              "      <th>33589</th>\n",
              "      <td>27071</td>\n",
              "      <td>innovationsdesign</td>\n",
              "    </tr>\n",
              "    <tr>\n",
              "      <th>1137</th>\n",
              "      <td>21023</td>\n",
              "      <td>rechnerkommunikation</td>\n",
              "    </tr>\n",
              "    <tr>\n",
              "      <th>28982</th>\n",
              "      <td>1862</td>\n",
              "      <td>microsoft excel für betriebswirtschaftler a href</td>\n",
              "    </tr>\n",
              "    <tr>\n",
              "      <th>43189</th>\n",
              "      <td>40325</td>\n",
              "      <td>formale spezifikation  durch eine spezifikatio...</td>\n",
              "    </tr>\n",
              "    <tr>\n",
              "      <th>19063</th>\n",
              "      <td>30516</td>\n",
              "      <td>colloquium facets of complexity foc inhalt sti...</td>\n",
              "    </tr>\n",
              "    <tr>\n",
              "      <th>41957</th>\n",
              "      <td>42161</td>\n",
              "      <td>softwareprojekt datenanalyse für natürliche sp...</td>\n",
              "    </tr>\n",
              "    <tr>\n",
              "      <th>50227</th>\n",
              "      <td>47254</td>\n",
              "      <td>bscbiow vorlesungsteil pflanzenphysiologiebüch...</td>\n",
              "    </tr>\n",
              "    <tr>\n",
              "      <th>16778</th>\n",
              "      <td>22646</td>\n",
              "      <td>algebra des programmierens</td>\n",
              "    </tr>\n",
              "    <tr>\n",
              "      <th>10340</th>\n",
              "      <td>24492</td>\n",
              "      <td>swat tutorium siehe modulbeschreibung</td>\n",
              "    </tr>\n",
              "    <tr>\n",
              "      <th>22215</th>\n",
              "      <td>24857</td>\n",
              "      <td>übung zu domainspecific and resourceaware comp...</td>\n",
              "    </tr>\n",
              "  </tbody>\n",
              "</table>\n",
              "</div>"
            ],
            "text/plain": [
              "       Unnamed: 0                                    titel_kursbesch\n",
              "8894        16134  programmierung paralleler systeme in der vorle...\n",
              "23603       33233  spezialgebiete der signalverarbeitung das proj...\n",
              "17204        1815  postdesktop user interfaces siehe modulbeschre...\n",
              "40052       29892  logik und diskrete mathematik aussagenlogik un...\n",
              "21671       44830  programmierung für die digital humanities this...\n",
              "17433        8099  praktikum  internetpraktikum ilab  in in in in...\n",
              "37614       13973  masterprojekt wirtschaftsinformatik und untern...\n",
              "34145        8172  medical augmented reality in lecture  covering...\n",
              "42296       33005  spezialgebiete der signalverarbeitung das proj...\n",
              "25520       47342                                       data science\n",
              "46764       19337  theoretische informatik für lehramt  berechenb...\n",
              "39354       28451                 magnetic resonance imaging   übung\n",
              "3267         2969  masterpraktikum  automotive software entwicklu...\n",
              "5414        19217               exercises to simulation and modeling\n",
              "526         28827  digitales video inhalt es werden die gängigen ...\n",
              "42689       20805            tafelübung zu grundlagen der informatik\n",
              "20457        7495  innovationsentwicklung in der gesundheitsbranc...\n",
              "43335       36953                               seminar fachdidaktik\n",
              "16183       43366                             symbolische ausführung\n",
              "22063       19003  fehlertoleranz in verteilten systemen und echt...\n",
              "33589       27071                                  innovationsdesign\n",
              "1137        21023                               rechnerkommunikation\n",
              "28982        1862   microsoft excel für betriebswirtschaftler a href\n",
              "43189       40325  formale spezifikation  durch eine spezifikatio...\n",
              "19063       30516  colloquium facets of complexity foc inhalt sti...\n",
              "41957       42161  softwareprojekt datenanalyse für natürliche sp...\n",
              "50227       47254  bscbiow vorlesungsteil pflanzenphysiologiebüch...\n",
              "16778       22646                         algebra des programmierens\n",
              "10340       24492              swat tutorium siehe modulbeschreibung\n",
              "22215       24857  übung zu domainspecific and resourceaware comp..."
            ]
          },
          "execution_count": 6,
          "metadata": {},
          "output_type": "execute_result"
        }
      ],
      "source": [
        "import pandas as pd\n",
        "from tqdm import tqdm\n",
        "import matplotlib.pyplot as plt\n",
        "import seaborn as sns\n",
        "\n",
        "from transformers import pipeline\n",
        "\n",
        "import pandas as pd\n",
        "df = pd.read_excel('C:/Users/mhu/Documents/gitlab/future_skill_classification/data/hex_info_prep.xlsx')\n",
        "df = df.sample(n=100)\n",
        "\n",
        "df.head(30)"
      ]
    },
    {
      "cell_type": "markdown",
      "metadata": {
        "id": "tHNab8huQTk3"
      },
      "source": [
        "# Vorbereiten des Klassifiziers"
      ]
    },
    {
      "cell_type": "code",
      "execution_count": 8,
      "metadata": {
        "colab": {
          "base_uri": "https://localhost:8080/",
          "height": 368,
          "referenced_widgets": [
            "c812311067604a0ab23a5abcff6ea43f",
            "7385efe171e44193a95cef8cd513a626",
            "4305e301260b4ace9289deb3e9244326",
            "387e0404291b47c58c94df41fc5a80b2",
            "13fbd34dbaa24d57a0dee7f70b4966be",
            "805a7eb8e17144d0b988ebf74e574c2b",
            "214d4fada78c467bb5db497769772a60",
            "18a6eb57cac34897a6840e9b50fe0e21",
            "0d78539d9be74b6da602acb190b78244",
            "be3e502a58e24bdf99606693b2cddaf2",
            "787812c9a1644d39bd79e6d141907b93",
            "b430f4c8259140498bc1c670e215a5b7",
            "c7972c086b4f4535a51f051427b31cb5",
            "8479f3e7f80d4680aeff0092eda659b2",
            "dc33ed3c9d174163ba518f9dd9d4e476",
            "3879fd1084124779ac027d1b056f51a4",
            "74ae542965e84594ba1ffd3b858b20eb",
            "2f0a68e528c5408e88a57df452ed36c2",
            "61f18b0ed1244c9cb8e885b6701719e5",
            "187758c65c6144258663eebd7f7e1af4",
            "9e590d042dd644faa4190a93823ebea8",
            "72edf7a87db646329b173b2f4721bb9b",
            "46e8f614759a433bb70c55b806bf361c",
            "a5243880e39249c2b2d84c6779830909",
            "54ccdb7356d34ab09daf5661f39428ce",
            "dc706b8aa3274cd0857a5633fa2d24b1",
            "4aa172086fd5469b9ef827a0e5b06278",
            "204d2a0651e142b3a28fa48781d9c720",
            "5814b297f6974a0aa4e7905813acc757",
            "3130dc81179444cc96954361d4896e0b",
            "3e410e0b5b444aea911ac9f7dddbad25",
            "8eb12e022b5147a5ba7c2b41a172d422",
            "45664445022c44daa92dee43dae169e1",
            "eaef4a49f7414d7280e49b9a32832d78",
            "f27b7e96e49746ad8c51b284cd61ca38",
            "55be4682e5fa484aa330b5df59f4a87d",
            "43c156a41f8b48afb210c749b782989c",
            "e05daffcf1f4410d8c9828307bdbaa63",
            "4889f699d14940da9cf724b1fa20ad57",
            "68974775ac664e8dbf5713c44275718d",
            "b1b3262516ee4236a41e455cd70557d9",
            "4174a7e6612446f2a5c2529a6f6011d8",
            "81cdb3186f964b54b20dce3769ea1887",
            "8e97f6df86b846588d912431f0a8d14d",
            "fe5cfed13730405b8664984f3004d899",
            "41b2dd7bde0b47a29b7538737259561e",
            "bb425ea64abd4306b5248e7a32f9557e",
            "4b953b5a98fd4efa8d410982136e296d",
            "ede26f375c9f4f689c6f35d91c5570d7",
            "4bd7e00f61d74c92ae822b91fbc6b8de",
            "969a269e455c43bcbde8a516085e3115",
            "f6e94b2c644a4054b4cc28bfa4fb42f4",
            "0fc97ddf36da4d20b60c29bbefdda30a",
            "c0447dbc38e44da986433c094bf9301f",
            "e753115c4a5d418eb8871ed0de97bbb9",
            "6599495881714cf993cee455c5dc3b93",
            "e0f627c58e974d1294650f40a4eda49b",
            "57dd366650a546f79bf001b0f888b549",
            "daff9145ab2d4ae9a662a425f00d6bd7",
            "404a33019fae41458ded51ab4406763c",
            "e2c994c3836c4ca59ad32f8535f51622",
            "4e5406a64e864b3cb04966d69048e117",
            "4cd7940ae34f402799b05ba7051e3c23",
            "c8a2c9a590e746aa9324136325c38cbf",
            "22782bffcb244bf5b1637c680be05bca",
            "5861d0be8e3347378ea64f9264b483f9"
          ]
        },
        "id": "KJhGOnA6RFDN",
        "outputId": "29d97ce4-ba8a-433c-8ad3-75d6fc23f72b"
      },
      "outputs": [
        {
          "name": "stderr",
          "output_type": "stream",
          "text": [
            "No model was supplied, defaulted to facebook/bart-large-mnli and revision c626438 (https://huggingface.co/facebook/bart-large-mnli).\n",
            "Using a pipeline without specifying a model name and revision in production is not recommended.\n"
          ]
        },
        {
          "data": {
            "application/vnd.jupyter.widget-view+json": {
              "model_id": "ba9f51c9e7f248238f3730db4f83be76",
              "version_major": 2,
              "version_minor": 0
            },
            "text/plain": [
              "config.json:   0%|          | 0.00/1.15k [00:00<?, ?B/s]"
            ]
          },
          "metadata": {},
          "output_type": "display_data"
        },
        {
          "name": "stderr",
          "output_type": "stream",
          "text": [
            "C:\\Users\\mhu\\AppData\\Roaming\\Python\\Python312\\site-packages\\huggingface_hub\\file_download.py:157: UserWarning: `huggingface_hub` cache-system uses symlinks by default to efficiently store duplicated files but your machine does not support them in C:\\Users\\mhu\\.cache\\huggingface\\hub\\models--facebook--bart-large-mnli. Caching files will still work but in a degraded version that might require more space on your disk. This warning can be disabled by setting the `HF_HUB_DISABLE_SYMLINKS_WARNING` environment variable. For more details, see https://huggingface.co/docs/huggingface_hub/how-to-cache#limitations.\n",
            "To support symlinks on Windows, you either need to activate Developer Mode or to run Python as an administrator. In order to see activate developer mode, see this article: https://docs.microsoft.com/en-us/windows/apps/get-started/enable-your-device-for-development\n",
            "  warnings.warn(message)\n"
          ]
        },
        {
          "data": {
            "application/vnd.jupyter.widget-view+json": {
              "model_id": "e8fcbf2d62e54ce5a14f97384b14c6b1",
              "version_major": 2,
              "version_minor": 0
            },
            "text/plain": [
              "model.safetensors:   0%|          | 0.00/1.63G [00:00<?, ?B/s]"
            ]
          },
          "metadata": {},
          "output_type": "display_data"
        },
        {
          "data": {
            "application/vnd.jupyter.widget-view+json": {
              "model_id": "5a063df0edfe4fe2aa8faa65be4e9428",
              "version_major": 2,
              "version_minor": 0
            },
            "text/plain": [
              "tokenizer_config.json:   0%|          | 0.00/26.0 [00:00<?, ?B/s]"
            ]
          },
          "metadata": {},
          "output_type": "display_data"
        },
        {
          "data": {
            "application/vnd.jupyter.widget-view+json": {
              "model_id": "85682fed722d46d9abc4ec564424ca58",
              "version_major": 2,
              "version_minor": 0
            },
            "text/plain": [
              "vocab.json:   0%|          | 0.00/899k [00:00<?, ?B/s]"
            ]
          },
          "metadata": {},
          "output_type": "display_data"
        },
        {
          "data": {
            "application/vnd.jupyter.widget-view+json": {
              "model_id": "9d6e40b238ff4266b64142df7dbe4b7c",
              "version_major": 2,
              "version_minor": 0
            },
            "text/plain": [
              "merges.txt:   0%|          | 0.00/456k [00:00<?, ?B/s]"
            ]
          },
          "metadata": {},
          "output_type": "display_data"
        },
        {
          "data": {
            "application/vnd.jupyter.widget-view+json": {
              "model_id": "59c49e16f52745ff83ac17d7181a744e",
              "version_major": 2,
              "version_minor": 0
            },
            "text/plain": [
              "tokenizer.json:   0%|          | 0.00/1.36M [00:00<?, ?B/s]"
            ]
          },
          "metadata": {},
          "output_type": "display_data"
        }
      ],
      "source": [
        "classifier = pipeline(\"zero-shot-classification\")\n"
      ]
    },
    {
      "cell_type": "code",
      "execution_count": 10,
      "metadata": {
        "id": "ClnXJiGeReod"
      },
      "outputs": [],
      "source": [
        "candidate_labels = [\"Data Analytics & künstliche Intelligenz\", \"Softwareentwicklung\", \"IT-Architektur\", \"Hardware-/Robotikentwicklung\", \"Quantencomputing\"]"
      ]
    },
    {
      "cell_type": "markdown",
      "metadata": {
        "id": "s30rvd3sfcmJ"
      },
      "source": [
        "# Durchführen der Klassifiziers"
      ]
    },
    {
      "cell_type": "code",
      "execution_count": 11,
      "metadata": {
        "colab": {
          "base_uri": "https://localhost:8080/"
        },
        "id": "3HTlEwZGXFn9",
        "outputId": "4f0918cd-0405-49f0-fab5-ad11849c7c40"
      },
      "outputs": [
        {
          "name": "stderr",
          "output_type": "stream",
          "text": [
            "  3%|▎         | 3/100 [00:14<06:11,  3.83s/it]"
          ]
        },
        {
          "name": "stdout",
          "output_type": "stream",
          "text": [
            "postdesktop user interfaces siehe modulbeschreibung\n",
            "['Softwareentwicklung', 'IT-Architektur', 'Quantencomputing', 'Data Analytics & künstliche Intelligenz', 'Hardware-/Robotikentwicklung']\n",
            "[0.5707548260688782, 0.2500983476638794, 0.10202477127313614, 0.04808226600289345, 0.02903980389237404]\n",
            "\n",
            "\n"
          ]
        },
        {
          "name": "stderr",
          "output_type": "stream",
          "text": [
            "  7%|▋         | 7/100 [00:30<06:31,  4.21s/it]"
          ]
        },
        {
          "name": "stdout",
          "output_type": "stream",
          "text": [
            "masterprojekt wirtschaftsinformatik und unternehmensmodellierung anmeldung nach persönlicher kontaktaufnahme zum lehrstuhl\n",
            "['Softwareentwicklung', 'Data Analytics & künstliche Intelligenz', 'IT-Architektur', 'Hardware-/Robotikentwicklung', 'Quantencomputing']\n",
            "[0.6047933101654053, 0.18229953944683075, 0.14206384122371674, 0.03857811912894249, 0.032265134155750275]\n",
            "\n",
            "\n"
          ]
        },
        {
          "name": "stderr",
          "output_type": "stream",
          "text": [
            " 10%|█         | 10/100 [01:02<11:18,  7.54s/it]"
          ]
        },
        {
          "name": "stdout",
          "output_type": "stream",
          "text": [
            "data science\n",
            "['Data Analytics & künstliche Intelligenz', 'Quantencomputing', 'IT-Architektur', 'Softwareentwicklung', 'Hardware-/Robotikentwicklung']\n",
            "[0.6356037259101868, 0.2112228274345398, 0.06421464681625366, 0.05358753353357315, 0.0353713184595108]\n",
            "\n",
            "\n"
          ]
        },
        {
          "name": "stderr",
          "output_type": "stream",
          "text": [
            " 12%|█▏        | 12/100 [01:14<09:16,  6.32s/it]"
          ]
        },
        {
          "name": "stdout",
          "output_type": "stream",
          "text": [
            "magnetic resonance imaging   übung\n",
            "['IT-Architektur', 'Quantencomputing', 'Softwareentwicklung', 'Hardware-/Robotikentwicklung', 'Data Analytics & künstliche Intelligenz']\n",
            "[0.5630857944488525, 0.12962141633033752, 0.1232854574918747, 0.0993197113275528, 0.08468760550022125]\n",
            "\n",
            "\n"
          ]
        },
        {
          "name": "stderr",
          "output_type": "stream",
          "text": [
            " 13%|█▎        | 13/100 [01:16<07:25,  5.12s/it]"
          ]
        },
        {
          "name": "stdout",
          "output_type": "stream",
          "text": [
            "masterpraktikum  automotive software entwicklung in in siehe webseite zum praktikum\n",
            "['Softwareentwicklung', 'IT-Architektur', 'Quantencomputing', 'Hardware-/Robotikentwicklung', 'Data Analytics & künstliche Intelligenz']\n",
            "[0.9541510343551636, 0.01891213096678257, 0.010375277139246464, 0.00832077395170927, 0.008240772411227226]\n",
            "\n",
            "\n"
          ]
        },
        {
          "name": "stderr",
          "output_type": "stream",
          "text": [
            " 26%|██▌       | 26/100 [03:05<14:01, 11.37s/it]"
          ]
        },
        {
          "name": "stdout",
          "output_type": "stream",
          "text": [
            "softwareprojekt datenanalyse für natürliche sprache  große datenmengen sind heute eine wertvolle informationsquelle allerdings ist nur durch die verwendung von intelligenter datenanalyse das volle potential dieser daten nutzbar solche methoden ermöglichen es neue und praktisch nutzbare informationen in großen natürlichsprachlichen daten zu identifizieren und unterstützen dadurch die entscheidungsfindung bei komplexen aufgaben in diesem projekt werden studenten eigene ideen und neue softwaresysteme entwickeln die es ermöglichen informationen für verschiedene aufgaben aus einer großen menge natürlichsprachlicher texte big data zu extrahieren das jeweilige rahmenthema der veranstaltung wechselt jedes semester und wird auf der fachgebietshomepage bekannt gegeben weitere informationen\n",
            "['Softwareentwicklung', 'Data Analytics & künstliche Intelligenz', 'IT-Architektur', 'Hardware-/Robotikentwicklung', 'Quantencomputing']\n",
            "[0.7919468879699707, 0.10800155997276306, 0.051554858684539795, 0.02479647286236286, 0.023700188845396042]\n",
            "\n",
            "\n"
          ]
        },
        {
          "name": "stderr",
          "output_type": "stream",
          "text": [
            " 30%|███       | 30/100 [03:34<07:43,  6.62s/it]"
          ]
        },
        {
          "name": "stdout",
          "output_type": "stream",
          "text": [
            "übung zu domainspecific and resourceaware computing on multicore architectures\n",
            "['IT-Architektur', 'Softwareentwicklung', 'Hardware-/Robotikentwicklung', 'Quantencomputing', 'Data Analytics & künstliche Intelligenz']\n",
            "[0.5426462888717651, 0.17314964532852173, 0.13561303913593292, 0.07684319466352463, 0.07174783200025558]\n",
            "\n",
            "\n"
          ]
        },
        {
          "name": "stderr",
          "output_type": "stream",
          "text": [
            " 31%|███       | 31/100 [03:38<06:39,  5.80s/it]"
          ]
        },
        {
          "name": "stdout",
          "output_type": "stream",
          "text": [
            "übungen zu grundlagen algorithmen und datenstrukturen in mi do siehe modulbeschreibung in\n",
            "['Data Analytics & künstliche Intelligenz', 'Softwareentwicklung', 'Hardware-/Robotikentwicklung', 'IT-Architektur', 'Quantencomputing']\n",
            "[0.5183810591697693, 0.21477285027503967, 0.1113668903708458, 0.10601964592933655, 0.049459561705589294]\n",
            "\n",
            "\n"
          ]
        },
        {
          "name": "stderr",
          "output_type": "stream",
          "text": [
            " 32%|███▏      | 32/100 [03:48<08:04,  7.12s/it]"
          ]
        },
        {
          "name": "stdout",
          "output_type": "stream",
          "text": [
            "übungen zu game development  in der übung werden die themen der vorlesung praktisch umgesetzt   die studierenden lernen eigene spiele zu entwerfen   im laufe des semesters setzt jeder teilnehmer eine spieleidee mit hilfe einer modernen spielengine prototypisch um\n",
            "['Softwareentwicklung', 'Quantencomputing', 'IT-Architektur', 'Data Analytics & künstliche Intelligenz', 'Hardware-/Robotikentwicklung']\n",
            "[0.5176477432250977, 0.17868748307228088, 0.12601861357688904, 0.09512278437614441, 0.0825234055519104]\n",
            "\n",
            "\n"
          ]
        },
        {
          "name": "stderr",
          "output_type": "stream",
          "text": [
            " 44%|████▍     | 44/100 [07:15<08:49,  9.46s/it]"
          ]
        },
        {
          "name": "stdout",
          "output_type": "stream",
          "text": [
            "hauptseminar über softwaremetriken\n",
            "['Softwareentwicklung', 'IT-Architektur', 'Data Analytics & künstliche Intelligenz', 'Quantencomputing', 'Hardware-/Robotikentwicklung']\n",
            "[0.6307329535484314, 0.12756183743476868, 0.12376975268125534, 0.08610647916793823, 0.03182906284928322]\n",
            "\n",
            "\n"
          ]
        },
        {
          "name": "stderr",
          "output_type": "stream",
          "text": [
            " 46%|████▌     | 46/100 [09:00<24:21, 27.06s/it]"
          ]
        },
        {
          "name": "stdout",
          "output_type": "stream",
          "text": [
            "netzwerke für den zahlungsverkehr in systemarchitektur hardware software protokollschichten und protokolle eg  iso  sicherheitsarchitekturen und sicherheitsstandards  authorisierungslösungen und signaturen arten von attacken mobile architekturen  und deren sicherheitskonzepte ota services anwendungen\n",
            "['Softwareentwicklung', 'IT-Architektur', 'Hardware-/Robotikentwicklung', 'Data Analytics & künstliche Intelligenz', 'Quantencomputing']\n",
            "[0.6249685883522034, 0.16408389806747437, 0.09982118010520935, 0.0654195249080658, 0.045706819742918015]\n",
            "\n",
            "\n"
          ]
        },
        {
          "name": "stderr",
          "output_type": "stream",
          "text": [
            " 47%|████▋     | 47/100 [09:02<17:10, 19.45s/it]"
          ]
        },
        {
          "name": "stdout",
          "output_type": "stream",
          "text": [
            "softwarespezifikation mit uml das proseminar gibt eine einführung in die unified modelling language in ihrer aktuellen fassung mit dem schwerpunkt der spezifikation von softwaresystemen\n",
            "['Softwareentwicklung', 'Hardware-/Robotikentwicklung', 'IT-Architektur', 'Quantencomputing', 'Data Analytics & künstliche Intelligenz']\n",
            "[0.8289065957069397, 0.046742044389247894, 0.04224536195397377, 0.04132668673992157, 0.040779296308755875]\n",
            "\n",
            "\n"
          ]
        },
        {
          "name": "stderr",
          "output_type": "stream",
          "text": [
            " 59%|█████▉    | 59/100 [10:52<02:34,  3.77s/it]"
          ]
        },
        {
          "name": "stdout",
          "output_type": "stream",
          "text": [
            "übungen zu programmiertechniken für intelligente systeme\n",
            "['Softwareentwicklung', 'Hardware-/Robotikentwicklung', 'IT-Architektur', 'Data Analytics & künstliche Intelligenz', 'Quantencomputing']\n",
            "[0.592934250831604, 0.1432475596666336, 0.1321745067834854, 0.08607406169176102, 0.045569632202386856]\n",
            "\n",
            "\n"
          ]
        },
        {
          "name": "stderr",
          "output_type": "stream",
          "text": [
            " 60%|██████    | 60/100 [10:53<02:04,  3.11s/it]"
          ]
        },
        {
          "name": "stdout",
          "output_type": "stream",
          "text": [
            "praktikum algorithmen ii vertiefung  lösung eines fortgeschrittenen algorithmischen problems aus der praxis und umsetzung der lösung in software konkrete themenstellung nach absprache in der vorbesprechung\n",
            "['Softwareentwicklung', 'Data Analytics & künstliche Intelligenz', 'IT-Architektur', 'Quantencomputing', 'Hardware-/Robotikentwicklung']\n",
            "[0.6625339984893799, 0.10588830709457397, 0.09924329072237015, 0.07536514848470688, 0.05696924775838852]\n",
            "\n",
            "\n"
          ]
        },
        {
          "name": "stderr",
          "output_type": "stream",
          "text": [
            " 62%|██████▏   | 62/100 [10:59<01:49,  2.87s/it]"
          ]
        },
        {
          "name": "stdout",
          "output_type": "stream",
          "text": [
            "mindstreams tutorium szenario fahrzeugüberwachung auf werksgeländen   lernziele  programmierung in modernem c  agile softwareentwicklung mit scrum  kreatives arbeiten im team  techniken des software engineering  datenstromverarbeitung  guter programmierstil  aufbau einer infrastruktur zur softwareentwicklung  arbeiten mit eingebetteten systemen\n",
            "['Softwareentwicklung', 'Data Analytics & künstliche Intelligenz', 'Quantencomputing', 'IT-Architektur', 'Hardware-/Robotikentwicklung']\n",
            "[0.9269292950630188, 0.025703679770231247, 0.02139173448085785, 0.01869608461856842, 0.0072791376151144505]\n",
            "\n",
            "\n"
          ]
        },
        {
          "name": "stderr",
          "output_type": "stream",
          "text": [
            " 67%|██████▋   | 67/100 [11:11<01:42,  3.10s/it]"
          ]
        },
        {
          "name": "stdout",
          "output_type": "stream",
          "text": [
            "grundlagen der robotik  die lehrveranstaltung behandelt räumliche darstellungen und transformationen manipulatorkinematik fahrzeugkinematik kinematische geschwindigkeit jacobimatrix roboterdynamik robotersensoren und antriebe roboterregelungen bahnplanung lokalisierung und navigation mobiler roboter roboterautonomie und roboterentwicklung theoretische und praktische übungen sowie programmieraufgaben dienen zur vertiefung der lehrinhalte\n",
            "['Hardware-/Robotikentwicklung', 'Quantencomputing', 'Data Analytics & künstliche Intelligenz', 'IT-Architektur', 'Softwareentwicklung']\n",
            "[0.9104067087173462, 0.02618541195988655, 0.026018429547548294, 0.01991795003414154, 0.01747147925198078]\n",
            "\n",
            "\n"
          ]
        },
        {
          "name": "stderr",
          "output_type": "stream",
          "text": [
            " 75%|███████▌  | 75/100 [12:18<02:19,  5.56s/it]"
          ]
        },
        {
          "name": "stdout",
          "output_type": "stream",
          "text": [
            "seminar bioinspired artificial intelligence der kurs findet gänzlich online statt details werden zu veranstaltungsbeginn den registrierten teilnehmern über stine nachrichten mitgeteilt die natur die biologie und die kognition haben bereits einfache und komplexe probleme in natürlichen formen der berechnung gelöst intelligenz entsteht aus zellen individueller gestalt der körpern und schließlich durch interaktion zwischen individuen einer gesellschaft dieses seminar liefert einen fokussierten und forschungsnahen einblick in biologische inspirierte künstliche intelligente systeme die themenbereiche folgenden dabei der vorlesung\n",
            "['Data Analytics & künstliche Intelligenz', 'IT-Architektur', 'Quantencomputing', 'Softwareentwicklung', 'Hardware-/Robotikentwicklung']\n",
            "[0.5389754176139832, 0.1528581827878952, 0.1336747109889984, 0.10350481420755386, 0.07098682969808578]\n",
            "\n",
            "\n"
          ]
        },
        {
          "name": "stderr",
          "output_type": "stream",
          "text": [
            " 80%|████████  | 80/100 [12:38<01:19,  3.99s/it]"
          ]
        },
        {
          "name": "stdout",
          "output_type": "stream",
          "text": [
            "software engineering übung zur gleichnamigen vorlesung\n",
            "['Softwareentwicklung', 'IT-Architektur', 'Data Analytics & künstliche Intelligenz', 'Quantencomputing', 'Hardware-/Robotikentwicklung']\n",
            "[0.7989001870155334, 0.11086665838956833, 0.047057438641786575, 0.029367469251155853, 0.013808287680149078]\n",
            "\n",
            "\n"
          ]
        },
        {
          "name": "stderr",
          "output_type": "stream",
          "text": [
            " 81%|████████  | 81/100 [12:39<00:59,  3.11s/it]"
          ]
        },
        {
          "name": "stdout",
          "output_type": "stream",
          "text": [
            "mss masterabschlusseminar  programmiersprachen\n",
            "['Softwareentwicklung', 'IT-Architektur', 'Data Analytics & künstliche Intelligenz', 'Quantencomputing', 'Hardware-/Robotikentwicklung']\n",
            "[0.5859501957893372, 0.15146492421627045, 0.09562765061855316, 0.08757125586271286, 0.07938586920499802]\n",
            "\n",
            "\n"
          ]
        },
        {
          "name": "stderr",
          "output_type": "stream",
          "text": [
            "100%|██████████| 100/100 [13:58<00:00,  8.38s/it]"
          ]
        },
        {
          "name": "stdout",
          "output_type": "stream",
          "text": [
            "[3, 13, 2, 1, 0]\n"
          ]
        },
        {
          "name": "stderr",
          "output_type": "stream",
          "text": [
            "\n"
          ]
        }
      ],
      "source": [
        "candidate_results = [0, 0, 0, 0, 0]\n",
        "\n",
        "for sent in tqdm(df['titel_kursbesch'].values): #tqdm für Fortschrittsanzeige\n",
        "    # To do multi-class classification, simply pass multi_label=True.\n",
        "    # In this case, the scores will be independent, but each will fall between 0 and 1.\n",
        "    res = classifier(sent, candidate_labels) # multi_label=True)\n",
        "\n",
        "    if res['labels'][0] == 'Data Analytics & künstliche Intelligenz' and res['scores'][0] > 0.5:\n",
        "        candidate_results[0] = candidate_results[0] + 1\n",
        "    if res['labels'][0] == 'Softwareentwicklung' and res['scores'][0] > 0.5:\n",
        "        candidate_results[1] = candidate_results[1] + 1\n",
        "    if res['labels'][0] == 'IT-Architektur' and res['scores'][0] > 0.5:\n",
        "        candidate_results[2] = candidate_results[2] + 1\n",
        "    if res['labels'][0] == 'Hardware-/Robotikentwicklung' and res['scores'][0] > 0.5:\n",
        "        candidate_results[3] = candidate_results[3] + 1\n",
        "    if res['labels'][0] == 'Quantencomputing' and res['scores'][0] > 0.5:\n",
        "        candidate_results[4] = candidate_results[4] + 1\n",
        "\n",
        "    if res['scores'][0] > 0.5: # Wenn der Score des ersten Labels größer als 0,5 ist: Print!\n",
        "        print(sent)\n",
        "        print(res['labels'])\n",
        "        print(res['scores'])\n",
        "        print('\\n')\n",
        "\n",
        "print(candidate_results)\n"
      ]
    },
    {
      "cell_type": "code",
      "execution_count": 12,
      "metadata": {
        "colab": {
          "base_uri": "https://localhost:8080/"
        },
        "id": "op79qh6vxr_8",
        "outputId": "d1aabf8f-5e7b-4c5f-d2e0-7f8ccf560fdd"
      },
      "outputs": [
        {
          "name": "stdout",
          "output_type": "stream",
          "text": [
            "[3, 13, 2, 1, 0]\n"
          ]
        }
      ],
      "source": [
        "data = {'labels': candidate_labels,\n",
        "        'values': candidate_results}\n",
        "\n",
        "df_chart = pd.DataFrame(data, columns=['labels','values'])\n",
        "\n",
        "df_chart.head()\n",
        "print(candidate_results)"
      ]
    },
    {
      "cell_type": "code",
      "execution_count": 13,
      "metadata": {
        "colab": {
          "base_uri": "https://localhost:8080/",
          "height": 466
        },
        "id": "jta2zLj-ymM6",
        "outputId": "72d8e22f-d3a6-418a-af32-ca8ecfe60bec"
      },
      "outputs": [
        {
          "data": {
            "text/plain": [
              "<Axes: xlabel='labels', ylabel='values'>"
            ]
          },
          "execution_count": 13,
          "metadata": {},
          "output_type": "execute_result"
        },
        {
          "data": {
            "image/png": "[encoded data removed]",
            "text/plain": [
              "<Figure size 640x480 with 1 Axes>"
            ]
          },
          "metadata": {},
          "output_type": "display_data"
        }
      ],
      "source": [
        "sns.barplot(data = df_chart\n",
        "            ,x = 'labels'\n",
        "            ,y = 'values'\n",
        "            )"
      ]
    }
  ],
  "metadata": {
    "colab": {
      "provenance": []
    },
    "kernelspec": {
      "display_name": "Python 3",
      "name": "python3"
    },
    "language_info": {
      "codemirror_mode": {
        "name": "ipython",
        "version": 3
      },
      "file_extension": ".py",
      "mimetype": "text/x-python",
      "name": "python",
      "nbconvert_exporter": "python",
      "pygments_lexer": "ipython3",
      "version": "3.12.2"
    },
    "widgets": {
      "application/vnd.jupyter.widget-state+json": {
        "0d78539d9be74b6da602acb190b78244": {
          "model_module": "@jupyter-widgets/controls",
          "model_module_version": "1.5.0",
          "model_name": "ProgressStyleModel",
          "state": {
            "_model_module": "@jupyter-widgets/controls",
            "_model_module_version": "1.5.0",
            "_model_name": "ProgressStyleModel",
            "_view_count": null,
            "_view_module": "@jupyter-widgets/base",
            "_view_module_version": "1.2.0",
            "_view_name": "StyleView",
            "bar_color": null,
            "description_width": ""
          }
        },
        "0fc97ddf36da4d20b60c29bbefdda30a": {
          "model_module": "@jupyter-widgets/controls",
          "model_module_version": "1.5.0",
          "model_name": "ProgressStyleModel",
          "state": {
            "_model_module": "@jupyter-widgets/controls",
            "_model_module_version": "1.5.0",
            "_model_name": "ProgressStyleModel",
            "_view_count": null,
            "_view_module": "@jupyter-widgets/base",
            "_view_module_version": "1.2.0",
            "_view_name": "StyleView",
            "bar_color": null,
            "description_width": ""
          }
        },
        "13fbd34dbaa24d57a0dee7f70b4966be": {
          "model_module": "@jupyter-widgets/base",
          "model_module_version": "1.2.0",
          "model_name": "LayoutModel",
          "state": {
            "_model_module": "@jupyter-widgets/base",
            "_model_module_version": "1.2.0",
            "_model_name": "LayoutModel",
            "_view_count": null,
            "_view_module": "@jupyter-widgets/base",
            "_view_module_version": "1.2.0",
            "_view_name": "LayoutView",
            "align_content": null,
            "align_items": null,
            "align_self": null,
            "border": null,
            "bottom": null,
            "display": null,
            "flex": null,
            "flex_flow": null,
            "grid_area": null,
            "grid_auto_columns": null,
            "grid_auto_flow": null,
            "grid_auto_rows": null,
            "grid_column": null,
            "grid_gap": null,
            "grid_row": null,
            "grid_template_areas": null,
            "grid_template_columns": null,
            "grid_template_rows": null,
            "height": null,
            "justify_content": null,
            "justify_items": null,
            "left": null,
            "margin": null,
            "max_height": null,
            "max_width": null,
            "min_height": null,
            "min_width": null,
            "object_fit": null,
            "object_position": null,
            "order": null,
            "overflow": null,
            "overflow_x": null,
            "overflow_y": null,
            "padding": null,
            "right": null,
            "top": null,
            "visibility": null,
            "width": null
          }
        },
        "187758c65c6144258663eebd7f7e1af4": {
          "model_module": "@jupyter-widgets/controls",
          "model_module_version": "1.5.0",
          "model_name": "ProgressStyleModel",
          "state": {
            "_model_module": "@jupyter-widgets/controls",
            "_model_module_version": "1.5.0",
            "_model_name": "ProgressStyleModel",
            "_view_count": null,
            "_view_module": "@jupyter-widgets/base",
            "_view_module_version": "1.2.0",
            "_view_name": "StyleView",
            "bar_color": null,
            "description_width": ""
          }
        },
        "18a6eb57cac34897a6840e9b50fe0e21": {
          "model_module": "@jupyter-widgets/base",
          "model_module_version": "1.2.0",
          "model_name": "LayoutModel",
          "state": {
            "_model_module": "@jupyter-widgets/base",
            "_model_module_version": "1.2.0",
            "_model_name": "LayoutModel",
            "_view_count": null,
            "_view_module": "@jupyter-widgets/base",
            "_view_module_version": "1.2.0",
            "_view_name": "LayoutView",
            "align_content": null,
            "align_items": null,
            "align_self": null,
            "border": null,
            "bottom": null,
            "display": null,
            "flex": null,
            "flex_flow": null,
            "grid_area": null,
            "grid_auto_columns": null,
            "grid_auto_flow": null,
            "grid_auto_rows": null,
            "grid_column": null,
            "grid_gap": null,
            "grid_row": null,
            "grid_template_areas": null,
            "grid_template_columns": null,
            "grid_template_rows": null,
            "height": null,
            "justify_content": null,
            "justify_items": null,
            "left": null,
            "margin": null,
            "max_height": null,
            "max_width": null,
            "min_height": null,
            "min_width": null,
            "object_fit": null,
            "object_position": null,
            "order": null,
            "overflow": null,
            "overflow_x": null,
            "overflow_y": null,
            "padding": null,
            "right": null,
            "top": null,
            "visibility": null,
            "width": null
          }
        },
        "204d2a0651e142b3a28fa48781d9c720": {
          "model_module": "@jupyter-widgets/base",
          "model_module_version": "1.2.0",
          "model_name": "LayoutModel",
          "state": {
            "_model_module": "@jupyter-widgets/base",
            "_model_module_version": "1.2.0",
            "_model_name": "LayoutModel",
            "_view_count": null,
            "_view_module": "@jupyter-widgets/base",
            "_view_module_version": "1.2.0",
            "_view_name": "LayoutView",
            "align_content": null,
            "align_items": null,
            "align_self": null,
            "border": null,
            "bottom": null,
            "display": null,
            "flex": null,
            "flex_flow": null,
            "grid_area": null,
            "grid_auto_columns": null,
            "grid_auto_flow": null,
            "grid_auto_rows": null,
            "grid_column": null,
            "grid_gap": null,
            "grid_row": null,
            "grid_template_areas": null,
            "grid_template_columns": null,
            "grid_template_rows": null,
            "height": null,
            "justify_content": null,
            "justify_items": null,
            "left": null,
            "margin": null,
            "max_height": null,
            "max_width": null,
            "min_height": null,
            "min_width": null,
            "object_fit": null,
            "object_position": null,
            "order": null,
            "overflow": null,
            "overflow_x": null,
            "overflow_y": null,
            "padding": null,
            "right": null,
            "top": null,
            "visibility": null,
            "width": null
          }
        },
        "214d4fada78c467bb5db497769772a60": {
          "model_module": "@jupyter-widgets/controls",
          "model_module_version": "1.5.0",
          "model_name": "DescriptionStyleModel",
          "state": {
            "_model_module": "@jupyter-widgets/controls",
            "_model_module_version": "1.5.0",
            "_model_name": "DescriptionStyleModel",
            "_view_count": null,
            "_view_module": "@jupyter-widgets/base",
            "_view_module_version": "1.2.0",
            "_view_name": "StyleView",
            "description_width": ""
          }
        },
        "22782bffcb244bf5b1637c680be05bca": {
          "model_module": "@jupyter-widgets/base",
          "model_module_version": "1.2.0",
          "model_name": "LayoutModel",
          "state": {
            "_model_module": "@jupyter-widgets/base",
            "_model_module_version": "1.2.0",
            "_model_name": "LayoutModel",
            "_view_count": null,
            "_view_module": "@jupyter-widgets/base",
            "_view_module_version": "1.2.0",
            "_view_name": "LayoutView",
            "align_content": null,
            "align_items": null,
            "align_self": null,
            "border": null,
            "bottom": null,
            "display": null,
            "flex": null,
            "flex_flow": null,
            "grid_area": null,
            "grid_auto_columns": null,
            "grid_auto_flow": null,
            "grid_auto_rows": null,
            "grid_column": null,
            "grid_gap": null,
            "grid_row": null,
            "grid_template_areas": null,
            "grid_template_columns": null,
            "grid_template_rows": null,
            "height": null,
            "justify_content": null,
            "justify_items": null,
            "left": null,
            "margin": null,
            "max_height": null,
            "max_width": null,
            "min_height": null,
            "min_width": null,
            "object_fit": null,
            "object_position": null,
            "order": null,
            "overflow": null,
            "overflow_x": null,
            "overflow_y": null,
            "padding": null,
            "right": null,
            "top": null,
            "visibility": null,
            "width": null
          }
        },
        "2f0a68e528c5408e88a57df452ed36c2": {
          "model_module": "@jupyter-widgets/controls",
          "model_module_version": "1.5.0",
          "model_name": "DescriptionStyleModel",
          "state": {
            "_model_module": "@jupyter-widgets/controls",
            "_model_module_version": "1.5.0",
            "_model_name": "DescriptionStyleModel",
            "_view_count": null,
            "_view_module": "@jupyter-widgets/base",
            "_view_module_version": "1.2.0",
            "_view_name": "StyleView",
            "description_width": ""
          }
        },
        "3130dc81179444cc96954361d4896e0b": {
          "model_module": "@jupyter-widgets/base",
          "model_module_version": "1.2.0",
          "model_name": "LayoutModel",
          "state": {
            "_model_module": "@jupyter-widgets/base",
            "_model_module_version": "1.2.0",
            "_model_name": "LayoutModel",
            "_view_count": null,
            "_view_module": "@jupyter-widgets/base",
            "_view_module_version": "1.2.0",
            "_view_name": "LayoutView",
            "align_content": null,
            "align_items": null,
            "align_self": null,
            "border": null,
            "bottom": null,
            "display": null,
            "flex": null,
            "flex_flow": null,
            "grid_area": null,
            "grid_auto_columns": null,
            "grid_auto_flow": null,
            "grid_auto_rows": null,
            "grid_column": null,
            "grid_gap": null,
            "grid_row": null,
            "grid_template_areas": null,
            "grid_template_columns": null,
            "grid_template_rows": null,
            "height": null,
            "justify_content": null,
            "justify_items": null,
            "left": null,
            "margin": null,
            "max_height": null,
            "max_width": null,
            "min_height": null,
            "min_width": null,
            "object_fit": null,
            "object_position": null,
            "order": null,
            "overflow": null,
            "overflow_x": null,
            "overflow_y": null,
            "padding": null,
            "right": null,
            "top": null,
            "visibility": null,
            "width": null
          }
        },
        "3879fd1084124779ac027d1b056f51a4": {
          "model_module": "@jupyter-widgets/base",
          "model_module_version": "1.2.0",
          "model_name": "LayoutModel",
          "state": {
            "_model_module": "@jupyter-widgets/base",
            "_model_module_version": "1.2.0",
            "_model_name": "LayoutModel",
            "_view_count": null,
            "_view_module": "@jupyter-widgets/base",
            "_view_module_version": "1.2.0",
            "_view_name": "LayoutView",
            "align_content": null,
            "align_items": null,
            "align_self": null,
            "border": null,
            "bottom": null,
            "display": null,
            "flex": null,
            "flex_flow": null,
            "grid_area": null,
            "grid_auto_columns": null,
            "grid_auto_flow": null,
            "grid_auto_rows": null,
            "grid_column": null,
            "grid_gap": null,
            "grid_row": null,
            "grid_template_areas": null,
            "grid_template_columns": null,
            "grid_template_rows": null,
            "height": null,
            "justify_content": null,
            "justify_items": null,
            "left": null,
            "margin": null,
            "max_height": null,
            "max_width": null,
            "min_height": null,
            "min_width": null,
            "object_fit": null,
            "object_position": null,
            "order": null,
            "overflow": null,
            "overflow_x": null,
            "overflow_y": null,
            "padding": null,
            "right": null,
            "top": null,
            "visibility": null,
            "width": null
          }
        },
        "387e0404291b47c58c94df41fc5a80b2": {
          "model_module": "@jupyter-widgets/controls",
          "model_module_version": "1.5.0",
          "model_name": "HTMLModel",
          "state": {
            "_dom_classes": [],
            "_model_module": "@jupyter-widgets/controls",
            "_model_module_version": "1.5.0",
            "_model_name": "HTMLModel",
            "_view_count": null,
            "_view_module": "@jupyter-widgets/controls",
            "_view_module_version": "1.5.0",
            "_view_name": "HTMLView",
            "description": "",
            "description_tooltip": null,
            "layout": "IPY_MODEL_be3e502a58e24bdf99606693b2cddaf2",
            "placeholder": "​",
            "style": "IPY_MODEL_787812c9a1644d39bd79e6d141907b93",
            "value": " 1.15k/1.15k [00:00&lt;00:00, 64.8kB/s]"
          }
        },
        "3e410e0b5b444aea911ac9f7dddbad25": {
          "model_module": "@jupyter-widgets/controls",
          "model_module_version": "1.5.0",
          "model_name": "ProgressStyleModel",
          "state": {
            "_model_module": "@jupyter-widgets/controls",
            "_model_module_version": "1.5.0",
            "_model_name": "ProgressStyleModel",
            "_view_count": null,
            "_view_module": "@jupyter-widgets/base",
            "_view_module_version": "1.2.0",
            "_view_name": "StyleView",
            "bar_color": null,
            "description_width": ""
          }
        },
        "404a33019fae41458ded51ab4406763c": {
          "model_module": "@jupyter-widgets/base",
          "model_module_version": "1.2.0",
          "model_name": "LayoutModel",
          "state": {
            "_model_module": "@jupyter-widgets/base",
            "_model_module_version": "1.2.0",
            "_model_name": "LayoutModel",
            "_view_count": null,
            "_view_module": "@jupyter-widgets/base",
            "_view_module_version": "1.2.0",
            "_view_name": "LayoutView",
            "align_content": null,
            "align_items": null,
            "align_self": null,
            "border": null,
            "bottom": null,
            "display": null,
            "flex": null,
            "flex_flow": null,
            "grid_area": null,
            "grid_auto_columns": null,
            "grid_auto_flow": null,
            "grid_auto_rows": null,
            "grid_column": null,
            "grid_gap": null,
            "grid_row": null,
            "grid_template_areas": null,
            "grid_template_columns": null,
            "grid_template_rows": null,
            "height": null,
            "justify_content": null,
            "justify_items": null,
            "left": null,
            "margin": null,
            "max_height": null,
            "max_width": null,
            "min_height": null,
            "min_width": null,
            "object_fit": null,
            "object_position": null,
            "order": null,
            "overflow": null,
            "overflow_x": null,
            "overflow_y": null,
            "padding": null,
            "right": null,
            "top": null,
            "visibility": null,
            "width": null
          }
        },
        "4174a7e6612446f2a5c2529a6f6011d8": {
          "model_module": "@jupyter-widgets/controls",
          "model_module_version": "1.5.0",
          "model_name": "ProgressStyleModel",
          "state": {
            "_model_module": "@jupyter-widgets/controls",
            "_model_module_version": "1.5.0",
            "_model_name": "ProgressStyleModel",
            "_view_count": null,
            "_view_module": "@jupyter-widgets/base",
            "_view_module_version": "1.2.0",
            "_view_name": "StyleView",
            "bar_color": null,
            "description_width": ""
          }
        },
        "41b2dd7bde0b47a29b7538737259561e": {
          "model_module": "@jupyter-widgets/controls",
          "model_module_version": "1.5.0",
          "model_name": "HTMLModel",
          "state": {
            "_dom_classes": [],
            "_model_module": "@jupyter-widgets/controls",
            "_model_module_version": "1.5.0",
            "_model_name": "HTMLModel",
            "_view_count": null,
            "_view_module": "@jupyter-widgets/controls",
            "_view_module_version": "1.5.0",
            "_view_name": "HTMLView",
            "description": "",
            "description_tooltip": null,
            "layout": "IPY_MODEL_4bd7e00f61d74c92ae822b91fbc6b8de",
            "placeholder": "​",
            "style": "IPY_MODEL_969a269e455c43bcbde8a516085e3115",
            "value": "merges.txt: 100%"
          }
        },
        "4305e301260b4ace9289deb3e9244326": {
          "model_module": "@jupyter-widgets/controls",
          "model_module_version": "1.5.0",
          "model_name": "FloatProgressModel",
          "state": {
            "_dom_classes": [],
            "_model_module": "@jupyter-widgets/controls",
            "_model_module_version": "1.5.0",
            "_model_name": "FloatProgressModel",
            "_view_count": null,
            "_view_module": "@jupyter-widgets/controls",
            "_view_module_version": "1.5.0",
            "_view_name": "ProgressView",
            "bar_style": "success",
            "description": "",
            "description_tooltip": null,
            "layout": "IPY_MODEL_18a6eb57cac34897a6840e9b50fe0e21",
            "max": 1154,
            "min": 0,
            "orientation": "horizontal",
            "style": "IPY_MODEL_0d78539d9be74b6da602acb190b78244",
            "value": 1154
          }
        },
        "43c156a41f8b48afb210c749b782989c": {
          "model_module": "@jupyter-widgets/controls",
          "model_module_version": "1.5.0",
          "model_name": "HTMLModel",
          "state": {
            "_dom_classes": [],
            "_model_module": "@jupyter-widgets/controls",
            "_model_module_version": "1.5.0",
            "_model_name": "HTMLModel",
            "_view_count": null,
            "_view_module": "@jupyter-widgets/controls",
            "_view_module_version": "1.5.0",
            "_view_name": "HTMLView",
            "description": "",
            "description_tooltip": null,
            "layout": "IPY_MODEL_81cdb3186f964b54b20dce3769ea1887",
            "placeholder": "​",
            "style": "IPY_MODEL_8e97f6df86b846588d912431f0a8d14d",
            "value": " 899k/899k [00:00&lt;00:00, 9.10MB/s]"
          }
        },
        "45664445022c44daa92dee43dae169e1": {
          "model_module": "@jupyter-widgets/controls",
          "model_module_version": "1.5.0",
          "model_name": "DescriptionStyleModel",
          "state": {
            "_model_module": "@jupyter-widgets/controls",
            "_model_module_version": "1.5.0",
            "_model_name": "DescriptionStyleModel",
            "_view_count": null,
            "_view_module": "@jupyter-widgets/base",
            "_view_module_version": "1.2.0",
            "_view_name": "StyleView",
            "description_width": ""
          }
        },
        "46e8f614759a433bb70c55b806bf361c": {
          "model_module": "@jupyter-widgets/controls",
          "model_module_version": "1.5.0",
          "model_name": "HBoxModel",
          "state": {
            "_dom_classes": [],
            "_model_module": "@jupyter-widgets/controls",
            "_model_module_version": "1.5.0",
            "_model_name": "HBoxModel",
            "_view_count": null,
            "_view_module": "@jupyter-widgets/controls",
            "_view_module_version": "1.5.0",
            "_view_name": "HBoxView",
            "box_style": "",
            "children": [
              "IPY_MODEL_a5243880e39249c2b2d84c6779830909",
              "IPY_MODEL_54ccdb7356d34ab09daf5661f39428ce",
              "IPY_MODEL_dc706b8aa3274cd0857a5633fa2d24b1"
            ],
            "layout": "IPY_MODEL_4aa172086fd5469b9ef827a0e5b06278"
          }
        },
        "4889f699d14940da9cf724b1fa20ad57": {
          "model_module": "@jupyter-widgets/base",
          "model_module_version": "1.2.0",
          "model_name": "LayoutModel",
          "state": {
            "_model_module": "@jupyter-widgets/base",
            "_model_module_version": "1.2.0",
            "_model_name": "LayoutModel",
            "_view_count": null,
            "_view_module": "@jupyter-widgets/base",
            "_view_module_version": "1.2.0",
            "_view_name": "LayoutView",
            "align_content": null,
            "align_items": null,
            "align_self": null,
            "border": null,
            "bottom": null,
            "display": null,
            "flex": null,
            "flex_flow": null,
            "grid_area": null,
            "grid_auto_columns": null,
            "grid_auto_flow": null,
            "grid_auto_rows": null,
            "grid_column": null,
            "grid_gap": null,
            "grid_row": null,
            "grid_template_areas": null,
            "grid_template_columns": null,
            "grid_template_rows": null,
            "height": null,
            "justify_content": null,
            "justify_items": null,
            "left": null,
            "margin": null,
            "max_height": null,
            "max_width": null,
            "min_height": null,
            "min_width": null,
            "object_fit": null,
            "object_position": null,
            "order": null,
            "overflow": null,
            "overflow_x": null,
            "overflow_y": null,
            "padding": null,
            "right": null,
            "top": null,
            "visibility": null,
            "width": null
          }
        },
        "4aa172086fd5469b9ef827a0e5b06278": {
          "model_module": "@jupyter-widgets/base",
          "model_module_version": "1.2.0",
          "model_name": "LayoutModel",
          "state": {
            "_model_module": "@jupyter-widgets/base",
            "_model_module_version": "1.2.0",
            "_model_name": "LayoutModel",
            "_view_count": null,
            "_view_module": "@jupyter-widgets/base",
            "_view_module_version": "1.2.0",
            "_view_name": "LayoutView",
            "align_content": null,
            "align_items": null,
            "align_self": null,
            "border": null,
            "bottom": null,
            "display": null,
            "flex": null,
            "flex_flow": null,
            "grid_area": null,
            "grid_auto_columns": null,
            "grid_auto_flow": null,
            "grid_auto_rows": null,
            "grid_column": null,
            "grid_gap": null,
            "grid_row": null,
            "grid_template_areas": null,
            "grid_template_columns": null,
            "grid_template_rows": null,
            "height": null,
            "justify_content": null,
            "justify_items": null,
            "left": null,
            "margin": null,
            "max_height": null,
            "max_width": null,
            "min_height": null,
            "min_width": null,
            "object_fit": null,
            "object_position": null,
            "order": null,
            "overflow": null,
            "overflow_x": null,
            "overflow_y": null,
            "padding": null,
            "right": null,
            "top": null,
            "visibility": null,
            "width": null
          }
        },
        "4b953b5a98fd4efa8d410982136e296d": {
          "model_module": "@jupyter-widgets/controls",
          "model_module_version": "1.5.0",
          "model_name": "HTMLModel",
          "state": {
            "_dom_classes": [],
            "_model_module": "@jupyter-widgets/controls",
            "_model_module_version": "1.5.0",
            "_model_name": "HTMLModel",
            "_view_count": null,
            "_view_module": "@jupyter-widgets/controls",
            "_view_module_version": "1.5.0",
            "_view_name": "HTMLView",
            "description": "",
            "description_tooltip": null,
            "layout": "IPY_MODEL_c0447dbc38e44da986433c094bf9301f",
            "placeholder": "​",
            "style": "IPY_MODEL_e753115c4a5d418eb8871ed0de97bbb9",
            "value": " 456k/456k [00:00&lt;00:00, 6.17MB/s]"
          }
        },
        "4bd7e00f61d74c92ae822b91fbc6b8de": {
          "model_module": "@jupyter-widgets/base",
          "model_module_version": "1.2.0",
          "model_name": "LayoutModel",
          "state": {
            "_model_module": "@jupyter-widgets/base",
            "_model_module_version": "1.2.0",
            "_model_name": "LayoutModel",
            "_view_count": null,
            "_view_module": "@jupyter-widgets/base",
            "_view_module_version": "1.2.0",
            "_view_name": "LayoutView",
            "align_content": null,
            "align_items": null,
            "align_self": null,
            "border": null,
            "bottom": null,
            "display": null,
            "flex": null,
            "flex_flow": null,
            "grid_area": null,
            "grid_auto_columns": null,
            "grid_auto_flow": null,
            "grid_auto_rows": null,
            "grid_column": null,
            "grid_gap": null,
            "grid_row": null,
            "grid_template_areas": null,
            "grid_template_columns": null,
            "grid_template_rows": null,
            "height": null,
            "justify_content": null,
            "justify_items": null,
            "left": null,
            "margin": null,
            "max_height": null,
            "max_width": null,
            "min_height": null,
            "min_width": null,
            "object_fit": null,
            "object_position": null,
            "order": null,
            "overflow": null,
            "overflow_x": null,
            "overflow_y": null,
            "padding": null,
            "right": null,
            "top": null,
            "visibility": null,
            "width": null
          }
        },
        "4cd7940ae34f402799b05ba7051e3c23": {
          "model_module": "@jupyter-widgets/base",
          "model_module_version": "1.2.0",
          "model_name": "LayoutModel",
          "state": {
            "_model_module": "@jupyter-widgets/base",
            "_model_module_version": "1.2.0",
            "_model_name": "LayoutModel",
            "_view_count": null,
            "_view_module": "@jupyter-widgets/base",
            "_view_module_version": "1.2.0",
            "_view_name": "LayoutView",
            "align_content": null,
            "align_items": null,
            "align_self": null,
            "border": null,
            "bottom": null,
            "display": null,
            "flex": null,
            "flex_flow": null,
            "grid_area": null,
            "grid_auto_columns": null,
            "grid_auto_flow": null,
            "grid_auto_rows": null,
            "grid_column": null,
            "grid_gap": null,
            "grid_row": null,
            "grid_template_areas": null,
            "grid_template_columns": null,
            "grid_template_rows": null,
            "height": null,
            "justify_content": null,
            "justify_items": null,
            "left": null,
            "margin": null,
            "max_height": null,
            "max_width": null,
            "min_height": null,
            "min_width": null,
            "object_fit": null,
            "object_position": null,
            "order": null,
            "overflow": null,
            "overflow_x": null,
            "overflow_y": null,
            "padding": null,
            "right": null,
            "top": null,
            "visibility": null,
            "width": null
          }
        },
        "4e5406a64e864b3cb04966d69048e117": {
          "model_module": "@jupyter-widgets/controls",
          "model_module_version": "1.5.0",
          "model_name": "DescriptionStyleModel",
          "state": {
            "_model_module": "@jupyter-widgets/controls",
            "_model_module_version": "1.5.0",
            "_model_name": "DescriptionStyleModel",
            "_view_count": null,
            "_view_module": "@jupyter-widgets/base",
            "_view_module_version": "1.2.0",
            "_view_name": "StyleView",
            "description_width": ""
          }
        },
        "54ccdb7356d34ab09daf5661f39428ce": {
          "model_module": "@jupyter-widgets/controls",
          "model_module_version": "1.5.0",
          "model_name": "FloatProgressModel",
          "state": {
            "_dom_classes": [],
            "_model_module": "@jupyter-widgets/controls",
            "_model_module_version": "1.5.0",
            "_model_name": "FloatProgressModel",
            "_view_count": null,
            "_view_module": "@jupyter-widgets/controls",
            "_view_module_version": "1.5.0",
            "_view_name": "ProgressView",
            "bar_style": "success",
            "description": "",
            "description_tooltip": null,
            "layout": "IPY_MODEL_3130dc81179444cc96954361d4896e0b",
            "max": 26,
            "min": 0,
            "orientation": "horizontal",
            "style": "IPY_MODEL_3e410e0b5b444aea911ac9f7dddbad25",
            "value": 26
          }
        },
        "55be4682e5fa484aa330b5df59f4a87d": {
          "model_module": "@jupyter-widgets/controls",
          "model_module_version": "1.5.0",
          "model_name": "FloatProgressModel",
          "state": {
            "_dom_classes": [],
            "_model_module": "@jupyter-widgets/controls",
            "_model_module_version": "1.5.0",
            "_model_name": "FloatProgressModel",
            "_view_count": null,
            "_view_module": "@jupyter-widgets/controls",
            "_view_module_version": "1.5.0",
            "_view_name": "ProgressView",
            "bar_style": "success",
            "description": "",
            "description_tooltip": null,
            "layout": "IPY_MODEL_b1b3262516ee4236a41e455cd70557d9",
            "max": 898822,
            "min": 0,
            "orientation": "horizontal",
            "style": "IPY_MODEL_4174a7e6612446f2a5c2529a6f6011d8",
            "value": 898822
          }
        },
        "57dd366650a546f79bf001b0f888b549": {
          "model_module": "@jupyter-widgets/controls",
          "model_module_version": "1.5.0",
          "model_name": "FloatProgressModel",
          "state": {
            "_dom_classes": [],
            "_model_module": "@jupyter-widgets/controls",
            "_model_module_version": "1.5.0",
            "_model_name": "FloatProgressModel",
            "_view_count": null,
            "_view_module": "@jupyter-widgets/controls",
            "_view_module_version": "1.5.0",
            "_view_name": "ProgressView",
            "bar_style": "success",
            "description": "",
            "description_tooltip": null,
            "layout": "IPY_MODEL_4cd7940ae34f402799b05ba7051e3c23",
            "max": 1355863,
            "min": 0,
            "orientation": "horizontal",
            "style": "IPY_MODEL_c8a2c9a590e746aa9324136325c38cbf",
            "value": 1355863
          }
        },
        "5814b297f6974a0aa4e7905813acc757": {
          "model_module": "@jupyter-widgets/controls",
          "model_module_version": "1.5.0",
          "model_name": "DescriptionStyleModel",
          "state": {
            "_model_module": "@jupyter-widgets/controls",
            "_model_module_version": "1.5.0",
            "_model_name": "DescriptionStyleModel",
            "_view_count": null,
            "_view_module": "@jupyter-widgets/base",
            "_view_module_version": "1.2.0",
            "_view_name": "StyleView",
            "description_width": ""
          }
        },
        "5861d0be8e3347378ea64f9264b483f9": {
          "model_module": "@jupyter-widgets/controls",
          "model_module_version": "1.5.0",
          "model_name": "DescriptionStyleModel",
          "state": {
            "_model_module": "@jupyter-widgets/controls",
            "_model_module_version": "1.5.0",
            "_model_name": "DescriptionStyleModel",
            "_view_count": null,
            "_view_module": "@jupyter-widgets/base",
            "_view_module_version": "1.2.0",
            "_view_name": "StyleView",
            "description_width": ""
          }
        },
        "61f18b0ed1244c9cb8e885b6701719e5": {
          "model_module": "@jupyter-widgets/base",
          "model_module_version": "1.2.0",
          "model_name": "LayoutModel",
          "state": {
            "_model_module": "@jupyter-widgets/base",
            "_model_module_version": "1.2.0",
            "_model_name": "LayoutModel",
            "_view_count": null,
            "_view_module": "@jupyter-widgets/base",
            "_view_module_version": "1.2.0",
            "_view_name": "LayoutView",
            "align_content": null,
            "align_items": null,
            "align_self": null,
            "border": null,
            "bottom": null,
            "display": null,
            "flex": null,
            "flex_flow": null,
            "grid_area": null,
            "grid_auto_columns": null,
            "grid_auto_flow": null,
            "grid_auto_rows": null,
            "grid_column": null,
            "grid_gap": null,
            "grid_row": null,
            "grid_template_areas": null,
            "grid_template_columns": null,
            "grid_template_rows": null,
            "height": null,
            "justify_content": null,
            "justify_items": null,
            "left": null,
            "margin": null,
            "max_height": null,
            "max_width": null,
            "min_height": null,
            "min_width": null,
            "object_fit": null,
            "object_position": null,
            "order": null,
            "overflow": null,
            "overflow_x": null,
            "overflow_y": null,
            "padding": null,
            "right": null,
            "top": null,
            "visibility": null,
            "width": null
          }
        },
        "6599495881714cf993cee455c5dc3b93": {
          "model_module": "@jupyter-widgets/controls",
          "model_module_version": "1.5.0",
          "model_name": "HBoxModel",
          "state": {
            "_dom_classes": [],
            "_model_module": "@jupyter-widgets/controls",
            "_model_module_version": "1.5.0",
            "_model_name": "HBoxModel",
            "_view_count": null,
            "_view_module": "@jupyter-widgets/controls",
            "_view_module_version": "1.5.0",
            "_view_name": "HBoxView",
            "box_style": "",
            "children": [
              "IPY_MODEL_e0f627c58e974d1294650f40a4eda49b",
              "IPY_MODEL_57dd366650a546f79bf001b0f888b549",
              "IPY_MODEL_daff9145ab2d4ae9a662a425f00d6bd7"
            ],
            "layout": "IPY_MODEL_404a33019fae41458ded51ab4406763c"
          }
        },
        "68974775ac664e8dbf5713c44275718d": {
          "model_module": "@jupyter-widgets/controls",
          "model_module_version": "1.5.0",
          "model_name": "DescriptionStyleModel",
          "state": {
            "_model_module": "@jupyter-widgets/controls",
            "_model_module_version": "1.5.0",
            "_model_name": "DescriptionStyleModel",
            "_view_count": null,
            "_view_module": "@jupyter-widgets/base",
            "_view_module_version": "1.2.0",
            "_view_name": "StyleView",
            "description_width": ""
          }
        },
        "72edf7a87db646329b173b2f4721bb9b": {
          "model_module": "@jupyter-widgets/controls",
          "model_module_version": "1.5.0",
          "model_name": "DescriptionStyleModel",
          "state": {
            "_model_module": "@jupyter-widgets/controls",
            "_model_module_version": "1.5.0",
            "_model_name": "DescriptionStyleModel",
            "_view_count": null,
            "_view_module": "@jupyter-widgets/base",
            "_view_module_version": "1.2.0",
            "_view_name": "StyleView",
            "description_width": ""
          }
        },
        "7385efe171e44193a95cef8cd513a626": {
          "model_module": "@jupyter-widgets/controls",
          "model_module_version": "1.5.0",
          "model_name": "HTMLModel",
          "state": {
            "_dom_classes": [],
            "_model_module": "@jupyter-widgets/controls",
            "_model_module_version": "1.5.0",
            "_model_name": "HTMLModel",
            "_view_count": null,
            "_view_module": "@jupyter-widgets/controls",
            "_view_module_version": "1.5.0",
            "_view_name": "HTMLView",
            "description": "",
            "description_tooltip": null,
            "layout": "IPY_MODEL_805a7eb8e17144d0b988ebf74e574c2b",
            "placeholder": "​",
            "style": "IPY_MODEL_214d4fada78c467bb5db497769772a60",
            "value": "config.json: 100%"
          }
        },
        "74ae542965e84594ba1ffd3b858b20eb": {
          "model_module": "@jupyter-widgets/base",
          "model_module_version": "1.2.0",
          "model_name": "LayoutModel",
          "state": {
            "_model_module": "@jupyter-widgets/base",
            "_model_module_version": "1.2.0",
            "_model_name": "LayoutModel",
            "_view_count": null,
            "_view_module": "@jupyter-widgets/base",
            "_view_module_version": "1.2.0",
            "_view_name": "LayoutView",
            "align_content": null,
            "align_items": null,
            "align_self": null,
            "border": null,
            "bottom": null,
            "display": null,
            "flex": null,
            "flex_flow": null,
            "grid_area": null,
            "grid_auto_columns": null,
            "grid_auto_flow": null,
            "grid_auto_rows": null,
            "grid_column": null,
            "grid_gap": null,
            "grid_row": null,
            "grid_template_areas": null,
            "grid_template_columns": null,
            "grid_template_rows": null,
            "height": null,
            "justify_content": null,
            "justify_items": null,
            "left": null,
            "margin": null,
            "max_height": null,
            "max_width": null,
            "min_height": null,
            "min_width": null,
            "object_fit": null,
            "object_position": null,
            "order": null,
            "overflow": null,
            "overflow_x": null,
            "overflow_y": null,
            "padding": null,
            "right": null,
            "top": null,
            "visibility": null,
            "width": null
          }
        },
        "787812c9a1644d39bd79e6d141907b93": {
          "model_module": "@jupyter-widgets/controls",
          "model_module_version": "1.5.0",
          "model_name": "DescriptionStyleModel",
          "state": {
            "_model_module": "@jupyter-widgets/controls",
            "_model_module_version": "1.5.0",
            "_model_name": "DescriptionStyleModel",
            "_view_count": null,
            "_view_module": "@jupyter-widgets/base",
            "_view_module_version": "1.2.0",
            "_view_name": "StyleView",
            "description_width": ""
          }
        },
        "805a7eb8e17144d0b988ebf74e574c2b": {
          "model_module": "@jupyter-widgets/base",
          "model_module_version": "1.2.0",
          "model_name": "LayoutModel",
          "state": {
            "_model_module": "@jupyter-widgets/base",
            "_model_module_version": "1.2.0",
            "_model_name": "LayoutModel",
            "_view_count": null,
            "_view_module": "@jupyter-widgets/base",
            "_view_module_version": "1.2.0",
            "_view_name": "LayoutView",
            "align_content": null,
            "align_items": null,
            "align_self": null,
            "border": null,
            "bottom": null,
            "display": null,
            "flex": null,
            "flex_flow": null,
            "grid_area": null,
            "grid_auto_columns": null,
            "grid_auto_flow": null,
            "grid_auto_rows": null,
            "grid_column": null,
            "grid_gap": null,
            "grid_row": null,
            "grid_template_areas": null,
            "grid_template_columns": null,
            "grid_template_rows": null,
            "height": null,
            "justify_content": null,
            "justify_items": null,
            "left": null,
            "margin": null,
            "max_height": null,
            "max_width": null,
            "min_height": null,
            "min_width": null,
            "object_fit": null,
            "object_position": null,
            "order": null,
            "overflow": null,
            "overflow_x": null,
            "overflow_y": null,
            "padding": null,
            "right": null,
            "top": null,
            "visibility": null,
            "width": null
          }
        },
        "81cdb3186f964b54b20dce3769ea1887": {
          "model_module": "@jupyter-widgets/base",
          "model_module_version": "1.2.0",
          "model_name": "LayoutModel",
          "state": {
            "_model_module": "@jupyter-widgets/base",
            "_model_module_version": "1.2.0",
            "_model_name": "LayoutModel",
            "_view_count": null,
            "_view_module": "@jupyter-widgets/base",
            "_view_module_version": "1.2.0",
            "_view_name": "LayoutView",
            "align_content": null,
            "align_items": null,
            "align_self": null,
            "border": null,
            "bottom": null,
            "display": null,
            "flex": null,
            "flex_flow": null,
            "grid_area": null,
            "grid_auto_columns": null,
            "grid_auto_flow": null,
            "grid_auto_rows": null,
            "grid_column": null,
            "grid_gap": null,
            "grid_row": null,
            "grid_template_areas": null,
            "grid_template_columns": null,
            "grid_template_rows": null,
            "height": null,
            "justify_content": null,
            "justify_items": null,
            "left": null,
            "margin": null,
            "max_height": null,
            "max_width": null,
            "min_height": null,
            "min_width": null,
            "object_fit": null,
            "object_position": null,
            "order": null,
            "overflow": null,
            "overflow_x": null,
            "overflow_y": null,
            "padding": null,
            "right": null,
            "top": null,
            "visibility": null,
            "width": null
          }
        },
        "8479f3e7f80d4680aeff0092eda659b2": {
          "model_module": "@jupyter-widgets/controls",
          "model_module_version": "1.5.0",
          "model_name": "FloatProgressModel",
          "state": {
            "_dom_classes": [],
            "_model_module": "@jupyter-widgets/controls",
            "_model_module_version": "1.5.0",
            "_model_name": "FloatProgressModel",
            "_view_count": null,
            "_view_module": "@jupyter-widgets/controls",
            "_view_module_version": "1.5.0",
            "_view_name": "ProgressView",
            "bar_style": "success",
            "description": "",
            "description_tooltip": null,
            "layout": "IPY_MODEL_61f18b0ed1244c9cb8e885b6701719e5",
            "max": 1629437147,
            "min": 0,
            "orientation": "horizontal",
            "style": "IPY_MODEL_187758c65c6144258663eebd7f7e1af4",
            "value": 1629437147
          }
        },
        "8e97f6df86b846588d912431f0a8d14d": {
          "model_module": "@jupyter-widgets/controls",
          "model_module_version": "1.5.0",
          "model_name": "DescriptionStyleModel",
          "state": {
            "_model_module": "@jupyter-widgets/controls",
            "_model_module_version": "1.5.0",
            "_model_name": "DescriptionStyleModel",
            "_view_count": null,
            "_view_module": "@jupyter-widgets/base",
            "_view_module_version": "1.2.0",
            "_view_name": "StyleView",
            "description_width": ""
          }
        },
        "8eb12e022b5147a5ba7c2b41a172d422": {
          "model_module": "@jupyter-widgets/base",
          "model_module_version": "1.2.0",
          "model_name": "LayoutModel",
          "state": {
            "_model_module": "@jupyter-widgets/base",
            "_model_module_version": "1.2.0",
            "_model_name": "LayoutModel",
            "_view_count": null,
            "_view_module": "@jupyter-widgets/base",
            "_view_module_version": "1.2.0",
            "_view_name": "LayoutView",
            "align_content": null,
            "align_items": null,
            "align_self": null,
            "border": null,
            "bottom": null,
            "display": null,
            "flex": null,
            "flex_flow": null,
            "grid_area": null,
            "grid_auto_columns": null,
            "grid_auto_flow": null,
            "grid_auto_rows": null,
            "grid_column": null,
            "grid_gap": null,
            "grid_row": null,
            "grid_template_areas": null,
            "grid_template_columns": null,
            "grid_template_rows": null,
            "height": null,
            "justify_content": null,
            "justify_items": null,
            "left": null,
            "margin": null,
            "max_height": null,
            "max_width": null,
            "min_height": null,
            "min_width": null,
            "object_fit": null,
            "object_position": null,
            "order": null,
            "overflow": null,
            "overflow_x": null,
            "overflow_y": null,
            "padding": null,
            "right": null,
            "top": null,
            "visibility": null,
            "width": null
          }
        },
        "969a269e455c43bcbde8a516085e3115": {
          "model_module": "@jupyter-widgets/controls",
          "model_module_version": "1.5.0",
          "model_name": "DescriptionStyleModel",
          "state": {
            "_model_module": "@jupyter-widgets/controls",
            "_model_module_version": "1.5.0",
            "_model_name": "DescriptionStyleModel",
            "_view_count": null,
            "_view_module": "@jupyter-widgets/base",
            "_view_module_version": "1.2.0",
            "_view_name": "StyleView",
            "description_width": ""
          }
        },
        "9e590d042dd644faa4190a93823ebea8": {
          "model_module": "@jupyter-widgets/base",
          "model_module_version": "1.2.0",
          "model_name": "LayoutModel",
          "state": {
            "_model_module": "@jupyter-widgets/base",
            "_model_module_version": "1.2.0",
            "_model_name": "LayoutModel",
            "_view_count": null,
            "_view_module": "@jupyter-widgets/base",
            "_view_module_version": "1.2.0",
            "_view_name": "LayoutView",
            "align_content": null,
            "align_items": null,
            "align_self": null,
            "border": null,
            "bottom": null,
            "display": null,
            "flex": null,
            "flex_flow": null,
            "grid_area": null,
            "grid_auto_columns": null,
            "grid_auto_flow": null,
            "grid_auto_rows": null,
            "grid_column": null,
            "grid_gap": null,
            "grid_row": null,
            "grid_template_areas": null,
            "grid_template_columns": null,
            "grid_template_rows": null,
            "height": null,
            "justify_content": null,
            "justify_items": null,
            "left": null,
            "margin": null,
            "max_height": null,
            "max_width": null,
            "min_height": null,
            "min_width": null,
            "object_fit": null,
            "object_position": null,
            "order": null,
            "overflow": null,
            "overflow_x": null,
            "overflow_y": null,
            "padding": null,
            "right": null,
            "top": null,
            "visibility": null,
            "width": null
          }
        },
        "a5243880e39249c2b2d84c6779830909": {
          "model_module": "@jupyter-widgets/controls",
          "model_module_version": "1.5.0",
          "model_name": "HTMLModel",
          "state": {
            "_dom_classes": [],
            "_model_module": "@jupyter-widgets/controls",
            "_model_module_version": "1.5.0",
            "_model_name": "HTMLModel",
            "_view_count": null,
            "_view_module": "@jupyter-widgets/controls",
            "_view_module_version": "1.5.0",
            "_view_name": "HTMLView",
            "description": "",
            "description_tooltip": null,
            "layout": "IPY_MODEL_204d2a0651e142b3a28fa48781d9c720",
            "placeholder": "​",
            "style": "IPY_MODEL_5814b297f6974a0aa4e7905813acc757",
            "value": "tokenizer_config.json: 100%"
          }
        },
        "b1b3262516ee4236a41e455cd70557d9": {
          "model_module": "@jupyter-widgets/base",
          "model_module_version": "1.2.0",
          "model_name": "LayoutModel",
          "state": {
            "_model_module": "@jupyter-widgets/base",
            "_model_module_version": "1.2.0",
            "_model_name": "LayoutModel",
            "_view_count": null,
            "_view_module": "@jupyter-widgets/base",
            "_view_module_version": "1.2.0",
            "_view_name": "LayoutView",
            "align_content": null,
            "align_items": null,
            "align_self": null,
            "border": null,
            "bottom": null,
            "display": null,
            "flex": null,
            "flex_flow": null,
            "grid_area": null,
            "grid_auto_columns": null,
            "grid_auto_flow": null,
            "grid_auto_rows": null,
            "grid_column": null,
            "grid_gap": null,
            "grid_row": null,
            "grid_template_areas": null,
            "grid_template_columns": null,
            "grid_template_rows": null,
            "height": null,
            "justify_content": null,
            "justify_items": null,
            "left": null,
            "margin": null,
            "max_height": null,
            "max_width": null,
            "min_height": null,
            "min_width": null,
            "object_fit": null,
            "object_position": null,
            "order": null,
            "overflow": null,
            "overflow_x": null,
            "overflow_y": null,
            "padding": null,
            "right": null,
            "top": null,
            "visibility": null,
            "width": null
          }
        },
        "b430f4c8259140498bc1c670e215a5b7": {
          "model_module": "@jupyter-widgets/controls",
          "model_module_version": "1.5.0",
          "model_name": "HBoxModel",
          "state": {
            "_dom_classes": [],
            "_model_module": "@jupyter-widgets/controls",
            "_model_module_version": "1.5.0",
            "_model_name": "HBoxModel",
            "_view_count": null,
            "_view_module": "@jupyter-widgets/controls",
            "_view_module_version": "1.5.0",
            "_view_name": "HBoxView",
            "box_style": "",
            "children": [
              "IPY_MODEL_c7972c086b4f4535a51f051427b31cb5",
              "IPY_MODEL_8479f3e7f80d4680aeff0092eda659b2",
              "IPY_MODEL_dc33ed3c9d174163ba518f9dd9d4e476"
            ],
            "layout": "IPY_MODEL_3879fd1084124779ac027d1b056f51a4"
          }
        },
        "bb425ea64abd4306b5248e7a32f9557e": {
          "model_module": "@jupyter-widgets/controls",
          "model_module_version": "1.5.0",
          "model_name": "FloatProgressModel",
          "state": {
            "_dom_classes": [],
            "_model_module": "@jupyter-widgets/controls",
            "_model_module_version": "1.5.0",
            "_model_name": "FloatProgressModel",
            "_view_count": null,
            "_view_module": "@jupyter-widgets/controls",
            "_view_module_version": "1.5.0",
            "_view_name": "ProgressView",
            "bar_style": "success",
            "description": "",
            "description_tooltip": null,
            "layout": "IPY_MODEL_f6e94b2c644a4054b4cc28bfa4fb42f4",
            "max": 456318,
            "min": 0,
            "orientation": "horizontal",
            "style": "IPY_MODEL_0fc97ddf36da4d20b60c29bbefdda30a",
            "value": 456318
          }
        },
        "be3e502a58e24bdf99606693b2cddaf2": {
          "model_module": "@jupyter-widgets/base",
          "model_module_version": "1.2.0",
          "model_name": "LayoutModel",
          "state": {
            "_model_module": "@jupyter-widgets/base",
            "_model_module_version": "1.2.0",
            "_model_name": "LayoutModel",
            "_view_count": null,
            "_view_module": "@jupyter-widgets/base",
            "_view_module_version": "1.2.0",
            "_view_name": "LayoutView",
            "align_content": null,
            "align_items": null,
            "align_self": null,
            "border": null,
            "bottom": null,
            "display": null,
            "flex": null,
            "flex_flow": null,
            "grid_area": null,
            "grid_auto_columns": null,
            "grid_auto_flow": null,
            "grid_auto_rows": null,
            "grid_column": null,
            "grid_gap": null,
            "grid_row": null,
            "grid_template_areas": null,
            "grid_template_columns": null,
            "grid_template_rows": null,
            "height": null,
            "justify_content": null,
            "justify_items": null,
            "left": null,
            "margin": null,
            "max_height": null,
            "max_width": null,
            "min_height": null,
            "min_width": null,
            "object_fit": null,
            "object_position": null,
            "order": null,
            "overflow": null,
            "overflow_x": null,
            "overflow_y": null,
            "padding": null,
            "right": null,
            "top": null,
            "visibility": null,
            "width": null
          }
        },
        "c0447dbc38e44da986433c094bf9301f": {
          "model_module": "@jupyter-widgets/base",
          "model_module_version": "1.2.0",
          "model_name": "LayoutModel",
          "state": {
            "_model_module": "@jupyter-widgets/base",
            "_model_module_version": "1.2.0",
            "_model_name": "LayoutModel",
            "_view_count": null,
            "_view_module": "@jupyter-widgets/base",
            "_view_module_version": "1.2.0",
            "_view_name": "LayoutView",
            "align_content": null,
            "align_items": null,
            "align_self": null,
            "border": null,
            "bottom": null,
            "display": null,
            "flex": null,
            "flex_flow": null,
            "grid_area": null,
            "grid_auto_columns": null,
            "grid_auto_flow": null,
            "grid_auto_rows": null,
            "grid_column": null,
            "grid_gap": null,
            "grid_row": null,
            "grid_template_areas": null,
            "grid_template_columns": null,
            "grid_template_rows": null,
            "height": null,
            "justify_content": null,
            "justify_items": null,
            "left": null,
            "margin": null,
            "max_height": null,
            "max_width": null,
            "min_height": null,
            "min_width": null,
            "object_fit": null,
            "object_position": null,
            "order": null,
            "overflow": null,
            "overflow_x": null,
            "overflow_y": null,
            "padding": null,
            "right": null,
            "top": null,
            "visibility": null,
            "width": null
          }
        },
        "c7972c086b4f4535a51f051427b31cb5": {
          "model_module": "@jupyter-widgets/controls",
          "model_module_version": "1.5.0",
          "model_name": "HTMLModel",
          "state": {
            "_dom_classes": [],
            "_model_module": "@jupyter-widgets/controls",
            "_model_module_version": "1.5.0",
            "_model_name": "HTMLModel",
            "_view_count": null,
            "_view_module": "@jupyter-widgets/controls",
            "_view_module_version": "1.5.0",
            "_view_name": "HTMLView",
            "description": "",
            "description_tooltip": null,
            "layout": "IPY_MODEL_74ae542965e84594ba1ffd3b858b20eb",
            "placeholder": "​",
            "style": "IPY_MODEL_2f0a68e528c5408e88a57df452ed36c2",
            "value": "model.safetensors: 100%"
          }
        },
        "c812311067604a0ab23a5abcff6ea43f": {
          "model_module": "@jupyter-widgets/controls",
          "model_module_version": "1.5.0",
          "model_name": "HBoxModel",
          "state": {
            "_dom_classes": [],
            "_model_module": "@jupyter-widgets/controls",
            "_model_module_version": "1.5.0",
            "_model_name": "HBoxModel",
            "_view_count": null,
            "_view_module": "@jupyter-widgets/controls",
            "_view_module_version": "1.5.0",
            "_view_name": "HBoxView",
            "box_style": "",
            "children": [
              "IPY_MODEL_7385efe171e44193a95cef8cd513a626",
              "IPY_MODEL_4305e301260b4ace9289deb3e9244326",
              "IPY_MODEL_387e0404291b47c58c94df41fc5a80b2"
            ],
            "layout": "IPY_MODEL_13fbd34dbaa24d57a0dee7f70b4966be"
          }
        },
        "c8a2c9a590e746aa9324136325c38cbf": {
          "model_module": "@jupyter-widgets/controls",
          "model_module_version": "1.5.0",
          "model_name": "ProgressStyleModel",
          "state": {
            "_model_module": "@jupyter-widgets/controls",
            "_model_module_version": "1.5.0",
            "_model_name": "ProgressStyleModel",
            "_view_count": null,
            "_view_module": "@jupyter-widgets/base",
            "_view_module_version": "1.2.0",
            "_view_name": "StyleView",
            "bar_color": null,
            "description_width": ""
          }
        },
        "daff9145ab2d4ae9a662a425f00d6bd7": {
          "model_module": "@jupyter-widgets/controls",
          "model_module_version": "1.5.0",
          "model_name": "HTMLModel",
          "state": {
            "_dom_classes": [],
            "_model_module": "@jupyter-widgets/controls",
            "_model_module_version": "1.5.0",
            "_model_name": "HTMLModel",
            "_view_count": null,
            "_view_module": "@jupyter-widgets/controls",
            "_view_module_version": "1.5.0",
            "_view_name": "HTMLView",
            "description": "",
            "description_tooltip": null,
            "layout": "IPY_MODEL_22782bffcb244bf5b1637c680be05bca",
            "placeholder": "​",
            "style": "IPY_MODEL_5861d0be8e3347378ea64f9264b483f9",
            "value": " 1.36M/1.36M [00:00&lt;00:00, 13.3MB/s]"
          }
        },
        "dc33ed3c9d174163ba518f9dd9d4e476": {
          "model_module": "@jupyter-widgets/controls",
          "model_module_version": "1.5.0",
          "model_name": "HTMLModel",
          "state": {
            "_dom_classes": [],
            "_model_module": "@jupyter-widgets/controls",
            "_model_module_version": "1.5.0",
            "_model_name": "HTMLModel",
            "_view_count": null,
            "_view_module": "@jupyter-widgets/controls",
            "_view_module_version": "1.5.0",
            "_view_name": "HTMLView",
            "description": "",
            "description_tooltip": null,
            "layout": "IPY_MODEL_9e590d042dd644faa4190a93823ebea8",
            "placeholder": "​",
            "style": "IPY_MODEL_72edf7a87db646329b173b2f4721bb9b",
            "value": " 1.63G/1.63G [00:10&lt;00:00, 235MB/s]"
          }
        },
        "dc706b8aa3274cd0857a5633fa2d24b1": {
          "model_module": "@jupyter-widgets/controls",
          "model_module_version": "1.5.0",
          "model_name": "HTMLModel",
          "state": {
            "_dom_classes": [],
            "_model_module": "@jupyter-widgets/controls",
            "_model_module_version": "1.5.0",
            "_model_name": "HTMLModel",
            "_view_count": null,
            "_view_module": "@jupyter-widgets/controls",
            "_view_module_version": "1.5.0",
            "_view_name": "HTMLView",
            "description": "",
            "description_tooltip": null,
            "layout": "IPY_MODEL_8eb12e022b5147a5ba7c2b41a172d422",
            "placeholder": "​",
            "style": "IPY_MODEL_45664445022c44daa92dee43dae169e1",
            "value": " 26.0/26.0 [00:00&lt;00:00, 1.30kB/s]"
          }
        },
        "e05daffcf1f4410d8c9828307bdbaa63": {
          "model_module": "@jupyter-widgets/base",
          "model_module_version": "1.2.0",
          "model_name": "LayoutModel",
          "state": {
            "_model_module": "@jupyter-widgets/base",
            "_model_module_version": "1.2.0",
            "_model_name": "LayoutModel",
            "_view_count": null,
            "_view_module": "@jupyter-widgets/base",
            "_view_module_version": "1.2.0",
            "_view_name": "LayoutView",
            "align_content": null,
            "align_items": null,
            "align_self": null,
            "border": null,
            "bottom": null,
            "display": null,
            "flex": null,
            "flex_flow": null,
            "grid_area": null,
            "grid_auto_columns": null,
            "grid_auto_flow": null,
            "grid_auto_rows": null,
            "grid_column": null,
            "grid_gap": null,
            "grid_row": null,
            "grid_template_areas": null,
            "grid_template_columns": null,
            "grid_template_rows": null,
            "height": null,
            "justify_content": null,
            "justify_items": null,
            "left": null,
            "margin": null,
            "max_height": null,
            "max_width": null,
            "min_height": null,
            "min_width": null,
            "object_fit": null,
            "object_position": null,
            "order": null,
            "overflow": null,
            "overflow_x": null,
            "overflow_y": null,
            "padding": null,
            "right": null,
            "top": null,
            "visibility": null,
            "width": null
          }
        },
        "e0f627c58e974d1294650f40a4eda49b": {
          "model_module": "@jupyter-widgets/controls",
          "model_module_version": "1.5.0",
          "model_name": "HTMLModel",
          "state": {
            "_dom_classes": [],
            "_model_module": "@jupyter-widgets/controls",
            "_model_module_version": "1.5.0",
            "_model_name": "HTMLModel",
            "_view_count": null,
            "_view_module": "@jupyter-widgets/controls",
            "_view_module_version": "1.5.0",
            "_view_name": "HTMLView",
            "description": "",
            "description_tooltip": null,
            "layout": "IPY_MODEL_e2c994c3836c4ca59ad32f8535f51622",
            "placeholder": "​",
            "style": "IPY_MODEL_4e5406a64e864b3cb04966d69048e117",
            "value": "tokenizer.json: 100%"
          }
        },
        "e2c994c3836c4ca59ad32f8535f51622": {
          "model_module": "@jupyter-widgets/base",
          "model_module_version": "1.2.0",
          "model_name": "LayoutModel",
          "state": {
            "_model_module": "@jupyter-widgets/base",
            "_model_module_version": "1.2.0",
            "_model_name": "LayoutModel",
            "_view_count": null,
            "_view_module": "@jupyter-widgets/base",
            "_view_module_version": "1.2.0",
            "_view_name": "LayoutView",
            "align_content": null,
            "align_items": null,
            "align_self": null,
            "border": null,
            "bottom": null,
            "display": null,
            "flex": null,
            "flex_flow": null,
            "grid_area": null,
            "grid_auto_columns": null,
            "grid_auto_flow": null,
            "grid_auto_rows": null,
            "grid_column": null,
            "grid_gap": null,
            "grid_row": null,
            "grid_template_areas": null,
            "grid_template_columns": null,
            "grid_template_rows": null,
            "height": null,
            "justify_content": null,
            "justify_items": null,
            "left": null,
            "margin": null,
            "max_height": null,
            "max_width": null,
            "min_height": null,
            "min_width": null,
            "object_fit": null,
            "object_position": null,
            "order": null,
            "overflow": null,
            "overflow_x": null,
            "overflow_y": null,
            "padding": null,
            "right": null,
            "top": null,
            "visibility": null,
            "width": null
          }
        },
        "e753115c4a5d418eb8871ed0de97bbb9": {
          "model_module": "@jupyter-widgets/controls",
          "model_module_version": "1.5.0",
          "model_name": "DescriptionStyleModel",
          "state": {
            "_model_module": "@jupyter-widgets/controls",
            "_model_module_version": "1.5.0",
            "_model_name": "DescriptionStyleModel",
            "_view_count": null,
            "_view_module": "@jupyter-widgets/base",
            "_view_module_version": "1.2.0",
            "_view_name": "StyleView",
            "description_width": ""
          }
        },
        "eaef4a49f7414d7280e49b9a32832d78": {
          "model_module": "@jupyter-widgets/controls",
          "model_module_version": "1.5.0",
          "model_name": "HBoxModel",
          "state": {
            "_dom_classes": [],
            "_model_module": "@jupyter-widgets/controls",
            "_model_module_version": "1.5.0",
            "_model_name": "HBoxModel",
            "_view_count": null,
            "_view_module": "@jupyter-widgets/controls",
            "_view_module_version": "1.5.0",
            "_view_name": "HBoxView",
            "box_style": "",
            "children": [
              "IPY_MODEL_f27b7e96e49746ad8c51b284cd61ca38",
              "IPY_MODEL_55be4682e5fa484aa330b5df59f4a87d",
              "IPY_MODEL_43c156a41f8b48afb210c749b782989c"
            ],
            "layout": "IPY_MODEL_e05daffcf1f4410d8c9828307bdbaa63"
          }
        },
        "ede26f375c9f4f689c6f35d91c5570d7": {
          "model_module": "@jupyter-widgets/base",
          "model_module_version": "1.2.0",
          "model_name": "LayoutModel",
          "state": {
            "_model_module": "@jupyter-widgets/base",
            "_model_module_version": "1.2.0",
            "_model_name": "LayoutModel",
            "_view_count": null,
            "_view_module": "@jupyter-widgets/base",
            "_view_module_version": "1.2.0",
            "_view_name": "LayoutView",
            "align_content": null,
            "align_items": null,
            "align_self": null,
            "border": null,
            "bottom": null,
            "display": null,
            "flex": null,
            "flex_flow": null,
            "grid_area": null,
            "grid_auto_columns": null,
            "grid_auto_flow": null,
            "grid_auto_rows": null,
            "grid_column": null,
            "grid_gap": null,
            "grid_row": null,
            "grid_template_areas": null,
            "grid_template_columns": null,
            "grid_template_rows": null,
            "height": null,
            "justify_content": null,
            "justify_items": null,
            "left": null,
            "margin": null,
            "max_height": null,
            "max_width": null,
            "min_height": null,
            "min_width": null,
            "object_fit": null,
            "object_position": null,
            "order": null,
            "overflow": null,
            "overflow_x": null,
            "overflow_y": null,
            "padding": null,
            "right": null,
            "top": null,
            "visibility": null,
            "width": null
          }
        },
        "f27b7e96e49746ad8c51b284cd61ca38": {
          "model_module": "@jupyter-widgets/controls",
          "model_module_version": "1.5.0",
          "model_name": "HTMLModel",
          "state": {
            "_dom_classes": [],
            "_model_module": "@jupyter-widgets/controls",
            "_model_module_version": "1.5.0",
            "_model_name": "HTMLModel",
            "_view_count": null,
            "_view_module": "@jupyter-widgets/controls",
            "_view_module_version": "1.5.0",
            "_view_name": "HTMLView",
            "description": "",
            "description_tooltip": null,
            "layout": "IPY_MODEL_4889f699d14940da9cf724b1fa20ad57",
            "placeholder": "​",
            "style": "IPY_MODEL_68974775ac664e8dbf5713c44275718d",
            "value": "vocab.json: 100%"
          }
        },
        "f6e94b2c644a4054b4cc28bfa4fb42f4": {
          "model_module": "@jupyter-widgets/base",
          "model_module_version": "1.2.0",
          "model_name": "LayoutModel",
          "state": {
            "_model_module": "@jupyter-widgets/base",
            "_model_module_version": "1.2.0",
            "_model_name": "LayoutModel",
            "_view_count": null,
            "_view_module": "@jupyter-widgets/base",
            "_view_module_version": "1.2.0",
            "_view_name": "LayoutView",
            "align_content": null,
            "align_items": null,
            "align_self": null,
            "border": null,
            "bottom": null,
            "display": null,
            "flex": null,
            "flex_flow": null,
            "grid_area": null,
            "grid_auto_columns": null,
            "grid_auto_flow": null,
            "grid_auto_rows": null,
            "grid_column": null,
            "grid_gap": null,
            "grid_row": null,
            "grid_template_areas": null,
            "grid_template_columns": null,
            "grid_template_rows": null,
            "height": null,
            "justify_content": null,
            "justify_items": null,
            "left": null,
            "margin": null,
            "max_height": null,
            "max_width": null,
            "min_height": null,
            "min_width": null,
            "object_fit": null,
            "object_position": null,
            "order": null,
            "overflow": null,
            "overflow_x": null,
            "overflow_y": null,
            "padding": null,
            "right": null,
            "top": null,
            "visibility": null,
            "width": null
          }
        },
        "fe5cfed13730405b8664984f3004d899": {
          "model_module": "@jupyter-widgets/controls",
          "model_module_version": "1.5.0",
          "model_name": "HBoxModel",
          "state": {
            "_dom_classes": [],
            "_model_module": "@jupyter-widgets/controls",
            "_model_module_version": "1.5.0",
            "_model_name": "HBoxModel",
            "_view_count": null,
            "_view_module": "@jupyter-widgets/controls",
            "_view_module_version": "1.5.0",
            "_view_name": "HBoxView",
            "box_style": "",
            "children": [
              "IPY_MODEL_41b2dd7bde0b47a29b7538737259561e",
              "IPY_MODEL_bb425ea64abd4306b5248e7a32f9557e",
              "IPY_MODEL_4b953b5a98fd4efa8d410982136e296d"
            ],
            "layout": "IPY_MODEL_ede26f375c9f4f689c6f35d91c5570d7"
          }
        }
      }
    }
  },
  "nbformat": 4,
  "nbformat_minor": 0
}
