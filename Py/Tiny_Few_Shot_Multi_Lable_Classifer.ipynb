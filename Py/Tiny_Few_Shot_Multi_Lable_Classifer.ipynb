{
 "cells": [
  {
   "cell_type": "markdown",
   "metadata": {},
   "source": [
    "# Tiny few shot classifer\n",
    "\n",
    "Im folgenden wird ein few shot classifier für multilabels im [SetFit-Frame](https://huggingface.co/blog/setfit) Format erzeugt. Gearbeitet wird mit `Python 3.12.3`.\n",
    "\n",
    "# Pakete laden\n",
    "\n",
    "In einem ersten Schritt werden die nötigen Pakete geladen. "
   ]
  },
  {
   "cell_type": "code",
   "execution_count": 1,
   "metadata": {},
   "outputs": [],
   "source": [
    "from datasets import load_dataset  # Zum Laden von Datensätzen aus der Hugging Face `datasets` Bibliothek\n",
    "from sentence_transformers.losses import CosineSimilarityLoss  # Verlustfunktion basierend auf der Kosinusähnlichkeit, für Aufgaben wie Textähnlichkeit\n",
    "\n",
    "from setfit import SetFitModel, SetFitTrainer  # Zum Laden des SetFit-Modells und Trainers, speziell für Few-Shot Learning mit Satztransformern\n",
    "import pandas as pd  # Pandas für Datenmanipulation und -analyse\n",
    "from sklearn.preprocessing import LabelEncoder  # Zum Encoden von Labels in numerische Werte für maschinelles Lernen\n",
    "import os  # Für den Umgang mit Betriebssystemfunktionen (z.B. Dateipfade)\n",
    "from datasets import Dataset, DatasetDict  # Zum Erstellen und Verwalten von Datensätzen in Hugging Face `datasets`-Format\n",
    "from sklearn.model_selection import train_test_split  # Zum Aufteilen der Daten in Trainings- und Testsets\n",
    "\n",
    "from transformers import TrainingArguments  # Zum Festlegen von Trainingsparametern für Modelle in der Transformers-Bibliothek\n",
    "\n",
    "import torch  # Ermöglicht die GPU-Nutzung und effiziente Verarbeitung von Tensoren\n",
    "import numpy as np  # Für numerische Berechnungen und Arbeiten mit Arrays\n",
    "\n",
    "import re\n",
    "import html\n",
    "\n",
    "from unidecode import unidecode"
   ]
  },
  {
   "cell_type": "markdown",
   "metadata": {},
   "source": [
    "# Arbeitsverzeichnis\n",
    "\n",
    "Es wird weiterhin das Rootverzeichnis bestimmt."
   ]
  },
  {
   "cell_type": "code",
   "execution_count": 2,
   "metadata": {},
   "outputs": [
    {
     "name": "stdout",
     "output_type": "stream",
     "text": [
      "c:\\Users\\Hueck\\OneDrive\\Dokumente\\GitHub\\future_skill_classification\\Py\n"
     ]
    }
   ],
   "source": [
    "# checke home-verzeichnis\n",
    "print(os.getcwd())\n",
    "# setze home-verzeichnis\n",
    "os.chdir('c:/Users/Hueck/OneDrive/Dokumente/GitHub/future_skill_classification/')"
   ]
  },
  {
   "cell_type": "markdown",
   "metadata": {},
   "source": [
    "# Daten\n",
    "\n",
    "## Daten laden\n",
    "\n",
    "Das zur Zeit keine Daten für das trainieren eines multilable Classifiers vorliegen, werden die Trainings-Daten genutzt, die ursprünglich von Franziska Weber und Felix Süßenbach erzeugt wurden."
   ]
  },
  {
   "cell_type": "code",
   "execution_count": 3,
   "metadata": {},
   "outputs": [
    {
     "name": "stdout",
     "output_type": "stream",
     "text": [
      "Dataset({\n",
      "    features: ['Hardware-/Robotikentwicklung', 'Softwareentwicklung', 'Nutzerzentriertes Design', 'Data Analytics & KI', 'Quantencomputing', 'IT-Architektur', 'sentence'],\n",
      "    num_rows: 362\n",
      "})\n"
     ]
    }
   ],
   "source": [
    "# Laden der Excel-Datei\n",
    "df = pd.read_excel('data/train_data_with_negative_cases.xlsx')\n",
    " \n",
    "# 1. Ersetze NaN-Werte durch 0\n",
    "df = df.fillna(0)\n",
    "\n",
    "# 2. Ersetze unendliche Werte durch 0\n",
    "df.replace([np.inf, -np.inf], 0, inplace=True)\n",
    "\n",
    "df[df.select_dtypes(include='number').columns] = df.select_dtypes(include='number').astype('int64')\n",
    "\n",
    " \n",
    "df_cleaned = df[~(df.select_dtypes(include='number').eq(0).all(axis=1))]\n",
    "\n",
    "\n",
    "\n",
    "# Für die weitere Verarbeitung werden die Daten ins  Hugging Face Dataset-Format transformiert. \n",
    "\n",
    "# /////////////////////////////////////////////////\n",
    "# Hinweis: Das Dataset-Format der Hugging Face datasets-Bibliothek basiert auf Apache Arrow und ist speichereffizient, was schnelles Laden und Verarbeiten großer Datensätze ermöglicht. Es integriert sich nahtlos in Machine-Learning-Workflows und unterstützt einfache Transformationen und Vorverarbeitung durch Methoden wie .map(). Zudem ist es flexibel und kompatibel mit Pandas DataFrames sowie gängigen Frameworks wie PyTorch und TensorFlow.\n",
    "#//////////////////////////////////////////////////\n",
    "\n",
    "dataset = Dataset.from_pandas(df)\n",
    "print(dataset)\n",
    " "
   ]
  },
  {
   "cell_type": "markdown",
   "metadata": {},
   "source": [
    "## Daten verarbeiten\n",
    "\n",
    "### Feature Auswahl\n",
    "\n",
    "In einem ersten Schritt werden die Features des Classifiers ausgewählt. Da sich insbesondere *klassische* und *transformative Future Skills* als schwer nachvollziehbar in den Daten erwiesen haben, werden diese aus dem Classifier ausgeschlossen, ebenso wie die Kurstitel und -beschreibungen (`sentence`). "
   ]
  },
  {
   "cell_type": "code",
   "execution_count": 4,
   "metadata": {},
   "outputs": [
    {
     "name": "stdout",
     "output_type": "stream",
     "text": [
      "['Hardware-/Robotikentwicklung', 'Softwareentwicklung', 'Nutzerzentriertes Design', 'Data Analytics & KI', 'Quantencomputing', 'IT-Architektur']\n"
     ]
    }
   ],
   "source": [
    "# ziehe column names als Liste\n",
    "features = dataset.column_names\n",
    "\n",
    "# definiere skills, die nicht vom classifier berücksichtigt werden\n",
    "to_remove = ['sentence']\n",
    "\n",
    "# schließe die oben definierten Variablen aus der Feature-Liste aus\n",
    "filtered_features = [feature for feature in features if feature not in to_remove]\n",
    "\n",
    "features = filtered_features\n",
    "\n",
    "print(features)"
   ]
  },
  {
   "cell_type": "markdown",
   "metadata": {},
   "source": [
    "### One-Hot-Encoding\n",
    "\n",
    "Für das Trainieren des Classifiers wird im folgenden ein *One-Hot-Encoding*-Array der Features erzeugt. Dies ist deshalb nötig, da im folgenden ein Modell für ein Multi-Label-Szenario trainiert werden soll: Ein Kursangebot kann den erwerb mehrerer Future Skills versprechen, etwa Softwareentwicklung **&** IT-Architektur. Das One-Hot-Encoding wird benötigt, um die Labels der Features in eine Form zu bringen, die das Classifier Modell von SetFit korrekt verarbeiten kann. Es stellt sicher, dass alle Klassen gleichwertig behandelt werden, und ermöglicht die Berechnung von Ähnlichkeiten verschiedener Kursinhalte.\n",
    "\n",
    "Um den *One-Hot-Encoding*-Array zu erzeugen definieren wir `encode_labels(record)`: Diese Funktion geht durch jede Zeile eines Data Frames und erstellt eine neue Spalte namens `labels`. In dieser Spalte werden die Werte aus den oben definierten \"features\" gesammelt und in eine Liste gepackt. Diese Liste enthält Werte der Features.\n",
    "\n",
    "Beispiel: Mit Blick auf die Features 'Data Analytics & KI', 'Softwareentwicklung' und 'Nutzerzentriertes Design', könnte ein Zeilenvektor des Arrays eines Kurses der sich mit Data Analytics & KI / Softwareentwicklung beschäftigt so aussehen: `[1, 1, 0]`"
   ]
  },
  {
   "cell_type": "code",
   "execution_count": 5,
   "metadata": {},
   "outputs": [
    {
     "name": "stderr",
     "output_type": "stream",
     "text": [
      "c:\\Users\\Hueck\\AppData\\Local\\Programs\\Python\\Python312\\Lib\\site-packages\\datasets\\utils\\_dill.py:379: DeprecationWarning: co_lnotab is deprecated, use co_lines instead.\n",
      "  obj.co_lnotab,  # for < python 3.10 [not counted in args]\n"
     ]
    },
    {
     "data": {
      "application/vnd.jupyter.widget-view+json": {
       "model_id": "57f6ca9b27f14c56b66b2616dba3dab2",
       "version_major": 2,
       "version_minor": 0
      },
      "text/plain": [
       "Map:   0%|          | 0/362 [00:00<?, ? examples/s]"
      ]
     },
     "metadata": {},
     "output_type": "display_data"
    }
   ],
   "source": [
    "# generiere Funktion für One-Hot-Encoding für jede Zeile (record)\n",
    "def encode_labels(record):\n",
    "    return {\"labels\": [record[feature] for feature in features]}\n",
    "\n",
    "# wende Funktion auf train_data an\n",
    "dataset = dataset.map(encode_labels)\n",
    "\n",
    "# um die Daten übersichtlich im viewer zu betrachten: umwandlung und pandas data frame\n",
    "pd_dataset = dataset.to_pandas()"
   ]
  },
  {
   "cell_type": "markdown",
   "metadata": {},
   "source": [
    "### Erstellung von Test- und Trainingsdaten\n",
    "\n",
    "Im folgenden wird in `dataset` für jedes Feature (`f`) in der Liste `features` nach den Zeilen gesucht, in denen das Feature einen gültigen (nicht-leeren oder nicht-null) Wert hat. Aus diesen Zeilen (Indizes) werden dann zufällig 8 Beispiele ausgewählt. `np.where(dataset[f])` gibt die Indizes der Zeilen zurück, bei denen der Wert in der Spalte `f` `true` ist (also weder leer noch null). Wenn der Wert `false` ist (z.B. `0`, `NaN`, `None`, `False`, ein leerer String ''), wird diese Zeile ausgeschlossen."
   ]
  },
  {
   "cell_type": "code",
   "execution_count": 7,
   "metadata": {},
   "outputs": [],
   "source": [
    "# num_samples = 8\n",
    "# samples = np.concatenate(\n",
    "#     [np.random.choice(np.where(dataset[f])[0], num_samples) for f in features]\n",
    "# )\n",
    "# print(samples)"
   ]
  },
  {
   "cell_type": "markdown",
   "metadata": {},
   "source": [
    "Im Folgenden wird einerseits der Trainingsdatensatz `train_dataset` anhand der oben definierten Indizes aus dem `samples`-Objekt erzeugt. Andererseits wird ein komplementärer Datensatz `eval_dataset` erzeugt, mit allen Indizes die nicht im `samples`-Objekt vorkommen. "
   ]
  },
  {
   "cell_type": "code",
   "execution_count": 6,
   "metadata": {},
   "outputs": [],
   "source": [
    "train_dataset = dataset\n",
    "# eval_dataset = dataset.select(\n",
    "#     np.setdiff1d(np.arange(len(dataset)), samples)\n",
    "# )\n",
    "\n",
    " \n",
    "# check data with pandas\n",
    "pd_train_dataset = train_dataset.to_pandas()\n",
    "# pd_eval_dataset = eval_dataset.to_pandas()\n"
   ]
  },
  {
   "cell_type": "code",
   "execution_count": 7,
   "metadata": {},
   "outputs": [],
   "source": [
    "import torch\n",
    "torch.cuda.empty_cache()"
   ]
  },
  {
   "cell_type": "markdown",
   "metadata": {},
   "source": [
    "## Modelltraining\n",
    "\n",
    "Es wird das vortrainierte sentence-transformers-Modell `paraphrase-mpnet-base-v2` aus der Hugging Face Bibliothek geladen. Durch die Angabe der Strategie `one-vs-rest` wird das Modell für eine Multi-Label-Klassifikation konfiguriert, bei der jede Klasse eines Kurses einzeln vorhergesagt wird. Auf diese Weise wird es möglich, mehrere Skills pro Kurs zu identifizieren. "
   ]
  },
  {
   "cell_type": "code",
   "execution_count": 24,
   "metadata": {},
   "outputs": [
    {
     "name": "stderr",
     "output_type": "stream",
     "text": [
      "model_head.pkl not found on HuggingFace Hub, initialising classification head with random weights. You should TRAIN this model on a downstream task to use it for predictions and inference.\n"
     ]
    },
    {
     "name": "stdout",
     "output_type": "stream",
     "text": [
      "Label zu ID Mapping: {'Hardware-/Robotikentwicklung': 0, 'Softwareentwicklung': 1, 'Nutzerzentriertes Design': 2, 'Data Analytics & KI': 3, 'Quantencomputing': 4, 'IT-Architektur': 5}\n",
      "ID zu Label Mapping: {0: 'Hardware-/Robotikentwicklung', 1: 'Softwareentwicklung', 2: 'Nutzerzentriertes Design', 3: 'Data Analytics & KI', 4: 'Quantencomputing', 5: 'IT-Architektur'}\n"
     ]
    }
   ],
   "source": [
    "# Laden des Modells\n",
    "model_id = \"sentence-transformers/paraphrase-multilingual-MiniLM-L12-v2\"\n",
    "model = SetFitModel.from_pretrained(model_id, multi_target_strategy=\"multi-output\")\n",
    "\n",
    "# Manuelles Hinzufügen der Label-Konfiguration\n",
    "model.__dict__[\"label2id\"] = {\n",
    "    'Hardware-/Robotikentwicklung': 0,\n",
    "    'Softwareentwicklung': 1,\n",
    "    'Nutzerzentriertes Design': 2,\n",
    "    'Data Analytics & KI': 3,\n",
    "    'Quantencomputing': 4,\n",
    "    'IT-Architektur': 5,\n",
    "}\n",
    "\n",
    "\n",
    "\n",
    "model.__dict__[\"id2label\"] = {v: k for k, v in model.__dict__[\"label2id\"].items()}\n",
    "\n",
    "# Bestätigen, dass die Labels korrekt hinzugefügt wurden\n",
    "print(\"Label zu ID Mapping:\", model.__dict__[\"label2id\"])\n",
    "print(\"ID zu Label Mapping:\", model.__dict__[\"id2label\"])"
   ]
  },
  {
   "cell_type": "markdown",
   "metadata": {},
   "source": [
    "GPU aktieviere"
   ]
  },
  {
   "cell_type": "code",
   "execution_count": 25,
   "metadata": {},
   "outputs": [
    {
     "name": "stdout",
     "output_type": "stream",
     "text": [
      "CUDA verfügbar: True\n",
      "GPU: NVIDIA GeForce RTX 4060 Ti\n"
     ]
    }
   ],
   "source": [
    "import torch\n",
    "\n",
    "# Prüfen, ob CUDA (GPU) verfügbar ist\n",
    "print(\"CUDA verfügbar:\", torch.cuda.is_available())\n",
    "\n",
    "# Wenn CUDA verfügbar ist, die GPU verwenden\n",
    "if torch.cuda.is_available():\n",
    "    device = torch.device(\"cuda\")\n",
    "    print(\"GPU:\", torch.cuda.get_device_name(0))\n",
    "else:\n",
    "    device = torch.device(\"cpu\")\n",
    "    print(\"Verwende CPU\")\n",
    "\n",
    "# model auf GPU verschieben\n",
    "\n",
    "    # Sicherstellen, dass das Modell auf der GPU ist, wenn verfügbar\n",
    "model = model.to(device)\n",
    "\n"
   ]
  },
  {
   "cell_type": "markdown",
   "metadata": {},
   "source": [
    "Der `SetFitTrainer` wird instanziiert, um das Modell auf den Trainings- und Evaluierungsdatensätzen zu trainieren. Eine Bewertung des Modells wird erst zu einem späteren Zeitpunkt möglich, wenn Testdaten vorliegen.\n",
    "\n",
    "1. Das vortrainierte `model` (siehe oben) wird als Grundlage für das Training verwendet, das auf dem Few-Shot Learning-Ansatz basiert. `paraphrase-mpnet-base-v2` ist ein vortrainiertes Modell aus der Sentence Transformers-Familie, das speziell für die Aufgabe der semantischen Textähnlichkeit und Paraphrasenerkennung entwickelt wurde. \n",
    "2. Der `train_dataset` enthält die Trainingsdaten, und der `eval_dataset` wird zu einem späteren Zeitpunkt genutzt, um die Klassifikations-Leistung des Modells während des Trainings zu bewerten.\n",
    "3. Die Verlustfunktion (`loss_class`) wird als *Cosine Similarity Loss* festgelegt. Die *Cosine Similarity Loss* ist eine Verlustfunktion, die darauf basiert, wie ähnlich sich zwei Vektoren sind. In diesem Fall werden die Ausgabevektoren des Modells und die Zielvektoren (also die \"Labels\") mithilfe der Kosinus-Ähnlichkeit verglichen. Je höher die Ähnlichkeit also, desto besser das Modell. \n",
    "4. Die `column_mapping` gibt an, welche Spalten in den Datensätzen die Texte (`sentence` → `text`) und die zugehörigen Labels (`labels` → `label`) enthalten, sodass das Modell die Daten korrekt interpretieren kann.\n"
   ]
  },
  {
   "cell_type": "code",
   "execution_count": 26,
   "metadata": {},
   "outputs": [
    {
     "name": "stderr",
     "output_type": "stream",
     "text": [
      "C:\\Users\\Hueck\\AppData\\Local\\Temp\\ipykernel_7592\\2679062307.py:1: DeprecationWarning: `SetFitTrainer` has been deprecated and will be removed in v2.0.0 of SetFit. Please use `Trainer` instead.\n",
      "  trainer = SetFitTrainer(\n",
      "Applying column mapping to the training dataset\n",
      "c:\\Users\\Hueck\\AppData\\Local\\Programs\\Python\\Python312\\Lib\\site-packages\\datasets\\utils\\_dill.py:379: DeprecationWarning: co_lnotab is deprecated, use co_lines instead.\n",
      "  obj.co_lnotab,  # for < python 3.10 [not counted in args]\n"
     ]
    },
    {
     "data": {
      "application/vnd.jupyter.widget-view+json": {
       "model_id": "1059896f94c14a3da69a494bd2437918",
       "version_major": 2,
       "version_minor": 0
      },
      "text/plain": [
       "Map:   0%|          | 0/362 [00:00<?, ? examples/s]"
      ]
     },
     "metadata": {},
     "output_type": "display_data"
    }
   ],
   "source": [
    "trainer = SetFitTrainer(\n",
    "    model=model,\n",
    "    train_dataset=dataset, \n",
    "    #eval_dataset=eval_dataset,\n",
    "    loss_class=CosineSimilarityLoss,\n",
    "    num_iterations=40, \n",
    "    num_epochs=2,\n",
    "    column_mapping={\"sentence\": \"text\", \"labels\": \"label\"}\n",
    ")"
   ]
  },
  {
   "cell_type": "markdown",
   "metadata": {},
   "source": [
    "Nun kann das Training beginnen: "
   ]
  },
  {
   "cell_type": "code",
   "execution_count": 27,
   "metadata": {},
   "outputs": [
    {
     "name": "stderr",
     "output_type": "stream",
     "text": [
      "***** Running training *****\n",
      "  Num unique pairs = 28960\n",
      "  Batch size = 16\n",
      "  Num epochs = 2\n"
     ]
    },
    {
     "data": {
      "application/vnd.jupyter.widget-view+json": {
       "model_id": "15c601ae4edf4013948e18cbb60a46f3",
       "version_major": 2,
       "version_minor": 0
      },
      "text/plain": [
       "  0%|          | 0/3620 [00:00<?, ?it/s]"
      ]
     },
     "metadata": {},
     "output_type": "display_data"
    },
    {
     "name": "stdout",
     "output_type": "stream",
     "text": [
      "{'embedding_loss': 0.2218, 'grad_norm': 2.095167398452759, 'learning_rate': 5.524861878453039e-08, 'epoch': 0.0}\n",
      "{'embedding_loss': 0.2162, 'grad_norm': 1.7631800174713135, 'learning_rate': 2.7624309392265196e-06, 'epoch': 0.03}\n",
      "{'embedding_loss': 0.171, 'grad_norm': 1.5138044357299805, 'learning_rate': 5.524861878453039e-06, 'epoch': 0.06}\n",
      "{'embedding_loss': 0.1561, 'grad_norm': 1.0122721195220947, 'learning_rate': 8.287292817679558e-06, 'epoch': 0.08}\n",
      "{'embedding_loss': 0.1432, 'grad_norm': 2.277106285095215, 'learning_rate': 1.1049723756906078e-05, 'epoch': 0.11}\n",
      "{'embedding_loss': 0.1406, 'grad_norm': 1.8083763122558594, 'learning_rate': 1.3812154696132598e-05, 'epoch': 0.14}\n",
      "{'embedding_loss': 0.1296, 'grad_norm': 1.8593485355377197, 'learning_rate': 1.6574585635359117e-05, 'epoch': 0.17}\n",
      "{'embedding_loss': 0.1127, 'grad_norm': 1.8592171669006348, 'learning_rate': 1.9337016574585635e-05, 'epoch': 0.19}\n",
      "{'embedding_loss': 0.1001, 'grad_norm': 0.930862545967102, 'learning_rate': 1.9766728054020873e-05, 'epoch': 0.22}\n",
      "{'embedding_loss': 0.0954, 'grad_norm': 1.029440999031067, 'learning_rate': 1.9459791282995705e-05, 'epoch': 0.25}\n",
      "{'embedding_loss': 0.0876, 'grad_norm': 1.0100197792053223, 'learning_rate': 1.9152854511970537e-05, 'epoch': 0.28}\n"
     ]
    },
    {
     "data": {
      "application/vnd.jupyter.widget-view+json": {
       "model_id": "c137df7a128f49078ae2a8fb496e3b1f",
       "version_major": 2,
       "version_minor": 0
      },
      "text/plain": [
       "Computing widget examples:   0%|          | 0/5 [00:00<?, ?example/s]"
      ]
     },
     "metadata": {},
     "output_type": "display_data"
    },
    {
     "name": "stdout",
     "output_type": "stream",
     "text": [
      "{'embedding_loss': 0.0848, 'grad_norm': 1.2511671781539917, 'learning_rate': 1.884591774094537e-05, 'epoch': 0.3}\n",
      "{'embedding_loss': 0.0698, 'grad_norm': 1.348893642425537, 'learning_rate': 1.8538980969920198e-05, 'epoch': 0.33}\n",
      "{'embedding_loss': 0.075, 'grad_norm': 1.6110608577728271, 'learning_rate': 1.823204419889503e-05, 'epoch': 0.36}\n",
      "{'embedding_loss': 0.0721, 'grad_norm': 0.7072257995605469, 'learning_rate': 1.7925107427869862e-05, 'epoch': 0.39}\n",
      "{'embedding_loss': 0.0692, 'grad_norm': 1.486924409866333, 'learning_rate': 1.761817065684469e-05, 'epoch': 0.41}\n",
      "{'embedding_loss': 0.056, 'grad_norm': 1.3084622621536255, 'learning_rate': 1.7311233885819523e-05, 'epoch': 0.44}\n",
      "{'embedding_loss': 0.0626, 'grad_norm': 0.979653537273407, 'learning_rate': 1.7004297114794355e-05, 'epoch': 0.47}\n",
      "{'embedding_loss': 0.0712, 'grad_norm': 1.7086412906646729, 'learning_rate': 1.6697360343769183e-05, 'epoch': 0.5}\n",
      "{'embedding_loss': 0.062, 'grad_norm': 1.352835774421692, 'learning_rate': 1.6390423572744015e-05, 'epoch': 0.52}\n",
      "{'embedding_loss': 0.061, 'grad_norm': 1.178331971168518, 'learning_rate': 1.6083486801718847e-05, 'epoch': 0.55}\n"
     ]
    },
    {
     "data": {
      "application/vnd.jupyter.widget-view+json": {
       "model_id": "c2070c4031be48568ee62c8a88c10646",
       "version_major": 2,
       "version_minor": 0
      },
      "text/plain": [
       "Computing widget examples:   0%|          | 0/5 [00:00<?, ?example/s]"
      ]
     },
     "metadata": {},
     "output_type": "display_data"
    },
    {
     "name": "stdout",
     "output_type": "stream",
     "text": [
      "{'embedding_loss': 0.0598, 'grad_norm': 1.324448823928833, 'learning_rate': 1.577655003069368e-05, 'epoch': 0.58}\n",
      "{'embedding_loss': 0.0577, 'grad_norm': 1.6277717351913452, 'learning_rate': 1.546961325966851e-05, 'epoch': 0.61}\n",
      "{'embedding_loss': 0.0557, 'grad_norm': 1.285811185836792, 'learning_rate': 1.516267648864334e-05, 'epoch': 0.64}\n",
      "{'embedding_loss': 0.0586, 'grad_norm': 0.6499227285385132, 'learning_rate': 1.4855739717618172e-05, 'epoch': 0.66}\n",
      "{'embedding_loss': 0.0559, 'grad_norm': 1.6145341396331787, 'learning_rate': 1.4548802946593004e-05, 'epoch': 0.69}\n",
      "{'embedding_loss': 0.0524, 'grad_norm': 1.8677901029586792, 'learning_rate': 1.4241866175567833e-05, 'epoch': 0.72}\n",
      "{'embedding_loss': 0.0583, 'grad_norm': 1.0391781330108643, 'learning_rate': 1.3934929404542665e-05, 'epoch': 0.75}\n",
      "{'embedding_loss': 0.0539, 'grad_norm': 1.8574340343475342, 'learning_rate': 1.3627992633517497e-05, 'epoch': 0.77}\n",
      "{'embedding_loss': 0.0517, 'grad_norm': 1.3630125522613525, 'learning_rate': 1.3321055862492327e-05, 'epoch': 0.8}\n",
      "{'embedding_loss': 0.0512, 'grad_norm': 0.9187607765197754, 'learning_rate': 1.301411909146716e-05, 'epoch': 0.83}\n"
     ]
    },
    {
     "data": {
      "application/vnd.jupyter.widget-view+json": {
       "model_id": "aa13e95babe24fabb4a433adc2aa0f14",
       "version_major": 2,
       "version_minor": 0
      },
      "text/plain": [
       "Computing widget examples:   0%|          | 0/5 [00:00<?, ?example/s]"
      ]
     },
     "metadata": {},
     "output_type": "display_data"
    },
    {
     "name": "stdout",
     "output_type": "stream",
     "text": [
      "{'embedding_loss': 0.052, 'grad_norm': 0.9366291761398315, 'learning_rate': 1.2707182320441991e-05, 'epoch': 0.86}\n",
      "{'embedding_loss': 0.0514, 'grad_norm': 1.0957683324813843, 'learning_rate': 1.240024554941682e-05, 'epoch': 0.88}\n",
      "{'embedding_loss': 0.0527, 'grad_norm': 0.8148396611213684, 'learning_rate': 1.2093308778391652e-05, 'epoch': 0.91}\n",
      "{'embedding_loss': 0.0518, 'grad_norm': 0.7496290802955627, 'learning_rate': 1.1786372007366484e-05, 'epoch': 0.94}\n",
      "{'embedding_loss': 0.0495, 'grad_norm': 1.3720630407333374, 'learning_rate': 1.1479435236341315e-05, 'epoch': 0.97}\n",
      "{'embedding_loss': 0.05, 'grad_norm': 1.3384957313537598, 'learning_rate': 1.1172498465316147e-05, 'epoch': 0.99}\n",
      "{'embedding_loss': 0.0446, 'grad_norm': 0.9279124140739441, 'learning_rate': 1.0865561694290975e-05, 'epoch': 1.02}\n",
      "{'embedding_loss': 0.0479, 'grad_norm': 1.2101846933364868, 'learning_rate': 1.0558624923265807e-05, 'epoch': 1.05}\n",
      "{'embedding_loss': 0.0471, 'grad_norm': 1.129381537437439, 'learning_rate': 1.025168815224064e-05, 'epoch': 1.08}\n",
      "{'embedding_loss': 0.0456, 'grad_norm': 1.4683951139450073, 'learning_rate': 9.944751381215471e-06, 'epoch': 1.1}\n"
     ]
    },
    {
     "data": {
      "application/vnd.jupyter.widget-view+json": {
       "model_id": "ab7c397a51f64909aaed70b2767de7ea",
       "version_major": 2,
       "version_minor": 0
      },
      "text/plain": [
       "Computing widget examples:   0%|          | 0/5 [00:00<?, ?example/s]"
      ]
     },
     "metadata": {},
     "output_type": "display_data"
    },
    {
     "name": "stdout",
     "output_type": "stream",
     "text": [
      "{'embedding_loss': 0.0487, 'grad_norm': 0.597194492816925, 'learning_rate': 9.637814610190302e-06, 'epoch': 1.13}\n",
      "{'embedding_loss': 0.0514, 'grad_norm': 1.0637823343276978, 'learning_rate': 9.330877839165132e-06, 'epoch': 1.16}\n",
      "{'embedding_loss': 0.0523, 'grad_norm': 0.5381145477294922, 'learning_rate': 9.023941068139964e-06, 'epoch': 1.19}\n",
      "{'embedding_loss': 0.0461, 'grad_norm': 1.0548923015594482, 'learning_rate': 8.717004297114795e-06, 'epoch': 1.22}\n",
      "{'embedding_loss': 0.0443, 'grad_norm': 0.7666592597961426, 'learning_rate': 8.410067526089627e-06, 'epoch': 1.24}\n",
      "{'embedding_loss': 0.0502, 'grad_norm': 0.8946970105171204, 'learning_rate': 8.103130755064459e-06, 'epoch': 1.27}\n",
      "{'embedding_loss': 0.0465, 'grad_norm': 0.5663970708847046, 'learning_rate': 7.796193984039289e-06, 'epoch': 1.3}\n",
      "{'embedding_loss': 0.0476, 'grad_norm': 1.0426188707351685, 'learning_rate': 7.489257213014119e-06, 'epoch': 1.33}\n",
      "{'embedding_loss': 0.0417, 'grad_norm': 1.0943365097045898, 'learning_rate': 7.182320441988951e-06, 'epoch': 1.35}\n",
      "{'embedding_loss': 0.049, 'grad_norm': 0.6740124225616455, 'learning_rate': 6.875383670963783e-06, 'epoch': 1.38}\n"
     ]
    },
    {
     "data": {
      "application/vnd.jupyter.widget-view+json": {
       "model_id": "dd514460ef224ea98872d69fa44c77d4",
       "version_major": 2,
       "version_minor": 0
      },
      "text/plain": [
       "Computing widget examples:   0%|          | 0/5 [00:00<?, ?example/s]"
      ]
     },
     "metadata": {},
     "output_type": "display_data"
    },
    {
     "name": "stdout",
     "output_type": "stream",
     "text": [
      "{'embedding_loss': 0.0449, 'grad_norm': 0.6468573808670044, 'learning_rate': 6.568446899938613e-06, 'epoch': 1.41}\n",
      "{'embedding_loss': 0.0428, 'grad_norm': 0.9548712968826294, 'learning_rate': 6.261510128913444e-06, 'epoch': 1.44}\n",
      "{'embedding_loss': 0.039, 'grad_norm': 1.1300393342971802, 'learning_rate': 5.954573357888276e-06, 'epoch': 1.46}\n",
      "{'embedding_loss': 0.0442, 'grad_norm': 0.7490465044975281, 'learning_rate': 5.6476365868631065e-06, 'epoch': 1.49}\n",
      "{'embedding_loss': 0.0442, 'grad_norm': 1.0758932828903198, 'learning_rate': 5.340699815837938e-06, 'epoch': 1.52}\n",
      "{'embedding_loss': 0.0436, 'grad_norm': 1.2922337055206299, 'learning_rate': 5.03376304481277e-06, 'epoch': 1.55}\n",
      "{'embedding_loss': 0.0435, 'grad_norm': 1.2760204076766968, 'learning_rate': 4.7268262737876e-06, 'epoch': 1.57}\n",
      "{'embedding_loss': 0.0469, 'grad_norm': 1.158530354499817, 'learning_rate': 4.419889502762431e-06, 'epoch': 1.6}\n",
      "{'embedding_loss': 0.0474, 'grad_norm': 1.045088529586792, 'learning_rate': 4.1129527317372626e-06, 'epoch': 1.63}\n",
      "{'embedding_loss': 0.0442, 'grad_norm': 1.2752729654312134, 'learning_rate': 3.8060159607120938e-06, 'epoch': 1.66}\n"
     ]
    },
    {
     "data": {
      "application/vnd.jupyter.widget-view+json": {
       "model_id": "90dd5569175e470faa77e50d542f0626",
       "version_major": 2,
       "version_minor": 0
      },
      "text/plain": [
       "Computing widget examples:   0%|          | 0/5 [00:00<?, ?example/s]"
      ]
     },
     "metadata": {},
     "output_type": "display_data"
    },
    {
     "name": "stdout",
     "output_type": "stream",
     "text": [
      "{'embedding_loss': 0.0455, 'grad_norm': 1.0911186933517456, 'learning_rate': 3.4990791896869245e-06, 'epoch': 1.69}\n",
      "{'embedding_loss': 0.044, 'grad_norm': 0.6668357849121094, 'learning_rate': 3.192142418661756e-06, 'epoch': 1.71}\n",
      "{'embedding_loss': 0.0464, 'grad_norm': 0.9320376515388489, 'learning_rate': 2.885205647636587e-06, 'epoch': 1.74}\n",
      "{'embedding_loss': 0.046, 'grad_norm': 0.7753127217292786, 'learning_rate': 2.578268876611418e-06, 'epoch': 1.77}\n",
      "{'embedding_loss': 0.0417, 'grad_norm': 0.8578892946243286, 'learning_rate': 2.2713321055862494e-06, 'epoch': 1.8}\n",
      "{'embedding_loss': 0.0449, 'grad_norm': 0.7696364521980286, 'learning_rate': 1.9643953345610806e-06, 'epoch': 1.82}\n",
      "{'embedding_loss': 0.0435, 'grad_norm': 1.135198712348938, 'learning_rate': 1.6574585635359118e-06, 'epoch': 1.85}\n",
      "{'embedding_loss': 0.04, 'grad_norm': 0.6484357714653015, 'learning_rate': 1.3505217925107427e-06, 'epoch': 1.88}\n",
      "{'embedding_loss': 0.0452, 'grad_norm': 0.48058751225471497, 'learning_rate': 1.043585021485574e-06, 'epoch': 1.91}\n",
      "{'embedding_loss': 0.0398, 'grad_norm': 0.8530325293540955, 'learning_rate': 7.366482504604053e-07, 'epoch': 1.93}\n"
     ]
    },
    {
     "data": {
      "application/vnd.jupyter.widget-view+json": {
       "model_id": "ed11f0d37b8c47bfa3d75cc34f8f2ff7",
       "version_major": 2,
       "version_minor": 0
      },
      "text/plain": [
       "Computing widget examples:   0%|          | 0/5 [00:00<?, ?example/s]"
      ]
     },
     "metadata": {},
     "output_type": "display_data"
    },
    {
     "name": "stdout",
     "output_type": "stream",
     "text": [
      "{'embedding_loss': 0.0468, 'grad_norm': 0.5405465364456177, 'learning_rate': 4.297114794352364e-07, 'epoch': 1.96}\n",
      "{'embedding_loss': 0.0397, 'grad_norm': 0.7114013433456421, 'learning_rate': 1.2277470841006753e-07, 'epoch': 1.99}\n"
     ]
    },
    {
     "data": {
      "application/vnd.jupyter.widget-view+json": {
       "model_id": "c8ecafc1cfc5423d8a05d1c570ce3675",
       "version_major": 2,
       "version_minor": 0
      },
      "text/plain": [
       "Computing widget examples:   0%|          | 0/5 [00:00<?, ?example/s]"
      ]
     },
     "metadata": {},
     "output_type": "display_data"
    },
    {
     "name": "stdout",
     "output_type": "stream",
     "text": [
      "{'train_runtime': 541.5306, 'train_samples_per_second': 106.956, 'train_steps_per_second': 6.685, 'train_loss': 0.06277019726884299, 'epoch': 2.0}\n"
     ]
    }
   ],
   "source": [
    "trainer.train()"
   ]
  },
  {
   "cell_type": "code",
   "execution_count": 28,
   "metadata": {},
   "outputs": [],
   "source": [
    "# Speichern des Modells auf deinem PC\n",
    "model.save_pretrained(\"models\")  # Ersetze den Pfad durch deinen gewünschten Speicherort"
   ]
  },
  {
   "cell_type": "code",
   "execution_count": 15,
   "metadata": {},
   "outputs": [],
   "source": [
    "# # Modell evaluieren (Nur bei vorhandensein von Testdaten)\n",
    "# metrics = trainer.evaluate()\n",
    "# metrics\n"
   ]
  },
  {
   "cell_type": "code",
   "execution_count": 21,
   "metadata": {},
   "outputs": [
    {
     "data": {
      "application/vnd.jupyter.widget-view+json": {
       "model_id": "b094068ee5244389946161329da27319",
       "version_major": 2,
       "version_minor": 0
      },
      "text/plain": [
       "model.safetensors:   0%|          | 0.00/471M [00:00<?, ?B/s]"
      ]
     },
     "metadata": {},
     "output_type": "display_data"
    },
    {
     "data": {
      "application/vnd.jupyter.widget-view+json": {
       "model_id": "fcf79b856e954c2cb16f372ed1870e4d",
       "version_major": 2,
       "version_minor": 0
      },
      "text/plain": [
       "unigram.json:   0%|          | 0.00/14.8M [00:00<?, ?B/s]"
      ]
     },
     "metadata": {},
     "output_type": "display_data"
    },
    {
     "data": {
      "application/vnd.jupyter.widget-view+json": {
       "model_id": "c0f24b2b902b4a36944880bda9417910",
       "version_major": 2,
       "version_minor": 0
      },
      "text/plain": [
       "model_head.pkl:   0%|          | 0.00/21.4k [00:00<?, ?B/s]"
      ]
     },
     "metadata": {},
     "output_type": "display_data"
    },
    {
     "data": {
      "application/vnd.jupyter.widget-view+json": {
       "model_id": "e85dc14dcabd472d8ffbbf194aedf4c2",
       "version_major": 2,
       "version_minor": 0
      },
      "text/plain": [
       "tokenizer.json:   0%|          | 0.00/17.1M [00:00<?, ?B/s]"
      ]
     },
     "metadata": {},
     "output_type": "display_data"
    },
    {
     "data": {
      "application/vnd.jupyter.widget-view+json": {
       "model_id": "162516fbfc54436785840d0175e4208d",
       "version_major": 2,
       "version_minor": 0
      },
      "text/plain": [
       "Upload 4 LFS files:   0%|          | 0/4 [00:00<?, ?it/s]"
      ]
     },
     "metadata": {},
     "output_type": "display_data"
    },
    {
     "data": {
      "text/plain": [
       "CommitInfo(commit_url='https://huggingface.co/Chernoffface/fs-setfit-multilable-model/commit/587080c871a8bd3e090274308632a0a2e20cabfd', commit_message='Add SetFit model', commit_description='', oid='587080c871a8bd3e090274308632a0a2e20cabfd', pr_url=None, pr_revision=None, pr_num=None)"
      ]
     },
     "execution_count": 21,
     "metadata": {},
     "output_type": "execute_result"
    }
   ],
   "source": [
    "trainer.push_to_hub(\"Chernoffface/fs-setfit-multilable-model\")"
   ]
  },
  {
   "cell_type": "code",
   "execution_count": 22,
   "metadata": {},
   "outputs": [
    {
     "data": {
      "application/vnd.jupyter.widget-view+json": {
       "model_id": "3d145b761ea6422680cb32801ef95355",
       "version_major": 2,
       "version_minor": 0
      },
      "text/plain": [
       "config.json:   0%|          | 0.00/727 [00:00<?, ?B/s]"
      ]
     },
     "metadata": {},
     "output_type": "display_data"
    },
    {
     "data": {
      "application/vnd.jupyter.widget-view+json": {
       "model_id": "952c2e38007c4e90afa687f97b0c9eb1",
       "version_major": 2,
       "version_minor": 0
      },
      "text/plain": [
       "modules.json:   0%|          | 0.00/242 [00:00<?, ?B/s]"
      ]
     },
     "metadata": {},
     "output_type": "display_data"
    },
    {
     "data": {
      "application/vnd.jupyter.widget-view+json": {
       "model_id": "b188ab64004341558c59c4d74317c576",
       "version_major": 2,
       "version_minor": 0
      },
      "text/plain": [
       "config_sentence_transformers.json:   0%|          | 0.00/209 [00:00<?, ?B/s]"
      ]
     },
     "metadata": {},
     "output_type": "display_data"
    },
    {
     "data": {
      "application/vnd.jupyter.widget-view+json": {
       "model_id": "47073efe21a44e26bbc3d6a5fc36ca23",
       "version_major": 2,
       "version_minor": 0
      },
      "text/plain": [
       "README.md:   0%|          | 0.00/10.4k [00:00<?, ?B/s]"
      ]
     },
     "metadata": {},
     "output_type": "display_data"
    },
    {
     "data": {
      "application/vnd.jupyter.widget-view+json": {
       "model_id": "d0f4302a3a7c48db800e4f14cd4e6369",
       "version_major": 2,
       "version_minor": 0
      },
      "text/plain": [
       "sentence_bert_config.json:   0%|          | 0.00/56.0 [00:00<?, ?B/s]"
      ]
     },
     "metadata": {},
     "output_type": "display_data"
    },
    {
     "data": {
      "application/vnd.jupyter.widget-view+json": {
       "model_id": "d7698c53fe1748e1b6d138768e674dc9",
       "version_major": 2,
       "version_minor": 0
      },
      "text/plain": [
       "model.safetensors:   0%|          | 0.00/471M [00:00<?, ?B/s]"
      ]
     },
     "metadata": {},
     "output_type": "display_data"
    },
    {
     "data": {
      "application/vnd.jupyter.widget-view+json": {
       "model_id": "fe48d367f10648c587c38674379b1f1f",
       "version_major": 2,
       "version_minor": 0
      },
      "text/plain": [
       "tokenizer_config.json:   0%|          | 0.00/1.48k [00:00<?, ?B/s]"
      ]
     },
     "metadata": {},
     "output_type": "display_data"
    },
    {
     "data": {
      "application/vnd.jupyter.widget-view+json": {
       "model_id": "3333215c3824487eafc5f1f99aa4e274",
       "version_major": 2,
       "version_minor": 0
      },
      "text/plain": [
       "vocab.txt:   0%|          | 0.00/232k [00:00<?, ?B/s]"
      ]
     },
     "metadata": {},
     "output_type": "display_data"
    },
    {
     "data": {
      "application/vnd.jupyter.widget-view+json": {
       "model_id": "50218e0dfddb4efa870e58b809bf025e",
       "version_major": 2,
       "version_minor": 0
      },
      "text/plain": [
       "tokenizer.json:   0%|          | 0.00/17.1M [00:00<?, ?B/s]"
      ]
     },
     "metadata": {},
     "output_type": "display_data"
    },
    {
     "data": {
      "application/vnd.jupyter.widget-view+json": {
       "model_id": "06cfb9a19ca14666906a2ddf0c40cc06",
       "version_major": 2,
       "version_minor": 0
      },
      "text/plain": [
       "special_tokens_map.json:   0%|          | 0.00/1.01k [00:00<?, ?B/s]"
      ]
     },
     "metadata": {},
     "output_type": "display_data"
    },
    {
     "data": {
      "application/vnd.jupyter.widget-view+json": {
       "model_id": "9b02ae4f6d6b44318ebc070d45eb99b9",
       "version_major": 2,
       "version_minor": 0
      },
      "text/plain": [
       "1_Pooling/config.json:   0%|          | 0.00/305 [00:00<?, ?B/s]"
      ]
     },
     "metadata": {},
     "output_type": "display_data"
    },
    {
     "data": {
      "application/vnd.jupyter.widget-view+json": {
       "model_id": "d7e8782ad28f41a489effefda2c8876e",
       "version_major": 2,
       "version_minor": 0
      },
      "text/plain": [
       "config_setfit.json:   0%|          | 0.00/56.0 [00:00<?, ?B/s]"
      ]
     },
     "metadata": {},
     "output_type": "display_data"
    },
    {
     "data": {
      "application/vnd.jupyter.widget-view+json": {
       "model_id": "fbbda87bde334236aa2647b3adf38611",
       "version_major": 2,
       "version_minor": 0
      },
      "text/plain": [
       "model_head.pkl:   0%|          | 0.00/21.4k [00:00<?, ?B/s]"
      ]
     },
     "metadata": {},
     "output_type": "display_data"
    }
   ],
   "source": [
    "from setfit import SetFitModel\n",
    "\n",
    "model = SetFitModel.from_pretrained(\"Chernoffface/fs-setfit-multilable-model\")"
   ]
  },
  {
   "cell_type": "code",
   "execution_count": 23,
   "metadata": {},
   "outputs": [
    {
     "data": {
      "text/plain": [
       "[['Hardware-/Robotikentwicklung'],\n",
       " ['Quantencomputing'],\n",
       " ['Softwareentwicklung', 'Data Analytics & KI'],\n",
       " []]"
      ]
     },
     "execution_count": 23,
     "metadata": {},
     "output_type": "execute_result"
    }
   ],
   "source": [
    "preds = model(\n",
    "    [\n",
    "        \"Automation Projects, Automation Methods, Development Methods for Automation Systems, Automation with Qualitative Models, Safety and Reliability of Automation Systems\",\n",
    "        \"Inhalt: I) Grundlagen - Motivation - Grundelemente der Quantenmechanik - Erinnerung II) Streuung in der Quantenmechanik - Formulierung des Streuproblems - Partialwellenentwicklung und Streuobservablen - Näherungsmethoden III) Quantenmechanisches Vielteilchenproblem - Unterscheidbare vs. identische Teilchen - Symmetrische und antisymmetrische Vielteilchenzustände - Zweite Quantisierung - Exakte Lösungen und Näherungsmethoden - Hartree-Fock & Gross-Pitaevskii Näherung IV) Relativistische Quantenmechanik - Erinnerung an die spez.\",\n",
    "        \"Die Themen umfassen die Architektur moderner Spielesysteme, sowohl Hard- als auch Software, das Zeitmanagement im Millisekundenbereich, das Laden und Komprimieren von Assets sowie das physikalisch basierte Echtzeit-Rendering und Animationen. Weitere Schwerpunkte sind der Umgang mit großen Spielwelten, die Audiomodellierung und -mischung, physikbasierte Simulationen mittels Constraints sowie der Einsatz von künstlicher Intelligenz in Spielen. Zudem werden die Netzwerkkommunikation in Multiplayer-Spielen, die prozedurale Erstellung von Inhalten, die Integration von Skriptsprachen und die Optimierung sowie Parallelisierung von CPU- und GPU-Code behandelt. Die Übungen kombinieren dabei theoretische Grundlagen mit praktischen Anwendungen.\",\n",
    "        \"Im Mittelpunkt des Seminars steht die neue Renaissance-Poesie, die aus Italien kommend die traditionelle spanische Lyrik zurückdrängt. Dichtungsformen und Inhalte werden beschrieben und die Wirkung auf die Literatur des siglo de oro festgehalten. Textausgaben: Juan Boscán, Obra completa, ed. Carlos Clavería, Madrid: Cátedra,  ISBN 978-84-376-1685-8 Garcilaso de la Vega, Poesia castellana completa, Madrid: Cátedra ISBN 978-84-376-0067-3 Die Texte sollen angeschafft werden. Weitere Texte werden gegebenenfalls vervielfältigt.\"\n",
    "    ]\n",
    ")\n",
    "[[f for f, p in zip(features, ps) if p] for ps in preds]"
   ]
  }
 ],
 "metadata": {
  "kernelspec": {
   "display_name": "Python 3",
   "language": "python",
   "name": "python3"
  },
  "language_info": {
   "codemirror_mode": {
    "name": "ipython",
    "version": 3
   },
   "file_extension": ".py",
   "mimetype": "text/x-python",
   "name": "python",
   "nbconvert_exporter": "python",
   "pygments_lexer": "ipython3",
   "version": "3.12.3"
  }
 },
 "nbformat": 4,
 "nbformat_minor": 2
}
