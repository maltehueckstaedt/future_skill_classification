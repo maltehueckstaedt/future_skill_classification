{
 "cells": [
  {
   "cell_type": "markdown",
   "metadata": {},
   "source": [
    "# Python: Virtual Environments\n",
    "\n",
    "## Was ist ein virtuelles Environment?\n",
    "\n",
    "Eine virtuelle Umgebung in Python ist ein isolierter Arbeitsbereich, in dem  eine eigene Python-Installation mit separaten Abhängigkeiten (Bibliotheken) erstellt wird. Dadurch können verschiedene Projekte mit unterschiedlichen Versionen von Bibliotheken oder Python selbst verwalten, ohne dass es zu Konflikten zwischen den Projekten kommt.\n",
    "\n",
    "Das Hauptziel einer virtuellen Umgebung ist es, sicherzustellen, dass Abhängigkeiten eines Projekts nicht mit denen eines anderen Projekts kollidieren. Wenn man zum Beispiel für ein Projekt Bibliothek A in Version 1.0 und für ein anderes Projekt dieselbe Bibliothek in Version 2.0 benötigt, kann man für jedes Projekt eine eigene virtuelle Umgebung einrichten, um beide Versionen parallel zu nutzen, ohne das Konflikte zwischen Paketen oder Paketen und Python entstehen.\n",
    "\n",
    "# Warum sollte ein virtuelles Environment genutzt werden?\n",
    "\n",
    "Ein virtuelles Environment in Python bietet mehrere Vorteile, die es zu einem wichtigen Werkzeug machen, insbesondere bei der Arbeit an mehreren Projekten:\n",
    "\n",
    "1. **Isolierung von Abhängigkeiten**: Projekte können unterschiedliche Versionen von Bibliotheken benötigen (ggf. auch zwei Versionen einer Bibliothek gleichzeitig). Ein virtuelles Environment verhindert Konflikte, indem es die Bibliotheken eines Projekts von denen anderer Projekte trennt.\n",
    "2. **Vermeidung von globalen, systemweiten Änderungen**: Ohne ein virtuelles Environment werden Python-Pakete oft global installiert, was zu ungewollten Änderungen an der Systemkonfiguration führen kann. Virtuelle Umgebungen schützen das System vor solchen Änderungen.\n",
    "3. **Kompatibilität:** Unterschiedliche Projekte können unterschiedliche Versionen von Python oder Bibliotheken benötigen. Ein virtuelles Environment erlaubt es, diese parallel laufen zu lassen.\n",
    "4. **Reproduzierbarkeit**: Ein virtuelles Environment erleichtert es, dieselbe Entwicklungsumgebung auf verschiedenen Rechnern oder Servern einzurichten, was die Zusammenarbeit im Team vereinfacht.\n",
    "\n",
    "# "
   ]
  },
  {
   "cell_type": "markdown",
   "metadata": {},
   "source": [
    "# Python: Virtual Environments\n",
    "\n",
    "## Was ist ein virtuelles Environment?\n",
    "\n",
    "Eine virtuelle Umgebung in Python ist ein isolierter Arbeitsbereich, in dem  eine eigene Python-Installation mit separaten Abhängigkeiten (Bibliotheken) erstellt wird. Dadurch können verschiedene Projekte mit unterschiedlichen Versionen von Bibliotheken oder Python selbst verwalten, ohne dass es zu Konflikten zwischen den Projekten kommt.\n",
    "\n",
    "Das Hauptziel einer virtuellen Umgebung ist es, sicherzustellen, dass Abhängigkeiten eines Projekts nicht mit denen eines anderen Projekts kollidieren. Wenn man zum Beispiel für ein Projekt Bibliothek A in Version 1.0 und für ein anderes Projekt dieselbe Bibliothek in Version 2.0 benötigt, kann man für jedes Projekt eine eigene virtuelle Umgebung einrichten, um beide Versionen parallel zu nutzen, ohne das Konflikte zwischen Paketen oder Paketen und Python entstehen.\n",
    "\n",
    "## Warum sollte ein virtuelles Environment genutzt werden?\n",
    "\n",
    "Ein virtuelles Environment in Python bietet mehrere Vorteile, die es zu einem wichtigen Werkzeug machen, insbesondere bei der Arbeit an mehreren Projekten:\n",
    "\n",
    "1. **Isolierung von Abhängigkeiten**: Projekte können unterschiedliche Versionen von Bibliotheken benötigen (ggf. auch zwei Versionen einer Bibliothek gleichzeitig). Ein virtuelles Environment verhindert Konflikte, indem es die Bibliotheken eines Projekts von denen anderer Projekte trennt.\n",
    "2. **Vermeidung von globalen, systemweiten Änderungen**: Ohne ein virtuelles Environment werden Python-Pakete oft global installiert, was zu ungewollten Änderungen an der Systemkonfiguration führen kann. Virtuelle Umgebungen schützen das System vor solchen Änderungen.\n",
    "3. **Kompatibilität:** Unterschiedliche Projekte können unterschiedliche Versionen von Python oder Bibliotheken benötigen. Ein virtuelles Environment erlaubt es, diese parallel laufen zu lassen.\n",
    "4. **Reproduzierbarkeit**: Ein virtuelles Environment erleichtert es, dieselbe Entwicklungsumgebung auf verschiedenen Rechnern oder Servern einzurichten, was die Zusammenarbeit im Team vereinfacht.\n",
    "\n",
    " \n",
    " ## Conda Enviorment\n",
    "\n",
    "Ursprünglich war es geplant, mit dem Paket [`poetry`](https://python-poetry.org/docs/) ein Enviorment zu erzeugen. Da es sich als extrem schwierig gestaltete, `PyTorch` in der Reproduktion eines Poetry-Environments zu installieren, wurde dem [`Conda-Environment`](https://docs.conda.io/projects/conda/en/latest/user-guide/getting-started.html#creating-environments) der Vorzug gegeben. \n",
    "\n",
    "Wir erzeugen dementsprechend ein Conda-Environment mit dem Namen `fs_skills_classifier_env`:"
   ]
  },
  {
   "cell_type": "code",
   "execution_count": null,
   "metadata": {},
   "outputs": [
    {
     "name": "stdout",
     "output_type": "stream",
     "text": [
      "^C\n"
     ]
    }
   ],
   "source": [
    "#!conda create -n fs_skills_classifier_env python=3.12"
   ]
  },
  {
   "cell_type": "markdown",
   "metadata": {},
   "source": [
    "Wir installieren nun alle für `Tiny_Few_Shot_Multi_Lable_Classifer.ipynb` nötigen Pakete. [Weil Torch/Cuda besonders kritisch zu installieren ist](https://medium.com/decodingml/the-step-by-step-guide-on-how-to-install-pytorch-with-cuda-support-in-all-possible-ways-147b3f34085c), beginnen wir mit Torch:"
   ]
  },
  {
   "cell_type": "code",
   "execution_count": null,
   "metadata": {},
   "outputs": [],
   "source": [
    "# !pip install torch==2.5.0+cu121 torchvision --index-url https://download.pytorch.org/whl/cu121\n",
    "# !pip install datasets\n",
    "# usw. "
   ]
  },
  {
   "cell_type": "markdown",
   "metadata": {},
   "source": [
    "Nach dem allen nötigen Pakete installiert wurden, können wir das Environment folgendermaßen aktivieren, deaktivieren und überprüfen, ob es aktiv genutzt wird:"
   ]
  },
  {
   "cell_type": "code",
   "execution_count": null,
   "metadata": {},
   "outputs": [],
   "source": [
    "!conda activate fs_skills_classifier_env\n",
    "!conda deactivate\n",
    "!conda info --envs"
   ]
  },
  {
   "cell_type": "markdown",
   "metadata": {},
   "source": [
    "Um das Environment auch auf anderen Rechnern nutzen zu können, exportieren wir eine `environment.yaml`:"
   ]
  },
  {
   "cell_type": "code",
   "execution_count": 1,
   "metadata": {},
   "outputs": [
    {
     "name": "stdout",
     "output_type": "stream",
     "text": [
      "\n",
      "Note: you may need to restart the kernel to use updated packages.\n"
     ]
    }
   ],
   "source": [
    "conda env export --no-builds > environment.yaml"
   ]
  },
  {
   "cell_type": "markdown",
   "metadata": {},
   "source": [
    "Um das entsprechende Environment zu installieren, gehen wir in das nutzen wir folgenden, simplen Befehl: "
   ]
  },
  {
   "cell_type": "code",
   "execution_count": null,
   "metadata": {},
   "outputs": [],
   "source": [
    "conda env create -f environment.yaml"
   ]
  }
 ],
 "metadata": {
  "kernelspec": {
   "display_name": "fs_skills_classifier_env",
   "language": "python",
   "name": "python3"
  },
  "language_info": {
   "codemirror_mode": {
    "name": "ipython",
    "version": 3
   },
   "file_extension": ".py",
   "mimetype": "text/x-python",
   "name": "python",
   "nbconvert_exporter": "python",
   "pygments_lexer": "ipython3",
   "version": "3.12.7"
  }
 },
 "nbformat": 4,
 "nbformat_minor": 2
}
