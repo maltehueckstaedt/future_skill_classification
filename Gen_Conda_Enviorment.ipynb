{
 "cells": [
  {
   "cell_type": "markdown",
   "metadata": {},
   "source": [
    "# Python: Virtual Environments\n",
    "\n",
    "## Was ist ein virtuelles Environment?\n",
    "\n",
    "Eine virtuelle Umgebung in Python ist ein isolierter Arbeitsbereich, in dem  eine eigene Python-Installation mit separaten Abhängigkeiten (Bibliotheken) erstellt wird. Dadurch können verschiedene Projekte mit unterschiedlichen Versionen von Bibliotheken oder Python selbst verwalten, ohne dass es zu Konflikten zwischen den Projekten kommt.\n",
    "\n",
    "Das Hauptziel einer virtuellen Umgebung ist es, sicherzustellen, dass Abhängigkeiten eines Projekts nicht mit denen eines anderen Projekts kollidieren. Wenn man zum Beispiel für ein Projekt Bibliothek A in Version 1.0 und für ein anderes Projekt dieselbe Bibliothek in Version 2.0 benötigt, kann man für jedes Projekt eine eigene virtuelle Umgebung einrichten, um beide Versionen parallel zu nutzen, ohne das Konflikte zwischen Paketen oder Paketen und Python entstehen.\n",
    "\n",
    "# Warum sollte ein virtuelles Environment genutzt werden?\n",
    "\n",
    "Ein virtuelles Environment in Python bietet mehrere Vorteile, die es zu einem wichtigen Werkzeug machen, insbesondere bei der Arbeit an mehreren Projekten:\n",
    "\n",
    "1. **Isolierung von Abhängigkeiten**: Projekte können unterschiedliche Versionen von Bibliotheken benötigen (ggf. auch zwei Versionen einer Bibliothek gleichzeitig). Ein virtuelles Environment verhindert Konflikte, indem es die Bibliotheken eines Projekts von denen anderer Projekte trennt.\n",
    "2. **Vermeidung von globalen, systemweiten Änderungen**: Ohne ein virtuelles Environment werden Python-Pakete oft global installiert, was zu ungewollten Änderungen an der Systemkonfiguration führen kann. Virtuelle Umgebungen schützen das System vor solchen Änderungen.\n",
    "3. **Kompatibilität:** Unterschiedliche Projekte können unterschiedliche Versionen von Python oder Bibliotheken benötigen. Ein virtuelles Environment erlaubt es, diese parallel laufen zu lassen.\n",
    "4. **Reproduzierbarkeit**: Ein virtuelles Environment erleichtert es, dieselbe Entwicklungsumgebung auf verschiedenen Rechnern oder Servern einzurichten, was die Zusammenarbeit im Team vereinfacht.\n",
    "\n",
    "# "
   ]
  },
  {
   "cell_type": "markdown",
   "metadata": {},
   "source": [
    "# Python: Virtual Environments\n",
    "\n",
    "## Was ist ein virtuelles Environment?\n",
    "\n",
    "Eine virtuelle Umgebung in Python ist ein isolierter Arbeitsbereich, in dem  eine eigene Python-Installation mit separaten Abhängigkeiten (Bibliotheken) erstellt wird. Dadurch können verschiedene Projekte mit unterschiedlichen Versionen von Bibliotheken oder Python selbst verwalten, ohne dass es zu Konflikten zwischen den Projekten kommt.\n",
    "\n",
    "Das Hauptziel einer virtuellen Umgebung ist es, sicherzustellen, dass Abhängigkeiten eines Projekts nicht mit denen eines anderen Projekts kollidieren. Wenn man zum Beispiel für ein Projekt Bibliothek A in Version 1.0 und für ein anderes Projekt dieselbe Bibliothek in Version 2.0 benötigt, kann man für jedes Projekt eine eigene virtuelle Umgebung einrichten, um beide Versionen parallel zu nutzen, ohne das Konflikte zwischen Paketen oder Paketen und Python entstehen.\n",
    "\n",
    "## Warum sollte ein virtuelles Environment genutzt werden?\n",
    "\n",
    "Ein virtuelles Environment in Python bietet mehrere Vorteile, die es zu einem wichtigen Werkzeug machen, insbesondere bei der Arbeit an mehreren Projekten:\n",
    "\n",
    "1. **Isolierung von Abhängigkeiten**: Projekte können unterschiedliche Versionen von Bibliotheken benötigen (ggf. auch zwei Versionen einer Bibliothek gleichzeitig). Ein virtuelles Environment verhindert Konflikte, indem es die Bibliotheken eines Projekts von denen anderer Projekte trennt.\n",
    "2. **Vermeidung von globalen, systemweiten Änderungen**: Ohne ein virtuelles Environment werden Python-Pakete oft global installiert, was zu ungewollten Änderungen an der Systemkonfiguration führen kann. Virtuelle Umgebungen schützen das System vor solchen Änderungen.\n",
    "3. **Kompatibilität:** Unterschiedliche Projekte können unterschiedliche Versionen von Python oder Bibliotheken benötigen. Ein virtuelles Environment erlaubt es, diese parallel laufen zu lassen.\n",
    "4. **Reproduzierbarkeit**: Ein virtuelles Environment erleichtert es, dieselbe Entwicklungsumgebung auf verschiedenen Rechnern oder Servern einzurichten, was die Zusammenarbeit im Team vereinfacht.\n",
    "\n",
    " \n",
    " ## Conda Enviorment\n",
    "\n",
    "installieren von conda"
   ]
  },
  {
   "cell_type": "code",
   "execution_count": null,
   "metadata": {},
   "outputs": [
    {
     "name": "stdout",
     "output_type": "stream",
     "text": [
      "^C\n"
     ]
    }
   ],
   "source": [
    "#!conda create -n fs_skills_classifier_env python=3.12"
   ]
  },
  {
   "cell_type": "markdown",
   "metadata": {},
   "source": [
    "wir installieren nun ach und nach die Pakete. Weil Torch besonders kritisch ist, als erstes Torch mit CUDA:\n",
    "\n"
   ]
  },
  {
   "cell_type": "code",
   "execution_count": null,
   "metadata": {},
   "outputs": [],
   "source": [
    "# !pip install torch==2.5.0+cu121 torchvision --index-url https://download.pytorch.org/whl/cu121\n",
    "# !pip install datasets\n",
    "\n",
    "# usw. "
   ]
  },
  {
   "cell_type": "markdown",
   "metadata": {},
   "source": [
    "Wir können das Enviorment folgendermaßen aktivieren und deaktivieren:"
   ]
  },
  {
   "cell_type": "code",
   "execution_count": null,
   "metadata": {},
   "outputs": [],
   "source": [
    "!conda activate fs_skills_classifier_env\n",
    "conda deactivate\n",
    "conda info --envs\n"
   ]
  },
  {
   "cell_type": "markdown",
   "metadata": {},
   "source": [
    "Überprüfen ob env genutzt wird:"
   ]
  },
  {
   "cell_type": "code",
   "execution_count": 11,
   "metadata": {},
   "outputs": [
    {
     "name": "stdout",
     "output_type": "stream",
     "text": [
      "# conda environments:\n",
      "#\n",
      "base                     C:\\Users\\Hueck\\miniconda3\n",
      "fs_skills_classifier_env  *  C:\\Users\\Hueck\\miniconda3\\envs\\fs_skills_classifier_env\n",
      "                         c:\\Users\\Hueck\\miniconda3\n",
      "fs_skills_classifier_env     c:\\Users\\Hueck\\miniconda3\\envs\\fs_skills_classifier_env\n",
      "\n"
     ]
    }
   ],
   "source": [
    "!conda info --envs\n"
   ]
  },
  {
   "cell_type": "markdown",
   "metadata": {},
   "source": [
    "Exporteren YAML für reproduktion auf anderen Rechnern:"
   ]
  },
  {
   "cell_type": "code",
   "execution_count": null,
   "metadata": {},
   "outputs": [],
   "source": [
    "conda env export --no-builds > environment.yaml\n"
   ]
  }
 ],
 "metadata": {
  "kernelspec": {
   "display_name": "fs_skills_classifier_env",
   "language": "python",
   "name": "python3"
  },
  "language_info": {
   "codemirror_mode": {
    "name": "ipython",
    "version": 3
   },
   "file_extension": ".py",
   "mimetype": "text/x-python",
   "name": "python",
   "nbconvert_exporter": "python",
   "pygments_lexer": "ipython3",
   "version": "3.12.7"
  }
 },
 "nbformat": 4,
 "nbformat_minor": 2
}
